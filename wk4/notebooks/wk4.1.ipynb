{
 "cells": [
  {
   "cell_type": "markdown",
   "metadata": {},
   "source": [
    "# wk4.1\n",
    "\n",
    "# A word on virtual environments"
   ]
  },
  {
   "cell_type": "markdown",
   "metadata": {},
   "source": [
    "`conda create -n virtualenv_name anaconda # Can use any other package besides anaconda for instance python=2`\n",
    "\n",
    "`source activate virtualenv_name`\n",
    "\n",
    "`source deactivate`"
   ]
  },
  {
   "cell_type": "markdown",
   "metadata": {},
   "source": [
    "# Regular expressions"
   ]
  },
  {
   "cell_type": "code",
   "execution_count": null,
   "metadata": {
    "collapsed": false
   },
   "outputs": [],
   "source": [
    "import re\n",
    "hand = open('mbox-short.txt')\n",
    "for line in hand:\n",
    "    line = line.rstrip()\n",
    "    if re.search('^From:', line) :\n",
    "        print(line)"
   ]
  },
  {
   "cell_type": "code",
   "execution_count": null,
   "metadata": {
    "collapsed": false
   },
   "outputs": [],
   "source": [
    "import re\n",
    "hand = open('mbox-short.txt')\n",
    "for line in hand:\n",
    "    line = line.rstrip()\n",
    "    if re.search('^F..m:', line) :\n",
    "        print(line)"
   ]
  },
  {
   "cell_type": "code",
   "execution_count": null,
   "metadata": {
    "collapsed": false
   },
   "outputs": [],
   "source": [
    "import re\n",
    "hand = open('mbox-short.txt')\n",
    "for line in hand:\n",
    "    line = line.rstrip()\n",
    "    if re.search('^R.+: <.+@.+>', line) : # This is greedy!\n",
    "        print(line)"
   ]
  },
  {
   "cell_type": "markdown",
   "metadata": {},
   "source": [
    "# Extracting information\n",
    "```\n",
    "From stephen.marquard@uct.ac.za Sat Jan  5 09:14:16 2008\n",
    "Return-Path: <postmaster@collab.sakaiproject.org>\n",
    "          for <source@collab.sakaiproject.org>;\n",
    "Received: (from apache@localhost)\n",
    "Author: stephen.marquard@uct.ac.za\n",
    "```"
   ]
  },
  {
   "cell_type": "code",
   "execution_count": null,
   "metadata": {
    "collapsed": false
   },
   "outputs": [],
   "source": [
    "import re\n",
    "s = 'Hello from csev@umich.edu to cwen@iupui.edu about the meeting @2PM'\n",
    "lst = re.findall('\\S+@\\S+', s)\n",
    "print(lst)"
   ]
  },
  {
   "cell_type": "markdown",
   "metadata": {},
   "source": [
    "The regular expression would match twice (csev@umich.edu and cwen@iupui.edu) but it would not match the string \"@2PM\" because there are no non-blank characters before the at-sign. We can use this regular expression in a program to read all the lines in a file and print out anything that looks like an e-mail address as follows:"
   ]
  },
  {
   "cell_type": "code",
   "execution_count": null,
   "metadata": {
    "collapsed": false
   },
   "outputs": [],
   "source": [
    "import re\n",
    "hand = open('mbox-short.txt')\n",
    "for line in hand:\n",
    "    line = line.rstrip()\n",
    "    x = re.findall('\\S+@\\S+', line) # some emails contain gross < characters!\n",
    "    if len(x) > 0 :\n",
    "        print(x)"
   ]
  },
  {
   "cell_type": "markdown",
   "metadata": {},
   "source": [
    "Some of our E-mail addresses have incorrect characters like \"<\" or \";\" at the beginning or end. Let's declare that we are only interested in the portion of the string that starts and ends with a letter or a number.\n",
    "\n",
    "To do this, we use another feature of regular expressions. Square brackets are used to indicate a set of multiple acceptable characters we are willing to consider matching. In a sense, the \"\\S\" is asking to match the set of \"non-whitespace characters\". Now we will be a little more explicit in terms of the characters we will match.\n",
    "\n",
    "Here is our new regular expression:\n",
    "\n",
    "```\n",
    "[a-zA-Z0-9]\\S*@\\S*[a-zA-Z]\n",
    "```\n"
   ]
  },
  {
   "cell_type": "code",
   "execution_count": null,
   "metadata": {
    "collapsed": false
   },
   "outputs": [],
   "source": [
    "import re\n",
    "hand = open('mbox-short.txt')\n",
    "for line in hand:\n",
    "    line = line.rstrip()\n",
    "    x = re.findall('[a-zA-Z0-9]\\S*@\\S*[a-zA-Z]', line)\n",
    "    if len(x) > 0 :\n",
    "        print(x)"
   ]
  },
  {
   "cell_type": "markdown",
   "metadata": {},
   "source": [
    "# Combining search and extraction\n",
    "\n",
    "If we want to find numbers on lines that start with the string \"X-\" such as:\n",
    "\n",
    "```\n",
    "X-DSPAM-Confidence: 0.8475\n",
    "X-DSPAM-Probability: 0.0000  \n",
    "```\n",
    "\n",
    "We don't just want any floating point numbers from any lines. We only to extract numbers from lines that have the above syntax.\n",
    "\n",
    "To match we write\n",
    "\n",
    "```\n",
    "^X-.*: [0-9.]+\n",
    "```"
   ]
  },
  {
   "cell_type": "code",
   "execution_count": null,
   "metadata": {
    "collapsed": false
   },
   "outputs": [],
   "source": [
    "import re\n",
    "hand = open('mbox-short.txt')\n",
    "for line in hand:\n",
    "    line = line.rstrip()\n",
    "    if re.search('^X\\S*: [0-9.]+', line) :\n",
    "        print(line)"
   ]
  },
  {
   "cell_type": "markdown",
   "metadata": {},
   "source": [
    "But now we have to solve the problem of extracting the numbers using split. While it would be simple enough to use split, we can use another feature of regular expressions to both search and parse the line at the same time. \n",
    "\n",
    "Parentheses are another special character in regular expressions. When you add parentheses to a regular expression they are ignored when matching the string, but when you are using findall(), parentheses indicate that while you want the whole expression to match, you only are interested in extracting a portion of the substring that matches the regular expression. \n",
    "\n",
    "So we make the following change to our program:"
   ]
  },
  {
   "cell_type": "code",
   "execution_count": null,
   "metadata": {
    "collapsed": false
   },
   "outputs": [],
   "source": [
    "import re\n",
    "hand = open('mbox-short.txt')\n",
    "for line in hand:\n",
    "    line = line.rstrip()\n",
    "    x = re.findall('^X\\S*: ([0-9]\\.[0-9]+)', line)\n",
    "    if len(x) > 0 :\n",
    "        print(x)"
   ]
  },
  {
   "cell_type": "markdown",
   "metadata": {},
   "source": [
    "# Escape characters\n",
    "\n",
    "What if we want to match $, ^, * etc?\n",
    "\n",
    "Use escape character (forward slash)\n",
    "\n"
   ]
  },
  {
   "cell_type": "code",
   "execution_count": null,
   "metadata": {
    "collapsed": false
   },
   "outputs": [],
   "source": [
    "import re\n",
    "x = 'We just received $10.00 for cookies.'\n",
    "y = re.findall('\\$[0-9.]+',x)\n",
    "print(y)"
   ]
  },
  {
   "cell_type": "code",
   "execution_count": null,
   "metadata": {
    "collapsed": false
   },
   "outputs": [],
   "source": [
    "import re\n",
    "x = 'We just received $10.00 for cookies.'\n",
    "y = re.findall('c\\S+$',x)\n",
    "print(y)"
   ]
  },
  {
   "cell_type": "markdown",
   "metadata": {},
   "source": [
    "# Summary \n",
    " \n",
    "^ \n",
    "Matches the beginning of the line.\n",
    "\n",
    "$ \n",
    "Matches the end of the line.\n",
    "\n",
    ". \n",
    "Matches any character (a wildcard).\n",
    "\n",
    "\\s \n",
    "Matches a whitespace character.\n",
    "\n",
    "\\S \n",
    "Matches a non-whitespace character (opposite of \\s).\n",
    "\n",
    "\\* \n",
    "Applies to the immediately preceding character and indicates to match zero or more of the preceding character.\n",
    "\n",
    "\\*? \n",
    "Applies to the immediately preceding character and indicates to match zero or more of the preceding character in \"non-greedy mode\".\n",
    "\n",
    "\\+ \n",
    "Applies to the immediately preceding character and indicates to match zero or more of the preceding character.\n",
    "\n",
    "+? \n",
    "Applies to the immediately preceding character and indicates to match zero or more of the preceding character in \"non-greedy mode\".\n",
    "\n",
    "[aeiou] \n",
    "Matches a single character as long as that character is in the specified set. In this example, it would match \"a\", \"e\", \"i\", \"o\" or \"u\" but no other characters.\n",
    "\n",
    "[a-z0-9] \n",
    "You can specify ranges of characters using the minus sign. This example is a single character that must be a lower case letter or a digit.\n",
    "\n",
    "[^A-Za-z] \n",
    "When the first character in the set notation is a caret, it inverts the logic. This example matches a single character that is anything other than an upper or lower case character.\n",
    "\n",
    "( ) \n",
    "When parentheses are added to a regular expression, they are ignored for the purpose of matching, but allow you to extract a particular subset of the matched string rather than the whole string when using findall().\n",
    "\n",
    "\\b \n",
    "Matches the empty string, but only at the start or end of a word.\n",
    "\n",
    "\\B \n",
    "Matches the empty string, but not at the start or end of a word.\n",
    "\n",
    "\\d \n",
    "Matches any decimal digit; equivalent to the set [0-9].\n",
    "\n",
    "\\D \n",
    "Matches any non-digit character; equivalent to the set [^0-9]."
   ]
  },
  {
   "cell_type": "markdown",
   "metadata": {},
   "source": [
    "# Bonus section for Unix users\n",
    "\n",
    "Support for searching files using regular expressions was built into the Unix operating system since the 1960's and it is available in nearly all programming languages in one form or another.\n",
    "\n",
    "As a matter of fact, there is a command-line program built into Unix called grep (Generalized Regular Expression Parser) that does pretty much the same as the search() examples in this chapter. So if you have a Macintosh or Linux system, you can try the following commands in your command line window.\n",
    "\n",
    "```\n",
    "$ grep '^From:' mbox-short.txt\n",
    "From: stephen.marquard@uct.ac.za\n",
    "From: louis@media.berkeley.edu\n",
    "From: zqian@umich.edu\n",
    "From: rjlowe@iupui.edu\n",
    "```"
   ]
  },
  {
   "cell_type": "markdown",
   "metadata": {},
   "source": [
    "# Exercises\n",
    "\n",
    "* Exercise 1   Write a simple program to simulate the operation of the the grep command on Unix. Ask the user to enter a regular expression and count the number of lines that matched the regular expression:\n",
    "\n",
    "```\n",
    "$ python grep.py\n",
    "Enter a regular expression: ^Author\n",
    "mbox.txt had 1798 lines that matched ^Author\n",
    "\n",
    "$ python grep.py\n",
    "Enter a regular expression: ^X-\n",
    "mbox.txt had 14368 lines that matched ^X-\n",
    "\n",
    "$ python grep.py\n",
    "Enter a regular expression: java$\n",
    "mbox.txt had 4218 lines that matched java$\n",
    "```\n",
    "* Exercise 2   Write a program to look for lines of the form\n",
    "```\n",
    "New Revision: 39772\n",
    "```\n",
    "And extract the number from each of the lines using a regular expression and the findall() method. Compute the average of the numbers and print out the average.\n",
    "```\n",
    "Enter file:mbox.txt \n",
    "38549.7949721\n",
    "\n",
    "Enter file:mbox-short.txt\n",
    "39756.9259259\n",
    "```"
   ]
  },
  {
   "cell_type": "markdown",
   "metadata": {
    "collapsed": true
   },
   "source": [
    "# World's simplest browser\n"
   ]
  },
  {
   "cell_type": "code",
   "execution_count": null,
   "metadata": {
    "collapsed": false
   },
   "outputs": [],
   "source": [
    "import socket\n",
    "\n",
    "mysock = socket.socket(socket.AF_INET, socket.SOCK_STREAM)\n",
    "mysock.connect(('www.py4inf.com', 80))\n",
    "mysock.send('GET http://www.py4inf.com/code/romeo.txt HTTP/1.0\\n\\n')\n",
    "\n",
    "while True:\n",
    "    data = mysock.recv(512)\n",
    "    if ( len(data) < 1 ) :\n",
    "        break\n",
    "    print(data)\n",
    "\n",
    "mysock.close()"
   ]
  },
  {
   "cell_type": "code",
   "execution_count": null,
   "metadata": {
    "collapsed": false
   },
   "outputs": [],
   "source": [
    "import socket\n",
    "import time\n",
    "\n",
    "mysock = socket.socket(socket.AF_INET, socket.SOCK_STREAM)\n",
    "mysock.connect(('www.py4inf.com', 80))\n",
    "mysock.send('GET http://www.py4inf.com/cover.jpg HTTP/1.0\\n\\n')\n",
    "\n",
    "\n",
    "count = 0\n",
    "picture = \"\";\n",
    "while True:\n",
    "    data = mysock.recv(5120)\n",
    "    if ( len(data) < 1 ) : break\n",
    "    time.sleep(0.25)\n",
    "    count = count + len(data)\n",
    "    print len(data),count\n",
    "    #print data\n",
    "    picture = picture + data\n",
    "\n",
    "mysock.close()\n",
    "\n",
    "# Look for the end of the header (2 CRLF)\n",
    "pos = picture.find(\"\\r\\n\\r\\n\");\n",
    "print 'Header length',pos\n",
    "print picture[:pos]\n",
    "\n",
    "# Skip past the header and save the picture data\n",
    "picture = picture[pos+4:]\n",
    "fhand = open(\"stuff.jpg\",\"w\")\n",
    "fhand.write(picture);\n",
    "fhand.close()"
   ]
  },
  {
   "cell_type": "code",
   "execution_count": null,
   "metadata": {
    "collapsed": false,
    "scrolled": true
   },
   "outputs": [],
   "source": [
    "import urllib\n",
    "import re\n",
    "\n",
    "url = raw_input('Enter - ')\n",
    "html = urllib.urlopen(url).read()\n",
    "links = re.findall('href=\"(http://.*?)\"', html)\n",
    "for link in links:\n",
    "    print link"
   ]
  },
  {
   "cell_type": "code",
   "execution_count": null,
   "metadata": {
    "collapsed": false
   },
   "outputs": [],
   "source": [
    "import urllib\n",
    "from bs4 import BeautifulSoup\n",
    "\n",
    "url = raw_input('Enter - ')\n",
    "html = urllib.urlopen(url).read()\n",
    "soup = BeautifulSoup(html)\n",
    "\n",
    "# Retrieve all of the anchor tags\n",
    "tags = soup('a')\n",
    "for tag in tags:\n",
    "    print tag.get('href', None)"
   ]
  },
  {
   "cell_type": "markdown",
   "metadata": {
    "collapsed": true
   },
   "source": [
    "![This is the image](stuff.jpg)"
   ]
  },
  {
   "cell_type": "markdown",
   "metadata": {},
   "source": [
    "# Exercises\n",
    "http://www.pythonlearn.com/html-008/cfbook013.html#toc140"
   ]
  },
  {
   "cell_type": "code",
   "execution_count": null,
   "metadata": {
    "collapsed": true
   },
   "outputs": [],
   "source": []
  }
 ],
 "metadata": {
  "kernelspec": {
   "display_name": "Python 2",
   "language": "python",
   "name": "python2"
  },
  "language_info": {
   "codemirror_mode": {
    "name": "ipython",
    "version": 2
   },
   "file_extension": ".py",
   "mimetype": "text/x-python",
   "name": "python",
   "nbconvert_exporter": "python",
   "pygments_lexer": "ipython2",
   "version": "2.7.10"
  }
 },
 "nbformat": 4,
 "nbformat_minor": 0
}
