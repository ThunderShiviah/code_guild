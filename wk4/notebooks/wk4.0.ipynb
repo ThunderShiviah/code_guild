{
 "cells": [
  {
   "cell_type": "markdown",
   "metadata": {},
   "source": [
    "# wk4.0\n",
    "\n",
    "# Even more OOP"
   ]
  },
  {
   "cell_type": "code",
   "execution_count": 1,
   "metadata": {
    "collapsed": true
   },
   "outputs": [],
   "source": [
    "class MyTime:\n",
    "\n",
    "    def __init__(self, hrs=0, mins=0, secs=0):\n",
    "        \"\"\" Create a MyTime object initialized to hrs, mins, secs \"\"\"\n",
    "        self.hours = hrs\n",
    "        self.minutes = mins\n",
    "        self.seconds = secs\n",
    "        \n",
    "    def __str__(self):\n",
    "        return \"{h}:{m}:{s}\".format(h=self.hours, m=self.minutes, s=self.seconds)\n",
    "        \n"
   ]
  },
  {
   "cell_type": "code",
   "execution_count": 2,
   "metadata": {
    "collapsed": false
   },
   "outputs": [
    {
     "name": "stdout",
     "output_type": "stream",
     "text": [
      "11:59:30\n",
      "0:0:0\n"
     ]
    }
   ],
   "source": [
    "tim1 = MyTime(11, 59, 30)\n",
    "tim2 = MyTime()\n",
    "\n",
    "print(tim1)\n",
    "print(tim2)\n"
   ]
  },
  {
   "cell_type": "code",
   "execution_count": null,
   "metadata": {
    "collapsed": false
   },
   "outputs": [],
   "source": []
  },
  {
   "cell_type": "markdown",
   "metadata": {},
   "source": [
    "# Pure functions\n"
   ]
  },
  {
   "cell_type": "code",
   "execution_count": 3,
   "metadata": {
    "collapsed": true
   },
   "outputs": [],
   "source": [
    "def add_time(t1, t2):\n",
    "    h = t1.hours + t2.hours\n",
    "    m = t1.minutes + t2.minutes\n",
    "    s = t1.seconds + t2.seconds\n",
    "    sum_t = MyTime(h, m, s)\n",
    "    return sum_t"
   ]
  },
  {
   "cell_type": "markdown",
   "metadata": {},
   "source": [
    "The function creates a new MyTime object and returns a reference to the new object. This is called a **pure function** because it does not modify any of the objects passed to it as parameters and it has no side effects, such as updating global variables, displaying a value, or getting user input."
   ]
  },
  {
   "cell_type": "markdown",
   "metadata": {},
   "source": [
    "```\n",
    ">>> current_time = MyTime(9, 14, 30)\n",
    ">>> bread_time = MyTime(3, 35, 0)\n",
    ">>> done_time = add_time(current_time, bread_time) # When does this break?\n",
    ">>> print(done_time)\n",
    "12:49:30\n",
    "```"
   ]
  },
  {
   "cell_type": "code",
   "execution_count": 4,
   "metadata": {
    "collapsed": false
   },
   "outputs": [
    {
     "name": "stdout",
     "output_type": "stream",
     "text": [
      "1:70:0\n"
     ]
    }
   ],
   "source": [
    "current_time = MyTime(1, 10, 0)\n",
    "\n",
    "bread_time = MyTime(0, 60, 0)\n",
    "\n",
    "done_time = add_time(current_time, bread_time)\n",
    "\n",
    "print(done_time)"
   ]
  },
  {
   "cell_type": "code",
   "execution_count": 6,
   "metadata": {
    "collapsed": true
   },
   "outputs": [],
   "source": [
    "def add_time(t1, t2): # are we good now?\n",
    "\n",
    "    h = t1.hours + t2.hours\n",
    "    m = t1.minutes + t2.minutes\n",
    "    s = t1.seconds + t2.seconds\n",
    "\n",
    "    if s >= 60:\n",
    "        s -= 60\n",
    "        m += 1\n",
    "\n",
    "    if m >= 60:\n",
    "        m -= 60\n",
    "        h += 1\n",
    "\n",
    "    sum_t = MyTime(h, m, s)\n",
    "    return sum_t"
   ]
  },
  {
   "cell_type": "code",
   "execution_count": 8,
   "metadata": {
    "collapsed": false
   },
   "outputs": [
    {
     "name": "stdout",
     "output_type": "stream",
     "text": [
      "2:70:0\n"
     ]
    }
   ],
   "source": [
    "current_time = MyTime(1, 10, 0)\n",
    "\n",
    "bread_time = MyTime(0, 120, 0)\n",
    "\n",
    "done_time = add_time(current_time, bread_time)\n",
    "\n",
    "print(done_time)"
   ]
  },
  {
   "cell_type": "markdown",
   "metadata": {},
   "source": [
    "# Modifiers\n",
    "\n",
    "There are times when it is useful for a function to modify one or more of the objects it gets as parameters. Usually, the caller keeps a reference to the objects it passes, so any changes the function makes are visible to the caller. Functions that work this way are called **modifiers**."
   ]
  },
  {
   "cell_type": "code",
   "execution_count": null,
   "metadata": {
    "collapsed": true
   },
   "outputs": [],
   "source": [
    "def increment(t, secs): # Is this good?\n",
    "    t.seconds += secs\n",
    "\n",
    "    if t.seconds >= 60:\n",
    "        t.seconds -= 60\n",
    "        t.minutes += 1\n",
    "\n",
    "    if t.minutes >= 60:\n",
    "        t.minutes -= 60\n",
    "        t.hours += 1"
   ]
  },
  {
   "cell_type": "code",
   "execution_count": null,
   "metadata": {
    "collapsed": true
   },
   "outputs": [],
   "source": [
    "def increment(t, seconds): # How about now?\n",
    "    t.seconds += seconds\n",
    "\n",
    "    while t.seconds >= 60:\n",
    "        t.seconds -= 60\n",
    "        t.minutes += 1\n",
    "\n",
    "    while t.minutes >= 60:\n",
    "        t.minutes -= 60\n",
    "        t.hours += 1"
   ]
  },
  {
   "cell_type": "markdown",
   "metadata": {},
   "source": [
    " # Converting increment to a method"
   ]
  },
  {
   "cell_type": "code",
   "execution_count": null,
   "metadata": {
    "collapsed": true
   },
   "outputs": [],
   "source": [
    "class MyTime:\n",
    "    # Previous method definitions here...\n",
    "\n",
    "    def increment(self, seconds):\n",
    "        self.seconds += seconds\n",
    "\n",
    "        while self.seconds >= 60:\n",
    "            self.seconds -= 60\n",
    "            self.minutes += 1\n",
    "\n",
    "        while self.minutes >= 60:\n",
    "            self.minutes -= 60\n",
    "            self.hours += 1"
   ]
  },
  {
   "cell_type": "code",
   "execution_count": null,
   "metadata": {
    "collapsed": true
   },
   "outputs": [],
   "source": []
  },
  {
   "cell_type": "markdown",
   "metadata": {},
   "source": [
    "#  An “Aha!” insight"
   ]
  },
  {
   "cell_type": "markdown",
   "metadata": {},
   "source": [
    "Often a high-level insight into the problem can make the programming much easier.\n",
    "In this case, the insight is that a **MyTime object is really a three-digit number in base 60!** The second component is the ones column, the minute component is the sixties column, and the hour component is the thirty-six hundreds column.\n",
    "\n",
    "When we wrote add_time and increment, we were effectively doing addition in base 60, which is why we had to carry from one column to the next."
   ]
  },
  {
   "cell_type": "code",
   "execution_count": null,
   "metadata": {
    "collapsed": true
   },
   "outputs": [],
   "source": [
    "class MyTime:\n",
    "    # ...\n",
    "\n",
    "    def to_seconds(self):\n",
    "        \"\"\" Return the number of seconds represented\n",
    "            by this instance\n",
    "        \"\"\"\n",
    "        return self.hours * 3600 + self.minutes * 60 + self.seconds"
   ]
  },
  {
   "cell_type": "code",
   "execution_count": null,
   "metadata": {
    "collapsed": true
   },
   "outputs": [],
   "source": [
    "## ---- Core time conversion logic ----- #\n",
    "hrs = tsecs // 3600\n",
    "leftoversecs = tsecs % 3600\n",
    "mins = leftoversecs // 60\n",
    "secs = leftoversecs % 60"
   ]
  },
  {
   "cell_type": "markdown",
   "metadata": {},
   "source": [
    "In OOP we’re really trying to wrap together the data and the operations that apply to it. So we’d like to have this logic inside the MyTime class. A good solution is to rewrite the class initializer so that it can cope with initial values of seconds or minutes that are outside the normalized values. (A normalized time would be something like 3 hours 12 minutes and 20 seconds. The same time, but unnormalized could be 2 hours 70 minutes and 140 seconds.)"
   ]
  },
  {
   "cell_type": "code",
   "execution_count": null,
   "metadata": {
    "collapsed": true
   },
   "outputs": [],
   "source": [
    "class MyTime:\n",
    "    # ...\n",
    "\n",
    "    def __init__(self, hrs=0, mins=0, secs=0):\n",
    "        \"\"\" Create a new MyTime object initialized to hrs, mins, secs.\n",
    "           The values of mins and secs may be outside the range 0-59,\n",
    "           but the resulting MyTime object will be normalized.\n",
    "        \"\"\"\n",
    "\n",
    "        # Calculate total seconds to represent\n",
    "        totalsecs = hrs*3600 + mins*60 + secs\n",
    "        self.hours = totalsecs // 3600        # Split in h, m, s\n",
    "        leftoversecs = totalsecs % 3600\n",
    "        self.minutes = leftoversecs // 60\n",
    "        self.seconds = leftoversecs % 60"
   ]
  },
  {
   "cell_type": "code",
   "execution_count": null,
   "metadata": {
    "collapsed": true
   },
   "outputs": [],
   "source": [
    "def add_time(t1, t2):\n",
    "    secs = t1.to_seconds() + t2.to_seconds()\n",
    "    return MyTime(0, 0, secs)"
   ]
  },
  {
   "cell_type": "markdown",
   "metadata": {},
   "source": [
    "# Generalization vs. Specification\n",
    "\n",
    "## Computer scientists vs. mathematicians \n",
    "\n",
    "Often it may help to try to think about the problem from both points of view — “What would happen if I tried to reduce everything to very few primitive types?”, versus “What would happen if this thing had its own specialized type?”"
   ]
  },
  {
   "cell_type": "markdown",
   "metadata": {},
   "source": [
    "## Example\n",
    "The `after` function should compare two times, and tell us whether the first time is strictly after the second, e.g.\n",
    "\n",
    "```\n",
    ">>> t1 = MyTime(10, 55, 12)\n",
    ">>> t2 = MyTime(10, 48, 22)\n",
    ">>> after(t1, t2)             # Is t1 after t2?\n",
    "True\n",
    "```"
   ]
  },
  {
   "cell_type": "code",
   "execution_count": null,
   "metadata": {
    "collapsed": true
   },
   "outputs": [],
   "source": [
    "class MyTime:\n",
    "    # Previous method definitions here...\n",
    "\n",
    "    def after(self, time2):\n",
    "        \"\"\" Return True if I am strictly greater than time2 \"\"\"\n",
    "        if self.hours > time2.hours:\n",
    "            return True\n",
    "        if self.hours < time2.hours:\n",
    "            return False\n",
    "\n",
    "        if self.minutes > time2.minutes:\n",
    "            return True\n",
    "        if self.minutes < time2.minutes:\n",
    "            return False\n",
    "        if self.seconds > time2.seconds:\n",
    "            return True\n",
    "\n",
    "        return False"
   ]
  },
  {
   "cell_type": "markdown",
   "metadata": {},
   "source": [
    "We invoke this method on one object and pass the other as an argument:"
   ]
  },
  {
   "cell_type": "code",
   "execution_count": null,
   "metadata": {
    "collapsed": true
   },
   "outputs": [],
   "source": [
    "if current_time.after(done_time):\n",
    "    print(\"The bread will be done before it starts!\")"
   ]
  },
  {
   "cell_type": "markdown",
   "metadata": {},
   "source": [
    "The logic of the if statements deserve special attention here. Lines 11-18 will only be reached if the two hour fields are the same. Similarly, the test at line 16 is only executed if both times have the same hours and the same minutes.\n",
    "\n",
    "Could we make this easier? Yes!"
   ]
  },
  {
   "cell_type": "code",
   "execution_count": null,
   "metadata": {
    "collapsed": true
   },
   "outputs": [],
   "source": [
    "class MyTime:\n",
    "    # Previous method definitions here...\n",
    "\n",
    "    def after(self, time2):\n",
    "        \"\"\" Return True if I am strictly greater than time2 \"\"\"\n",
    "        return self.to_seconds() > time2.to_seconds()"
   ]
  },
  {
   "cell_type": "markdown",
   "metadata": {},
   "source": [
    "# Operator overloading"
   ]
  },
  {
   "cell_type": "markdown",
   "metadata": {},
   "source": [
    "Some languages, including Python, make it possible to have different meanings for the same operator when applied to different types. For example, + in Python means quite different things for integers and for strings. This feature is called operator overloading.\n",
    "\n",
    "It is especially useful when programmers can also overload the operators for their own user-defined types.\n",
    "\n",
    "For example, to override the addition operator +, we can provide a method named `__add__`:"
   ]
  },
  {
   "cell_type": "code",
   "execution_count": 40,
   "metadata": {
    "collapsed": true
   },
   "outputs": [],
   "source": [
    "class MyTime:\n",
    "    \"\"\"This makes the clock.\n",
    "    \n",
    "    >>> timer = MyTime(5, 4, 3) # Makes a timer with time 5 hr ...\n",
    "    \"\"\"\n",
    "\n",
    "    def __init__(self, hrs=0, mins=0, secs=0):\n",
    "        \"\"\" Create a new MyTime object initialized to hrs, mins, secs.\n",
    "           The values of mins and secs may be outside the range 0-59,\n",
    "           but the resulting MyTime object will be normalized.\n",
    "        \"\"\"\n",
    "\n",
    "        # Calculate total seconds to represent\n",
    "        totalsecs = hrs*3600 + mins*60 + secs\n",
    "        self.hours = totalsecs // 3600        # Split in h, m, s\n",
    "        leftoversecs = totalsecs % 3600\n",
    "        self.minutes = leftoversecs // 60\n",
    "        self.seconds = leftoversecs % 60\n",
    "\n",
    "    def __str__(self):\n",
    "        return \"{h}:{m}:{s}\".format(h=self.hours, m=self.minutes, s=self.seconds)\n",
    "\n",
    "    def __add__(self, other):\n",
    "        return MyTime(0, 0, self.to_seconds() + other.to_seconds())\n",
    "    \n",
    "    def to_seconds(self):\n",
    "        \"\"\" Return the number of seconds represented\n",
    "            by this instance\n",
    "        \"\"\"\n",
    "        return self.hours * 3600 + self.minutes * 60 + self.seconds"
   ]
  },
  {
   "cell_type": "code",
   "execution_count": 41,
   "metadata": {
    "collapsed": false
   },
   "outputs": [
    {
     "name": "stdout",
     "output_type": "stream",
     "text": [
      "15:30:30\n"
     ]
    }
   ],
   "source": [
    "t1 = MyTime(0, 0, 42000)\n",
    "t2 = MyTime(3, 50, 30)\n",
    "\n",
    "t3 = t1 + t2\n",
    "\n",
    "print(t3)"
   ]
  },
  {
   "cell_type": "code",
   "execution_count": 39,
   "metadata": {
    "collapsed": false
   },
   "outputs": [
    {
     "name": "stdout",
     "output_type": "stream",
     "text": [
      "Help on MyTime in module __main__ object:\n",
      "\n",
      "class MyTime(builtins.object)\n",
      " |  This makes the clock.\n",
      " |  \n",
      " |  Methods defined here:\n",
      " |  \n",
      " |  __add__(self, other)\n",
      " |  \n",
      " |  __init__(self, hrs=0, mins=0, secs=0)\n",
      " |      Create a new MyTime object initialized to hrs, mins, secs.\n",
      " |      The values of mins and secs may be outside the range 0-59,\n",
      " |      but the resulting MyTime object will be normalized.\n",
      " |  \n",
      " |  __str__(self)\n",
      " |      Return str(self).\n",
      " |  \n",
      " |  to_seconds(self)\n",
      " |      Return the number of seconds represented\n",
      " |      by this instance\n",
      " |  \n",
      " |  ----------------------------------------------------------------------\n",
      " |  Data descriptors defined here:\n",
      " |  \n",
      " |  __dict__\n",
      " |      dictionary for instance variables (if defined)\n",
      " |  \n",
      " |  __weakref__\n",
      " |      list of weak references to the object (if defined)\n",
      "\n"
     ]
    }
   ],
   "source": [
    "help(MyTime())"
   ]
  },
  {
   "cell_type": "markdown",
   "metadata": {},
   "source": [
    "```\n",
    ">>> t1 = MyTime(1, 15, 42)\n",
    ">>> t2 = MyTime(3, 50, 30)\n",
    ">>> t3 = t1 + t2\n",
    ">>> print(t3)\n",
    "05:06:12\n",
    "```"
   ]
  },
  {
   "cell_type": "markdown",
   "metadata": {},
   "source": [
    "# Polymorphism"
   ]
  },
  {
   "cell_type": "code",
   "execution_count": null,
   "metadata": {
    "collapsed": true
   },
   "outputs": [],
   "source": [
    "def front_and_back(front):\n",
    "    import copy\n",
    "    back = copy.copy(front)\n",
    "    back.reverse()\n",
    "    print(str(front) + str(back))"
   ]
  },
  {
   "cell_type": "markdown",
   "metadata": {},
   "source": [
    "To determine whether a function can be applied to a new type, we apply Python’s fundamental rule of polymorphism, called the duck typing rule: \n",
    "\n",
    ">If all of the operations inside the function can be applied to the type, the function can be applied to the type. The operations in the front_and_back function include copy, reverse, and print."
   ]
  },
  {
   "cell_type": "markdown",
   "metadata": {},
   "source": [
    "# Exercises\n",
    "\n",
    "1. Write a Boolean function between that takes two MyTime objects, t1 and t2, as arguments, and returns True if the invoking object falls between the two times. Assume t1 <= t2, and make the test closed at the lower bound and open at the upper bound, i.e. return True if t1 <= obj < t2.\n",
    "\n",
    "2. Turn the above function into a method in the MyTime class.\n",
    "\n",
    "3. Overload the necessary operator(s) (see [this](https://docs.python.org/3/reference/datamodel.html) and [this](http://www.rafekettler.com/magicmethods.html)) so that instead of having to write\n",
    "\n",
    "`if t1.after(t2): ...`\n",
    "\n",
    "we can use the more convenient\n",
    "\n",
    "`if t1 > t2: ...`\n",
    "\n",
    "Rewrite increment as a method that uses our “Aha” insight.\n",
    "\n",
    "4. Create some test cases for the increment method. Consider specifically the case where the number of seconds to add to the time is negative. Fix up increment so that it handles this case if it does not do so already. (You may assume that you will never subtract more seconds than are in the time object.)\n",
    "\n",
    "5. Can physical time be negative, or must time always move in the forward direction? Some serious physicists think this is not such a dumb question. Does your model handle reverse time? What does that even mean? Think deeply about time for the next thirty seconds.\n",
    "\n",
    "# Some recursion problems\n",
    "\n",
    "1. Write a function, recursive_min, that returns the smallest value in a nested number list. Assume there are no empty lists or sublists:\n",
    "\n",
    "```\n",
    "test(recursive_min([2, 9, [1, 13], 8, 6]) == 1)\n",
    "test(recursive_min([2, [[100, 1], 90], [10, 13], 8, 6]) == 1)\n",
    "test(recursive_min([2, [[13, -7], 90], [1, 100], 8, 6]) == -7)\n",
    "test(recursive_min([[[-13, 7], 90], 2, [1, 100], 8, 6]) == -13)\n",
    "```\n",
    "\n",
    "2. Write a function count that returns the number of occurrences of target in a nested list:\n",
    "\n",
    "```\n",
    "test(count(2, []), 0)\n",
    "test(count(2, [2, 9, [2, 1, 13, 2], 8, [2, 6]]) == 4)\n",
    "test(count(7, [[9, [7, 1, 13, 2], 8], [7, 6]]) == 2)\n",
    "test(count(15, [[9, [7, 1, 13, 2], 8], [2, 6]]) == 0)\n",
    "test(count(5, [[5, [5, [1, 5], 5], 5], [5, 6]]) == 6)\n",
    "test(count(\"a\",\n",
    "     [[\"this\",[\"a\",[\"thing\",\"a\"],\"a\"],\"is\"], [\"a\",\"easy\"]]) == 4)\n",
    "```\n",
    "\n",
    "3. Write a function flatten that returns a simple list containing all the values in a nested list:\n",
    "\n",
    "```\n",
    "test(flatten([2,9,[2,1,13,2],8,[2,6]]) == [2,9,2,1,13,2,8,2,6])\n",
    "test(flatten([[9,[7,1,13,2],8],[7,6]]) == [9,7,1,13,2,8,7,6])\n",
    "test(flatten([[9,[7,1,13,2],8],[2,6]]) == [9,7,1,13,2,8,2,6])\n",
    "test(flatten([[\"this\",[\"a\",[\"thing\"],\"a\"],\"is\"],[\"a\",\"easy\"]]) ==\n",
    "              [\"this\",\"a\",\"thing\",\"a\",\"is\",\"a\",\"easy\"])\n",
    "test(flatten([]) == [])\n",
    "```"
   ]
  },
  {
   "cell_type": "code",
   "execution_count": null,
   "metadata": {
    "collapsed": true
   },
   "outputs": [],
   "source": []
  }
 ],
 "metadata": {
  "kernelspec": {
   "display_name": "Python 3",
   "language": "python",
   "name": "python3"
  },
  "language_info": {
   "codemirror_mode": {
    "name": "ipython",
    "version": 3
   },
   "file_extension": ".py",
   "mimetype": "text/x-python",
   "name": "python",
   "nbconvert_exporter": "python",
   "pygments_lexer": "ipython3",
   "version": "3.5.0"
  }
 },
 "nbformat": 4,
 "nbformat_minor": 0
}
