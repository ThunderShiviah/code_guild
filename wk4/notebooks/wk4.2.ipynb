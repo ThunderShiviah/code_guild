{
 "cells": [
  {
   "cell_type": "markdown",
   "metadata": {},
   "source": [
    "# Warm-Up Exercises\n",
    "\n",
    "# Some recursion problems\n",
    "\n",
    "1. Write a function, recursive_min, that returns the smallest value in a nested number list. Assume there are no empty lists or sublists:\n",
    "\n",
    "```\n",
    "test(recursive_min([2, 9, [1, 13], 8, 6]) == 1)\n",
    "test(recursive_min([2, [[100, 1], 90], [10, 13], 8, 6]) == 1)\n",
    "test(recursive_min([2, [[13, -7], 90], [1, 100], 8, 6]) == -7)\n",
    "test(recursive_min([[[-13, 7], 90], 2, [1, 100], 8, 6]) == -13)\n",
    "```\n",
    "\n",
    "2. Write a function count that returns the number of occurrences of target in a nested list:\n",
    "\n",
    "```\n",
    "test(count(2, []), 0)\n",
    "test(count(2, [2, 9, [2, 1, 13, 2], 8, [2, 6]]) == 4)\n",
    "test(count(7, [[9, [7, 1, 13, 2], 8], [7, 6]]) == 2)\n",
    "test(count(15, [[9, [7, 1, 13, 2], 8], [2, 6]]) == 0)\n",
    "test(count(5, [[5, [5, [1, 5], 5], 5], [5, 6]]) == 6)\n",
    "test(count(\"a\",\n",
    "     [[\"this\",[\"a\",[\"thing\",\"a\"],\"a\"],\"is\"], [\"a\",\"easy\"]]) == 4)\n",
    "```\n",
    "\n",
    "3. Write a function flatten that returns a simple list containing all the values in a nested list:\n",
    "\n",
    "```\n",
    "test(flatten([2,9,[2,1,13,2],8,[2,6]]) == [2,9,2,1,13,2,8,2,6])\n",
    "test(flatten([[9,[7,1,13,2],8],[7,6]]) == [9,7,1,13,2,8,7,6])\n",
    "test(flatten([[9,[7,1,13,2],8],[2,6]]) == [9,7,1,13,2,8,2,6])\n",
    "test(flatten([[\"this\",[\"a\",[\"thing\"],\"a\"],\"is\"],[\"a\",\"easy\"]]) ==\n",
    "              [\"this\",\"a\",\"thing\",\"a\",\"is\",\"a\",\"easy\"])\n",
    "test(flatten([]) == [])\n",
    "```"
   ]
  },
  {
   "cell_type": "code",
   "execution_count": null,
   "metadata": {
    "collapsed": false
   },
   "outputs": [],
   "source": [
    "\"\"\"\n",
    "def flatten(lst):\n",
    "    res = []\n",
    "    for elem in lst:\n",
    "        if type(elem) == type([]):\n",
    "            res += flatten(elem)\n",
    "            print(res)\n",
    "        else:\n",
    "            res.append(elem)\n",
    "    return res\n",
    "\"\"\"\n",
    "\n",
    "def flatten(lst):\n",
    "    res = []\n",
    "    def f(lst):\n",
    "        for elem in lst:\n",
    "            if type(elem) == type([]):\n",
    "                f(elem)\n",
    "            else:\n",
    "                res.append(elem)\n",
    "        return res\n",
    "    return f(lst)\n",
    "\n",
    "def recursive_min(lst):\n",
    "    return min(flatten(lst))\n",
    "\n",
    "def count(val, lst):\n",
    "    return flatten(lst).count(val)\n",
    "    "
   ]
  },
  {
   "cell_type": "code",
   "execution_count": null,
   "metadata": {
    "collapsed": false
   },
   "outputs": [],
   "source": [
    "def f(lst=[]):\n",
    "    lst.append(1)\n",
    "    return lst\n",
    "\n",
    "f()"
   ]
  },
  {
   "cell_type": "code",
   "execution_count": null,
   "metadata": {
    "collapsed": false
   },
   "outputs": [],
   "source": [
    "assert flatten([2,9,[2,\"Hi Skip!\",13,2],8,[2,6]]) == [2,9,2,\"Hi Skip!\",13,2,8,2,6]\n",
    "assert flatten([[9,[7,1,13,2],8],[7,6]]) == [9,7,1,13,2,8,7,6]\n",
    "assert flatten([[9,[7,1,13,2],8],[2,6]]) == [9,7,1,13,2,8,2,6]\n",
    "assert flatten([[\"this\",[\"a\",[\"thing\"],\"a\"],\"is\"],[\"a\",\"easy\"]]) == [\"this\",\"a\",\"thing\",\"a\",\"is\",\"a\",\"easy\"]\n",
    "assert flatten([]) == []"
   ]
  },
  {
   "cell_type": "code",
   "execution_count": null,
   "metadata": {
    "collapsed": false
   },
   "outputs": [],
   "source": [
    "assert count(2, []) == 0\n",
    "assert count(2, [2, 9, [2, 1, 13, 2], 8, [2, 6]]) == 4\n",
    "assert count(7, [[9, [7, 1, 13, 2], 8], [7, 6]]) == 2\n",
    "assert count(15, [[9, [7, 1, 13, 2], 8], [2, 6]]) == 0\n",
    "assert count(5, [[5, [5, [1, 5], 5], 5], [5, 6]]) == 6\n",
    "assert count(\"a\", [[\"this\",[\"a\",[\"thing\",\"a\"],\"a\"],\"is\"], [\"a\",\"easy\"]]) == 4"
   ]
  },
  {
   "cell_type": "code",
   "execution_count": null,
   "metadata": {
    "collapsed": false
   },
   "outputs": [],
   "source": [
    "assert recursive_min([2, 9, [1, 13], 8, 6]) == 1\n",
    "assert recursive_min([2, [[100, 1], 90], [10, 13], 8, 6]) == 1\n",
    "assert recursive_min([2, [[13, -7], 90], [1, 100], 8, 6]) == -7\n",
    "assert recursive_min([[[-13, 7], 90], 2, [1, 100], 8, 6]) == -13"
   ]
  },
  {
   "cell_type": "markdown",
   "metadata": {
    "collapsed": true
   },
   "source": [
    "# XML and JSON\n",
    "\n"
   ]
  },
  {
   "cell_type": "code",
   "execution_count": null,
   "metadata": {
    "collapsed": false
   },
   "outputs": [],
   "source": [
    "import xml.etree.ElementTree as ET\n",
    "\n",
    "data = \"\"\"\n",
    "<person>\n",
    "  <name>Chuck</name>\n",
    "  <phone type=\"intl\">\n",
    "     +1 734 303 4456\n",
    "   </phone>\n",
    "   <email hide=\"yes\"/>\n",
    "</person>\"\"\"\n",
    "\n",
    "tree = ET.fromstring(data)\n",
    "print 'Name:',tree.find('name').text\n",
    "print 'Attr:',tree.find('email').get('hide')"
   ]
  },
  {
   "cell_type": "code",
   "execution_count": null,
   "metadata": {
    "collapsed": false
   },
   "outputs": [],
   "source": [
    "import xml.etree.ElementTree as ET\n",
    "\n",
    "input = \"\"\"\n",
    "<stuff>\n",
    "    <users>\n",
    "        <user x=\"2\">\n",
    "            <id>001</id>\n",
    "            <name>Chuck</name>\n",
    "        </user>\n",
    "        <user x=\"7\">\n",
    "            <id>009</id>\n",
    "            <name>Brent</name>\n",
    "        </user>\n",
    "    </users>\n",
    "</stuff>\"\"\"\n",
    "\n",
    "stuff = ET.fromstring(input)\n",
    "lst = stuff.findall('users/user')\n",
    "print 'User count:', len(lst)\n",
    "\n",
    "for item in lst:\n",
    "    print 'Name', item.find('name').text\n",
    "    print 'Id', item.find('id').text\n",
    "    print 'Attribute', item.get('x')"
   ]
  },
  {
   "cell_type": "code",
   "execution_count": null,
   "metadata": {
    "collapsed": false
   },
   "outputs": [],
   "source": [
    "import json\n",
    "\n",
    "input = \"\"\"\n",
    "[\n",
    "  { \"id\" : \"001\",\n",
    "    \"x\" : \"2\",\n",
    "    \"name\" : \"Chuck\"\n",
    "  } ,\n",
    "  { \"id\" : \"009\",\n",
    "    \"x\" : \"7\",\n",
    "    \"name\" : \"Chuck\"\n",
    "  } \n",
    "]\"\"\"\n",
    "\n",
    "info = json.loads(input)\n",
    "print 'User count:', len(info)\n",
    "\n",
    "for item in info:\n",
    "    print 'Name', item['name']\n",
    "    print 'Id', item['id']\n",
    "    print 'Attribute', item['x']"
   ]
  },
  {
   "cell_type": "markdown",
   "metadata": {},
   "source": [
    "# Exercises\n",
    "\n",
    "1. Make some memes using a meme API. Use requests.\n",
    "2. Take a look at the [google geocoding API](https://developers.google.com/maps/documentation/geocoding/intro). Try to send it a location (like Porland!) and get the latitude and longitude back."
   ]
  },
  {
   "cell_type": "markdown",
   "metadata": {},
   "source": [
    "# APIs\n",
    "\n",
    "## Google Geocoding API"
   ]
  },
  {
   "cell_type": "code",
   "execution_count": null,
   "metadata": {
    "collapsed": false
   },
   "outputs": [],
   "source": [
    "import urllib\n",
    "import json\n",
    "\n",
    "serviceurl = 'http://maps.googleapis.com/maps/api/geocode/json?'\n",
    "\n",
    "while True:\n",
    "    address = raw_input('Enter location: ')\n",
    "    if len(address) < 1 : break\n",
    "\n",
    "    url = serviceurl + urllib.urlencode({'sensor':'false', \n",
    "          'address': address})\n",
    "    print 'Retrieving', url\n",
    "    uh = urllib.urlopen(url)\n",
    "    data = uh.read()\n",
    "    print 'Retrieved',len(data),'characters'\n",
    "\n",
    "    try: js = json.loads(str(data))\n",
    "    except: js = None\n",
    "    if 'status' not in js or js['status'] != 'OK':\n",
    "        print '==== Failure To Retrieve ===='\n",
    "        print data\n",
    "        continue\n",
    "\n",
    "    print json.dumps(js, indent=4)\n",
    "\n",
    "    lat = js[\"results\"][0][\"geometry\"][\"location\"][\"lat\"]\n",
    "    lng = js[\"results\"][0][\"geometry\"][\"location\"][\"lng\"]\n",
    "    print 'lat',lat,'lng',lng\n",
    "    location = js['results'][0]['formatted_address']\n",
    "    print location"
   ]
  },
  {
   "cell_type": "markdown",
   "metadata": {},
   "source": [
    "## Security and API usage"
   ]
  },
  {
   "cell_type": "markdown",
   "metadata": {},
   "source": [
    "* API Keys\n",
    ">Sometimes once you get your API key, you simply include the key as part of POST data or perhaps as a parameter on the URL when calling the API.\n",
    "\n",
    "* OAuth and OAuth2\n",
    ">Other times, the vendor wants increased assurance of the source of the requests and so they add expect you to send cryptographically signed messages using shared keys and secrets. A very common technology that is used to sign requests over the Internet is called OAuth. You can read more about the OAuth protocol at http://www.oauth.net.\n",
    "\n",
    "\n",
    "# Playing with the twitter API\n",
    "\n",
    "For this next sample program we will download these files: twurl.py, hidden.py, oauth.py, and twitter1.py from www.py4inf.com/code and put them all in a folder on your computer.\n",
    "\n",
    "Follow the exercises at the bottom of the page here: http://www.pythonlearn.com/html-008/cfbook014.html\n",
    "\n"
   ]
  },
  {
   "cell_type": "markdown",
   "metadata": {},
   "source": [
    "# Project proposal templates\n",
    "\n",
    "http://www.volere.co.uk/template.htm\n",
    "https://programmers.stackexchange.com/questions/6394/project-proposal-templates-requirements"
   ]
  }
 ],
 "metadata": {
  "kernelspec": {
   "display_name": "Python 2",
   "language": "python",
   "name": "python2"
  },
  "language_info": {
   "codemirror_mode": {
    "name": "ipython",
    "version": 2
   },
   "file_extension": ".py",
   "mimetype": "text/x-python",
   "name": "python",
   "nbconvert_exporter": "python",
   "pygments_lexer": "ipython2",
   "version": "2.7.10"
  }
 },
 "nbformat": 4,
 "nbformat_minor": 0
}
