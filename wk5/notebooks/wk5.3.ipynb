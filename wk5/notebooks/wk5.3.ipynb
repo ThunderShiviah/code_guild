{
 "cells": [
  {
   "cell_type": "markdown",
   "metadata": {},
   "source": [
    "# If you're stuck read this:\n",
    "https://en.wikipedia.org/wiki/How_to_Solve_It\n",
    "\n",
    "# Working with objects\n",
    "\n"
   ]
  },
  {
   "cell_type": "code",
   "execution_count": 14,
   "metadata": {
    "collapsed": true
   },
   "outputs": [],
   "source": [
    "class Card:\n",
    "    \n",
    "    def __init__(self, rank, suit):\n",
    "        self.suit = suit\n",
    "        self.rank = rank\n",
    "        "
   ]
  },
  {
   "cell_type": "code",
   "execution_count": 20,
   "metadata": {
    "collapsed": false
   },
   "outputs": [
    {
     "data": {
      "text/plain": [
       "'king'"
      ]
     },
     "execution_count": 20,
     "metadata": {},
     "output_type": "execute_result"
    }
   ],
   "source": [
    "card = Card(\"king\", \"clubs\")\n",
    "card.rank"
   ]
  },
  {
   "cell_type": "code",
   "execution_count": 22,
   "metadata": {
    "collapsed": false
   },
   "outputs": [
    {
     "data": {
      "text/plain": [
       "'King'"
      ]
     },
     "execution_count": 22,
     "metadata": {},
     "output_type": "execute_result"
    }
   ],
   "source": [
    "card2 = Card(\"King\", \"clubs\")\n",
    "card2"
   ]
  },
  {
   "cell_type": "code",
   "execution_count": null,
   "metadata": {
    "collapsed": true
   },
   "outputs": [],
   "source": [
    "\n",
    "\n",
    "\n",
    "\n",
    "\n",
    "\n",
    "\n",
    "\n",
    "\n",
    "\n",
    "\n"
   ]
  },
  {
   "cell_type": "code",
   "execution_count": 23,
   "metadata": {
    "collapsed": true
   },
   "outputs": [],
   "source": [
    "class Card:\n",
    "    def __init__(self, suit=0, rank=0):\n",
    "        self.suit = suit\n",
    "        self.rank = rank\n"
   ]
  },
  {
   "cell_type": "code",
   "execution_count": 25,
   "metadata": {
    "collapsed": false
   },
   "outputs": [
    {
     "data": {
      "text/plain": [
       "<__main__.Card at 0x7fd04c38ca20>"
      ]
     },
     "execution_count": 25,
     "metadata": {},
     "output_type": "execute_result"
    }
   ],
   "source": [
    "three_of_clubs = Card(0, 3)\n",
    "card1 = Card(1, 11)\n",
    "card1"
   ]
  },
  {
   "cell_type": "code",
   "execution_count": 26,
   "metadata": {
    "collapsed": true
   },
   "outputs": [],
   "source": [
    "class Card:\n",
    "    suits = [\"Clubs\", \"Diamonds\", \"Hearts\", \"Spades\"]\n",
    "    ranks = [\"narf\", \"Ace\", \"2\", \"3\", \"4\", \"5\", \"6\", \"7\",\n",
    "             \"8\", \"9\", \"10\", \"Jack\", \"Queen\", \"King\"]\n",
    "\n",
    "    def __init__(self, suit=0, rank=0):\n",
    "        self.suit = suit\n",
    "        self.rank = rank\n",
    "\n",
    "    def __str__(self):\n",
    "        return (self.ranks[self.rank] + \" of \" + self.suits[self.suit])"
   ]
  },
  {
   "cell_type": "code",
   "execution_count": 27,
   "metadata": {
    "collapsed": true
   },
   "outputs": [],
   "source": [
    "card = Card()\n"
   ]
  },
  {
   "cell_type": "code",
   "execution_count": 37,
   "metadata": {
    "collapsed": false
   },
   "outputs": [
    {
     "data": {
      "text/plain": [
       "(0, 0)"
      ]
     },
     "execution_count": 37,
     "metadata": {},
     "output_type": "execute_result"
    }
   ],
   "source": [
    "(card.rank, card.suit)"
   ]
  },
  {
   "cell_type": "code",
   "execution_count": 42,
   "metadata": {
    "collapsed": true
   },
   "outputs": [],
   "source": [
    "class Card:\n",
    "    suits = [\"Clubs\", \"Diamonds\", \"Hearts\", \"Spades\"]\n",
    "    ranks = [\"narf\", \"Ace\", \"2\", \"3\", \"4\", \"5\", \"6\", \"7\",\n",
    "             \"8\", \"9\", \"10\", \"Jack\", \"Queen\", \"King\"]\n",
    "\n",
    "    def __init__(self, suit=0, rank=1):\n",
    "        self.suit = suit\n",
    "        self.rank = rank\n",
    "\n",
    "    def __str__(self):\n",
    "        return (self.ranks[self.rank] + \" of \" + self.suits[self.suit])\n",
    "\n",
    "    def cmp(self, other):\n",
    "        # Check the suits\n",
    "        if self.suit > other.suit: return 1\n",
    "        if self.suit < other.suit: return -1\n",
    "        # Suits are the same... check ranks\n",
    "        if self.rank > other.rank: return 1\n",
    "        if self.rank < other.rank: return -1\n",
    "        # Ranks are the same... it's a tie\n",
    "        return 0"
   ]
  },
  {
   "cell_type": "code",
   "execution_count": 50,
   "metadata": {
    "collapsed": false
   },
   "outputs": [
    {
     "name": "stdout",
     "output_type": "stream",
     "text": [
      "Ace of Clubs 5 of Spades 6 of Spades\n"
     ]
    },
    {
     "ename": "TypeError",
     "evalue": "unorderable types: Card() < Card()",
     "output_type": "error",
     "traceback": [
      "\u001b[1;31m---------------------------------------------------------------------------\u001b[0m",
      "\u001b[1;31mTypeError\u001b[0m                                 Traceback (most recent call last)",
      "\u001b[1;32m<ipython-input-50-0a599b1b2320>\u001b[0m in \u001b[0;36m<module>\u001b[1;34m()\u001b[0m\n\u001b[0;32m      4\u001b[0m \u001b[0mprint\u001b[0m\u001b[1;33m(\u001b[0m\u001b[0mcard\u001b[0m\u001b[1;33m,\u001b[0m \u001b[0mcard2\u001b[0m\u001b[1;33m,\u001b[0m \u001b[0mcard3\u001b[0m\u001b[1;33m)\u001b[0m\u001b[1;33m\u001b[0m\u001b[0m\n\u001b[0;32m      5\u001b[0m \u001b[1;33m\u001b[0m\u001b[0m\n\u001b[1;32m----> 6\u001b[1;33m \u001b[0mcard2\u001b[0m \u001b[1;33m<\u001b[0m \u001b[0mcard3\u001b[0m\u001b[1;33m\u001b[0m\u001b[0m\n\u001b[0m",
      "\u001b[1;31mTypeError\u001b[0m: unorderable types: Card() < Card()"
     ]
    }
   ],
   "source": [
    "card = Card()\n",
    "card2 = Card(3, 5)\n",
    "card3 = Card(3, 6)\n",
    "print(card, card2, card3)\n",
    "\n",
    "card2 < card3"
   ]
  },
  {
   "cell_type": "code",
   "execution_count": 52,
   "metadata": {
    "collapsed": true
   },
   "outputs": [],
   "source": [
    "class Card:\n",
    "    suits = [\"Clubs\", \"Diamonds\", \"Hearts\", \"Spades\"]\n",
    "    ranks = [\"narf\", \"Ace\", \"2\", \"3\", \"4\", \"5\", \"6\", \"7\",\n",
    "             \"8\", \"9\", \"10\", \"Jack\", \"Queen\", \"King\"]\n",
    "\n",
    "    def __init__(self, suit=0, rank=1):\n",
    "        self.suit = suit\n",
    "        self.rank = rank\n",
    "\n",
    "    def __str__(self):\n",
    "        return (self.ranks[self.rank] + \" of \" + self.suits[self.suit])\n",
    "\n",
    "    def cmp(self, other):\n",
    "        # Check the suits\n",
    "        if self.suit > other.suit: return 1\n",
    "        if self.suit < other.suit: return -1\n",
    "        # Suits are the same... check ranks\n",
    "        if self.rank > other.rank: return 1\n",
    "        if self.rank < other.rank: return -1\n",
    "        # Ranks are the same... it's a tie\n",
    "        return 0\n",
    "\n",
    "    def __eq__(self, other):\n",
    "        return self.cmp(other) == 0\n",
    "\n",
    "    def __le__(self, other):\n",
    "        return self.cmp(other) <= 0\n",
    "\n",
    "    def __ge__(self, other):\n",
    "        return self.cmp(other) >= 0\n",
    "\n",
    "    def __gt__(self, other):\n",
    "        return self.cmp(other) > 0\n",
    "\n",
    "    def __lt__(self, other):\n",
    "        return self.cmp(other) < 0\n",
    "\n",
    "    def __ne__(self, other):\n",
    "        return self.cmp(other) != 0"
   ]
  },
  {
   "cell_type": "code",
   "execution_count": 56,
   "metadata": {
    "collapsed": false
   },
   "outputs": [
    {
     "name": "stdout",
     "output_type": "stream",
     "text": [
      "Ace of Clubs 5 of Spades 6 of Spades\n"
     ]
    },
    {
     "data": {
      "text/plain": [
       "False"
      ]
     },
     "execution_count": 56,
     "metadata": {},
     "output_type": "execute_result"
    }
   ],
   "source": [
    "card = Card()\n",
    "card2 = Card(3, 5)\n",
    "card3 = Card(3, 6)\n",
    "print(card, card2, card3)\n",
    "\n",
    "card2 >= card3"
   ]
  },
  {
   "cell_type": "code",
   "execution_count": 57,
   "metadata": {
    "collapsed": true
   },
   "outputs": [],
   "source": [
    "class Deck:\n",
    "    def __init__(self):\n",
    "        self.cards = []\n",
    "        for suit in range(4):\n",
    "            for rank in range(1, 14):\n",
    "                self.cards.append(Card(suit, rank))"
   ]
  },
  {
   "cell_type": "code",
   "execution_count": 60,
   "metadata": {
    "collapsed": false
   },
   "outputs": [
    {
     "data": {
      "text/plain": [
       "[<__main__.Card at 0x7fd04c3b7e10>,\n",
       " <__main__.Card at 0x7fd04c3b7e48>,\n",
       " <__main__.Card at 0x7fd04c3b7e80>,\n",
       " <__main__.Card at 0x7fd04c3b72b0>,\n",
       " <__main__.Card at 0x7fd04c3b7ba8>,\n",
       " <__main__.Card at 0x7fd04c3b7b00>,\n",
       " <__main__.Card at 0x7fd04c3b7d30>,\n",
       " <__main__.Card at 0x7fd04c3b7d68>,\n",
       " <__main__.Card at 0x7fd04c3b7da0>,\n",
       " <__main__.Card at 0x7fd04c3b7668>,\n",
       " <__main__.Card at 0x7fd04c3b76d8>,\n",
       " <__main__.Card at 0x7fd04c3b79e8>,\n",
       " <__main__.Card at 0x7fd04c3b77b8>,\n",
       " <__main__.Card at 0x7fd04c3b7048>,\n",
       " <__main__.Card at 0x7fd04c3b7080>,\n",
       " <__main__.Card at 0x7fd04c3b70b8>,\n",
       " <__main__.Card at 0x7fd04c3b70f0>,\n",
       " <__main__.Card at 0x7fd04c3b7908>,\n",
       " <__main__.Card at 0x7fd04c3b7550>,\n",
       " <__main__.Card at 0x7fd04c3b7518>,\n",
       " <__main__.Card at 0x7fd04c3b7400>,\n",
       " <__main__.Card at 0x7fd04c3b7160>,\n",
       " <__main__.Card at 0x7fd04c3b7128>,\n",
       " <__main__.Card at 0x7fd04c3b7208>,\n",
       " <__main__.Card at 0x7fd04c3b72e8>,\n",
       " <__main__.Card at 0x7fd04c3b7438>,\n",
       " <__main__.Card at 0x7fd04c3b7470>,\n",
       " <__main__.Card at 0x7fd04c3a2f28>,\n",
       " <__main__.Card at 0x7fd04c3a2e48>,\n",
       " <__main__.Card at 0x7fd04c3a2f60>,\n",
       " <__main__.Card at 0x7fd04c3a2d30>,\n",
       " <__main__.Card at 0x7fd04c3a2c88>,\n",
       " <__main__.Card at 0x7fd04c3a2908>,\n",
       " <__main__.Card at 0x7fd04c3a2940>,\n",
       " <__main__.Card at 0x7fd04c3a2b38>,\n",
       " <__main__.Card at 0x7fd04c3a29e8>,\n",
       " <__main__.Card at 0x7fd04c3a2b70>,\n",
       " <__main__.Card at 0x7fd04c3a2ba8>,\n",
       " <__main__.Card at 0x7fd04c3a2ac8>,\n",
       " <__main__.Card at 0x7fd04c3a24a8>,\n",
       " <__main__.Card at 0x7fd04c3a2a20>,\n",
       " <__main__.Card at 0x7fd04c3a2470>,\n",
       " <__main__.Card at 0x7fd04c3a2080>,\n",
       " <__main__.Card at 0x7fd04c3a2b00>,\n",
       " <__main__.Card at 0x7fd04c3a2a90>,\n",
       " <__main__.Card at 0x7fd04c3a2c18>,\n",
       " <__main__.Card at 0x7fd04c3a2be0>,\n",
       " <__main__.Card at 0x7fd04c3a2e80>,\n",
       " <__main__.Card at 0x7fd04c3a2ef0>,\n",
       " <__main__.Card at 0x7fd04c3a2eb8>,\n",
       " <__main__.Card at 0x7fd04c386a58>,\n",
       " <__main__.Card at 0x7fd04c386588>]"
      ]
     },
     "execution_count": 60,
     "metadata": {},
     "output_type": "execute_result"
    }
   ],
   "source": [
    "deck = Deck()\n",
    "deck.cards"
   ]
  },
  {
   "cell_type": "code",
   "execution_count": 68,
   "metadata": {
    "collapsed": true
   },
   "outputs": [],
   "source": [
    "class Deck:\n",
    "\n",
    "    def __init__(self):\n",
    "        self.cards = []\n",
    "        for suit in range(4):\n",
    "            for rank in range(1, 14):\n",
    "                self.cards.append(Card(suit, rank))\n",
    "\n",
    "    def __str__(self):\n",
    "        s = \"\"\n",
    "        for i in range(len(self.cards)):\n",
    "            s = s + \" \" * i + str(self.cards[i]) + \"\\n\"\n",
    "        return s"
   ]
  },
  {
   "cell_type": "code",
   "execution_count": 69,
   "metadata": {
    "collapsed": false
   },
   "outputs": [
    {
     "name": "stdout",
     "output_type": "stream",
     "text": [
      "Ace of Clubs\n",
      " 2 of Clubs\n",
      "  3 of Clubs\n",
      "   4 of Clubs\n",
      "    5 of Clubs\n",
      "     6 of Clubs\n",
      "      7 of Clubs\n",
      "       8 of Clubs\n",
      "        9 of Clubs\n",
      "         10 of Clubs\n",
      "          Jack of Clubs\n",
      "           Queen of Clubs\n",
      "            King of Clubs\n",
      "             Ace of Diamonds\n",
      "              2 of Diamonds\n",
      "               3 of Diamonds\n",
      "                4 of Diamonds\n",
      "                 5 of Diamonds\n",
      "                  6 of Diamonds\n",
      "                   7 of Diamonds\n",
      "                    8 of Diamonds\n",
      "                     9 of Diamonds\n",
      "                      10 of Diamonds\n",
      "                       Jack of Diamonds\n",
      "                        Queen of Diamonds\n",
      "                         King of Diamonds\n",
      "                          Ace of Hearts\n",
      "                           2 of Hearts\n",
      "                            3 of Hearts\n",
      "                             4 of Hearts\n",
      "                              5 of Hearts\n",
      "                               6 of Hearts\n",
      "                                7 of Hearts\n",
      "                                 8 of Hearts\n",
      "                                  9 of Hearts\n",
      "                                   10 of Hearts\n",
      "                                    Jack of Hearts\n",
      "                                     Queen of Hearts\n",
      "                                      King of Hearts\n",
      "                                       Ace of Spades\n",
      "                                        2 of Spades\n",
      "                                         3 of Spades\n",
      "                                          4 of Spades\n",
      "                                           5 of Spades\n",
      "                                            6 of Spades\n",
      "                                             7 of Spades\n",
      "                                              8 of Spades\n",
      "                                               9 of Spades\n",
      "                                                10 of Spades\n",
      "                                                 Jack of Spades\n",
      "                                                  Queen of Spades\n",
      "                                                   King of Spades\n",
      "\n"
     ]
    }
   ],
   "source": [
    "deck = Deck()\n",
    "print(deck)"
   ]
  },
  {
   "cell_type": "code",
   "execution_count": 11,
   "metadata": {
    "collapsed": true
   },
   "outputs": [],
   "source": [
    "class Deck:\n",
    "    ...\n",
    "    def remove(self, card):\n",
    "        if card in self.cards:\n",
    "            self.cards.remove(card)\n",
    "            return True\n",
    "        else:\n",
    "            return False"
   ]
  },
  {
   "cell_type": "code",
   "execution_count": 12,
   "metadata": {
    "collapsed": true
   },
   "outputs": [],
   "source": [
    "class Deck:\n",
    "    ...\n",
    "    def pop(self):\n",
    "        return self.cards.pop()"
   ]
  },
  {
   "cell_type": "code",
   "execution_count": 13,
   "metadata": {
    "collapsed": true
   },
   "outputs": [],
   "source": [
    "class Deck:\n",
    "    ...\n",
    "    def is_empty(self):\n",
    "        return self.cards == []"
   ]
  },
  {
   "cell_type": "code",
   "execution_count": 70,
   "metadata": {
    "collapsed": true
   },
   "outputs": [],
   "source": [
    "class Deck:\n",
    "\n",
    "    def __init__(self):\n",
    "        self.cards = []\n",
    "        for suit in range(4):\n",
    "            for rank in range(1, 14):\n",
    "                self.cards.append(Card(suit, rank))\n",
    "\n",
    "    def __str__(self):\n",
    "        s = \"\"\n",
    "        for i in range(len(self.cards)):\n",
    "            s = s + \" \" * i + str(self.cards[i]) + \"\\n\"\n",
    "        return s\n",
    "    \n",
    "    def remove(self, card):\n",
    "        if card in self.cards:\n",
    "            self.cards.remove(card)\n",
    "            return True\n",
    "        else:\n",
    "            return False\n",
    "        \n",
    "    def pop(self):\n",
    "        return self.cards.pop()\n",
    "    \n",
    "    def is_empty(self):\n",
    "        return self.cards == []"
   ]
  },
  {
   "cell_type": "code",
   "execution_count": 77,
   "metadata": {
    "collapsed": false
   },
   "outputs": [
    {
     "name": "stdout",
     "output_type": "stream",
     "text": [
      "2 of Diamonds\n"
     ]
    },
    {
     "data": {
      "text/plain": [
       "True"
      ]
     },
     "execution_count": 77,
     "metadata": {},
     "output_type": "execute_result"
    }
   ],
   "source": [
    "deck = Deck()\n",
    "card = Card(1,2)\n",
    "print(card)\n",
    "deck.remove(card)"
   ]
  },
  {
   "cell_type": "code",
   "execution_count": 80,
   "metadata": {
    "collapsed": false
   },
   "outputs": [
    {
     "name": "stdout",
     "output_type": "stream",
     "text": [
      "Queen of Spades\n"
     ]
    }
   ],
   "source": [
    "print(deck.pop())"
   ]
  },
  {
   "cell_type": "code",
   "execution_count": 81,
   "metadata": {
    "collapsed": false
   },
   "outputs": [
    {
     "name": "stdout",
     "output_type": "stream",
     "text": [
      "Ace of Clubs\n",
      " 2 of Clubs\n",
      "  3 of Clubs\n",
      "   4 of Clubs\n",
      "    5 of Clubs\n",
      "     6 of Clubs\n",
      "      7 of Clubs\n",
      "       8 of Clubs\n",
      "        9 of Clubs\n",
      "         10 of Clubs\n",
      "          Jack of Clubs\n",
      "           Queen of Clubs\n",
      "            King of Clubs\n",
      "             Ace of Diamonds\n",
      "              3 of Diamonds\n",
      "               4 of Diamonds\n",
      "                5 of Diamonds\n",
      "                 6 of Diamonds\n",
      "                  7 of Diamonds\n",
      "                   8 of Diamonds\n",
      "                    9 of Diamonds\n",
      "                     10 of Diamonds\n",
      "                      Jack of Diamonds\n",
      "                       Queen of Diamonds\n",
      "                        King of Diamonds\n",
      "                         Ace of Hearts\n",
      "                          2 of Hearts\n",
      "                           3 of Hearts\n",
      "                            4 of Hearts\n",
      "                             5 of Hearts\n",
      "                              6 of Hearts\n",
      "                               7 of Hearts\n",
      "                                8 of Hearts\n",
      "                                 9 of Hearts\n",
      "                                  10 of Hearts\n",
      "                                   Jack of Hearts\n",
      "                                    Queen of Hearts\n",
      "                                     King of Hearts\n",
      "                                      Ace of Spades\n",
      "                                       2 of Spades\n",
      "                                        3 of Spades\n",
      "                                         4 of Spades\n",
      "                                          5 of Spades\n",
      "                                           6 of Spades\n",
      "                                            7 of Spades\n",
      "                                             8 of Spades\n",
      "                                              9 of Spades\n",
      "                                               10 of Spades\n",
      "                                                Jack of Spades\n",
      "\n"
     ]
    }
   ],
   "source": [
    "print(deck)"
   ]
  },
  {
   "cell_type": "code",
   "execution_count": null,
   "metadata": {
    "collapsed": true
   },
   "outputs": [],
   "source": []
  }
 ],
 "metadata": {
  "kernelspec": {
   "display_name": "Python 3",
   "language": "python",
   "name": "python3"
  },
  "language_info": {
   "codemirror_mode": {
    "name": "ipython",
    "version": 3
   },
   "file_extension": ".py",
   "mimetype": "text/x-python",
   "name": "python",
   "nbconvert_exporter": "python",
   "pygments_lexer": "ipython3",
   "version": "3.5.0"
  }
 },
 "nbformat": 4,
 "nbformat_minor": 0
}
