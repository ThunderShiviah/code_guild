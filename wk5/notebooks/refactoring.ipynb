{
 "cells": [
  {
   "cell_type": "markdown",
   "metadata": {},
   "source": [
    "# The offending code"
   ]
  },
  {
   "cell_type": "code",
   "execution_count": 18,
   "metadata": {
    "collapsed": true
   },
   "outputs": [],
   "source": [
    "\n",
    "\n",
    "def evaluator(dealer, player_, new_deck):\n",
    "    \"\"\"Compares hand values and decides who wins and loses.\n",
    "    \"\"\"\n",
    "    \"\"\"Player wins outright\"\"\"\n",
    "    if player_.hand.handValue() > dealer.hand.handValue() and (\n",
    "        dealer.hand.handValue() < 22):\n",
    "        print(\"\\n\\nYou win!\\n\\n\\n\") \n",
    "    \"\"\"Dealer busts\"\"\"\n",
    "    if player_.hand.handValue() < dealer.hand.handValue() and (\n",
    "        dealer.hand.handValue() > 22):\n",
    "        print(\"\\n\\nYou win!\\n\\n\\n\")\n",
    "    \"\"\"Player loses outright\"\"\"\n",
    "    if player_.hand.handValue() < dealer.hand.handValue() and (\n",
    "        dealer.hand.handValue() < 22):\n",
    "        print(\"\\n\\nYou lose!\\n\\n\\n\")\n",
    "    \"\"\"Draw situation\"\"\"\n",
    "    if player_.hand.handValue() == dealer.hand.handValue():\n",
    "        print(\"\\n\\nIt's a draw!\\n\\n\\n\")\n",
    "    \n",
    "\n"
   ]
  },
  {
   "cell_type": "markdown",
   "metadata": {},
   "source": [
    "# Re-implement as a dictionary"
   ]
  },
  {
   "cell_type": "code",
   "execution_count": 138,
   "metadata": {
    "collapsed": false
   },
   "outputs": [],
   "source": [
    "class Player:\n",
    "    \n",
    "    def __init__(self, score=0):\n",
    "        self.score = score\n",
    "        self.won = None\n",
    "\n",
    "\n",
    "    def evaluator(self, other):\n",
    "\n",
    "        def win():\n",
    "            self.won = True\n",
    "            return \"Player won\"\n",
    "\n",
    "        def lose():\n",
    "            self.won = False\n",
    "            return \"Player lost\"\n",
    "            \n",
    "        win_dict = {True: {True: lose(), False: win()},\n",
    "            False: {True: win(), False: lose()}}\n",
    "            \n",
    "        if self.score == other.score:\n",
    "            return \"It's a draw\"\n",
    "        else:\n",
    "            return win_dict[self.score > other.score][other.score > 22]\n",
    "\n",
    "\n"
   ]
  },
  {
   "cell_type": "code",
   "execution_count": 140,
   "metadata": {
    "collapsed": false
   },
   "outputs": [
    {
     "data": {
      "text/plain": [
       "'Player won'"
      ]
     },
     "execution_count": 140,
     "metadata": {},
     "output_type": "execute_result"
    }
   ],
   "source": [
    "player = Player(19)\n",
    "dealer = Player(24)\n",
    "\n",
    "player.evaluator(dealer)\n"
   ]
  },
  {
   "cell_type": "markdown",
   "metadata": {},
   "source": [
    "# Can we clean this up even more?"
   ]
  },
  {
   "cell_type": "code",
   "execution_count": 141,
   "metadata": {
    "collapsed": false
   },
   "outputs": [],
   "source": [
    "class Player:\n",
    "\n",
    "    def __init__(self, score=0):\n",
    "        self.score = score\n",
    "        self.won = None\n",
    "\n",
    "\n",
    "    def evaluator(self, other):\n",
    "\n",
    "\n",
    "        win_dict = {True: {True: False, False: True},\n",
    "        False: {True: True, False: False}}\n",
    "\n",
    "        if (self.score == other.score):\n",
    "            print(\"It's a draw\")\n",
    "                    \n",
    "        else:\n",
    "            self.score = win_dict[self.score > other.score][other.score > 22]\n",
    "            print(\"self.score = \", self.score)\n",
    "            print(\"Player has {}\".format((self.score and \"won\") or \"lost\"))\n"
   ]
  },
  {
   "cell_type": "code",
   "execution_count": 143,
   "metadata": {
    "collapsed": false
   },
   "outputs": [
    {
     "name": "stdout",
     "output_type": "stream",
     "text": [
      "self.score =  True\n",
      "Player has won\n"
     ]
    }
   ],
   "source": [
    "player = Player(21)\n",
    "dealer = Player(20)\n",
    "\n",
    "player.evaluator(dealer)"
   ]
  },
  {
   "cell_type": "markdown",
   "metadata": {},
   "source": [
    "# Observation: our win dict is an XOR"
   ]
  },
  {
   "cell_type": "code",
   "execution_count": 148,
   "metadata": {
    "collapsed": false
   },
   "outputs": [],
   "source": [
    "class Player:\n",
    "\n",
    "    def __init__(self, score=0):\n",
    "        self.score = score\n",
    "        self.won = None\n",
    "\n",
    "\n",
    "    def evaluator(self, other):\n",
    "\n",
    "\n",
    "        if (self.score == other.score):\n",
    "            print(\"It's a draw\")\n",
    "                    \n",
    "        else:\n",
    "            self.won = (self.score > other.score) != (other.score > 22) # Is this readable?\n",
    "            print(\"self.score = \", self.score)\n",
    "            print(\"Player has {}\".format((self.won and \"won\") or \"lost\"))"
   ]
  },
  {
   "cell_type": "code",
   "execution_count": 149,
   "metadata": {
    "collapsed": false
   },
   "outputs": [
    {
     "name": "stdout",
     "output_type": "stream",
     "text": [
      "self.score =  21\n",
      "Player has won\n"
     ]
    }
   ],
   "source": [
    "player = Player(21)\n",
    "dealer = Player(20)\n",
    "\n",
    "player.evaluator(dealer)"
   ]
  },
  {
   "cell_type": "code",
   "execution_count": null,
   "metadata": {
    "collapsed": true
   },
   "outputs": [],
   "source": []
  }
 ],
 "metadata": {
  "kernelspec": {
   "display_name": "Python 3",
   "language": "python",
   "name": "python3"
  },
  "language_info": {
   "codemirror_mode": {
    "name": "ipython",
    "version": 3
   },
   "file_extension": ".py",
   "mimetype": "text/x-python",
   "name": "python",
   "nbconvert_exporter": "python",
   "pygments_lexer": "ipython3",
   "version": "3.5.0"
  }
 },
 "nbformat": 4,
 "nbformat_minor": 0
}
