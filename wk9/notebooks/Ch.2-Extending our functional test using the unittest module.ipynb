{
 "cells": [
  {
   "cell_type": "markdown",
   "metadata": {},
   "source": [
    "# Ch. 2: Extending our functional test using the unittest module"
   ]
  },
  {
   "cell_type": "markdown",
   "metadata": {},
   "source": [
    "## Using a functional test to scope out a miniumum viable app\n",
    "\n",
    "We'll use selenium to simulate a user visiting our website in a real web browser. We call our tests with selenium *functional tests* because they let us see how the app functions from the user's point of view.\n",
    "\n",
    "Functional tests tend to track what we might call the *User Story*, i.e. how a user might work with a particular feature and how the app should respond to them.\n",
    "\n",
    "### Functional Test == Acceptance Test == End-to-End Test\n",
    "\n",
    "### Minimum viable app\n",
    "What is the simplest thing that we can build that is still useful?"
   ]
  },
  {
   "cell_type": "code",
   "execution_count": 5,
   "metadata": {
    "collapsed": false
   },
   "outputs": [
    {
     "name": "stdout",
     "output_type": "stream",
     "text": [
      "db.sqlite3  functional_tests.py  \u001b[0m\u001b[01;32mmanage.py\u001b[0m*  \u001b[01;34msuperlists\u001b[0m/\r\n"
     ]
    }
   ],
   "source": [
    "#%cd ../examples/superlists/\n",
    "%ls"
   ]
  },
  {
   "cell_type": "code",
   "execution_count": 8,
   "metadata": {
    "collapsed": false
   },
   "outputs": [
    {
     "name": "stdout",
     "output_type": "stream",
     "text": [
      "Overwriting functional_tests.py\n"
     ]
    }
   ],
   "source": [
    "%%writefile functional_tests.py\n",
    "\n",
    "from selenium import webdriver\n",
    "\n",
    "browser = webdriver.Firefox()\n",
    "\n",
    "# Edith has heard about a cool new online to-do app. She goes\n",
    "# to check out its homepage\n",
    "browser.get('http://localhost:8000')\n",
    "\n",
    "# She notices the page title and header mention to-do lists\n",
    "assert 'To-Do' in browser.title\n",
    "\n",
    "# She is invited to enter a to-do item straight away\n",
    "\n",
    "# She types \"Buy peacock feathers\" into a text box (Edith's hobby\n",
    "# is tying fly-fishing lures)\n",
    "\n",
    "# When she hits enter, the page updates, and now the page lists\n",
    "# \"1: Buy peacock feathers\" as an item in a to-do list\n",
    "\n",
    "# There is still a text box inviting her to add another item. She\n",
    "# enters \"Use peacock feathers to make a fly\" (Edith is very methodical)\n",
    "\n",
    "# The page updates again, and now shows both items on her list\n",
    "\n",
    "# Edith wonders whether the site will remember her list. Then she sees\n",
    "# that the site has generated a unique URL for her -- there is some\n",
    "# explanatory text to that effect.\n",
    "\n",
    "# She visits that URL - her to-do list is still there.\n",
    "\n",
    "# Satisfied, she goes back to sleep\n",
    "\n",
    "browser.quit()\n",
    "\n"
   ]
  },
  {
   "cell_type": "markdown",
   "metadata": {},
   "source": [
    "Notice that I've updated the assert to include the word \"To-Do\" instead of \"Django\". Now our test should fail. Let's check that it fails.\n"
   ]
  },
  {
   "cell_type": "code",
   "execution_count": 9,
   "metadata": {
    "collapsed": false
   },
   "outputs": [
    {
     "name": "stdout",
     "output_type": "stream",
     "text": [
      "Traceback (most recent call last):\r\n",
      "  File \"functional_tests.py\", line 11, in <module>\r\n",
      "    assert 'To-Do' in browser.title\r\n",
      "AssertionError\r\n"
     ]
    }
   ],
   "source": [
    "# First start up the server:\n",
    "#!python3 manage.py runserver\n",
    "\n",
    "# Run test\n",
    "!python3 functional_tests.py"
   ]
  },
  {
   "cell_type": "markdown",
   "metadata": {},
   "source": [
    "We got what was called an *expected fail* which is what we wanted!"
   ]
  },
  {
   "cell_type": "markdown",
   "metadata": {},
   "source": [
    "## Python Standard Library's unittest Module\n",
    "\n",
    "There are a couple of little annoyances we should probably deal with. Firstly, the message \"AssertionError\" isn’t very helpful—it would be nice if the test told us what it actually found as the browser title. Also, it’s left a Firefox window hanging around the desktop, it would be nice if this would clear up for us automatically.\n",
    "\n",
    "One option would be to use the second parameter to the assert keyword, something like:\n",
    "\n",
    "```python\n",
    "assert 'To-Do' in browser.title, \"Browser title was \" + browser.title\n",
    "```\n",
    "And we could also use a try/finally to clean up the old Firefox window. But these sorts of problems are quite common in testing, and there are some ready-made solutions for us in the standard library’s unittest module. Let’s use that! In functional_tests.py:"
   ]
  },
  {
   "cell_type": "code",
   "execution_count": 14,
   "metadata": {
    "collapsed": false
   },
   "outputs": [
    {
     "name": "stdout",
     "output_type": "stream",
     "text": [
      "Overwriting functional_tests.py\n"
     ]
    }
   ],
   "source": [
    "%%writefile functional_tests.py\n",
    "\n",
    "from selenium import webdriver\n",
    "import unittest\n",
    "\n",
    "class NewVisitorTest(unittest.TestCase):  #1\n",
    "\n",
    "    def setUp(self):  #2\n",
    "        self.browser = webdriver.Firefox()\n",
    "        self.browser.implicitly_wait(3) # Wait three seconds before trying anything.\n",
    "\n",
    "    def tearDown(self):  #3\n",
    "        self.browser.quit()\n",
    "\n",
    "    def test_can_start_a_list_and_retrieve_it_later(self):  #4\n",
    "        # Edith has heard about a cool new online to-do app. She goes\n",
    "        # to check out its homepage\n",
    "        self.browser.get('http://localhost:8000')\n",
    "\n",
    "        # She notices the page title and header mention to-do lists\n",
    "        self.assertIn('To-Do', self.browser.title)  #5\n",
    "        self.fail('Finish the test!')  #6\n",
    "\n",
    "        # She is invited to enter a to-do item straight away\n",
    "        # [...rest of comments as before]\n",
    "\n",
    "if __name__ == '__main__':  #7\n",
    "    unittest.main(warnings='ignore')  #8"
   ]
  },
  {
   "cell_type": "markdown",
   "metadata": {},
   "source": [
    "Some things to notice about our new test file:\n",
    "\n",
    "1. Tests are organised into classes, which inherit from unittest.TestCase.\n",
    "\n",
    "2. and\n",
    "3. setUp and tearDown are special methods which get run before and after each test. I’m using them to start and stop our browser—note that they’re a bit like a try/except, in that tearDown will run even if there’s an error during the test itself.[4] No more Firefox windows left lying around!\n",
    "\n",
    "4. The main body of the test is in a method called test_can_start_a_list_and_retrieve_it_later. Any method whose name starts with test is a test method, and will be run by the test runner. You can have more than one test_ method per class. Nice descriptive names for our test methods are a good idea too.\n",
    "\n",
    "5. We use self.assertIn instead of just assert to make our test assertions. unittest provides lots of helper functions like this to make test assertions, like assertEqual, assertTrue, assertFalse, and so on. You can find more in the  unittest documentation.\n",
    "\n",
    "6. self.fail just fails no matter what, producing the error message given. I’m using it as a reminder to finish the test.\n",
    "\n",
    "7. Finally, we have the if __name__ == '__main__' clause (if you’ve not seen it before, that’s how a Python script checks if it’s been executed from the command line, rather than just imported by another script). We call  unittest.main(), which launches the unittest test runner, which will automatically find test classes and methods in the file and run them.\n",
    "\n",
    "8. warnings='ignore' suppresses a superfluous ResourceWarning which was being emitted at the time of writing. It may have disappeared by the time you read this; feel free to try removing it!\n"
   ]
  },
  {
   "cell_type": "markdown",
   "metadata": {},
   "source": [
    "## Running our new test"
   ]
  },
  {
   "cell_type": "code",
   "execution_count": 13,
   "metadata": {
    "collapsed": false
   },
   "outputs": [
    {
     "name": "stdout",
     "output_type": "stream",
     "text": [
      "F\r\n",
      "======================================================================\r\n",
      "FAIL: test_can_start_a_list_and_retrieve_it_later (__main__.NewVisitorTest)\r\n",
      "----------------------------------------------------------------------\r\n",
      "Traceback (most recent call last):\r\n",
      "  File \"functional_tests.py\", line 19, in test_can_start_a_list_and_retrieve_it_later\r\n",
      "    self.assertIn('To-Do', self.browser.title)  #5\r\n",
      "AssertionError: 'To-Do' not found in 'Welcome to Django'\r\n",
      "\r\n",
      "----------------------------------------------------------------------\r\n",
      "Ran 1 test in 2.334s\r\n",
      "\r\n",
      "FAILED (failures=1)\r\n"
     ]
    }
   ],
   "source": [
    "!python3 functional_tests.py"
   ]
  },
  {
   "cell_type": "markdown",
   "metadata": {},
   "source": [
    "We got the same expected failure but now it looks nice!"
   ]
  }
 ],
 "metadata": {
  "kernelspec": {
   "display_name": "Python 3",
   "language": "python",
   "name": "python3"
  },
  "language_info": {
   "codemirror_mode": {
    "name": "ipython",
    "version": 3
   },
   "file_extension": ".py",
   "mimetype": "text/x-python",
   "name": "python",
   "nbconvert_exporter": "python",
   "pygments_lexer": "ipython3",
   "version": "3.5.0"
  }
 },
 "nbformat": 4,
 "nbformat_minor": 0
}
