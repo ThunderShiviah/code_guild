{
 "cells": [
  {
   "cell_type": "markdown",
   "metadata": {},
   "source": [
    "# Using Selenium to Test User Interactions\n",
    "\n",
    "Where were we at the end of the last chapter? Let’s rerun the test and find out:"
   ]
  },
  {
   "cell_type": "code",
   "execution_count": 1,
   "metadata": {
    "collapsed": false
   },
   "outputs": [
    {
     "name": "stdout",
     "output_type": "stream",
     "text": [
      "/home/thunder/Documents/work/codeguild2015/code_guild/wk9/testing/superlists\n"
     ]
    }
   ],
   "source": [
    "%cd ../testing/superlists/"
   ]
  },
  {
   "cell_type": "code",
   "execution_count": 3,
   "metadata": {
    "collapsed": false
   },
   "outputs": [
    {
     "name": "stdout",
     "output_type": "stream",
     "text": [
      "F\r\n",
      "======================================================================\r\n",
      "FAIL: test_can_start_a_list_and_retrieve_it_later (__main__.NewVisitorTest)\r\n",
      "----------------------------------------------------------------------\r\n",
      "Traceback (most recent call last):\r\n",
      "  File \"functional_tests.py\", line 21, in test_can_start_a_list_and_retrieve_it_later\r\n",
      "    self.fail('Finish the test!')  #6\r\n",
      "AssertionError: Finish the test!\r\n",
      "\r\n",
      "----------------------------------------------------------------------\r\n",
      "Ran 1 test in 3.771s\r\n",
      "\r\n",
      "FAILED (failures=1)\r\n"
     ]
    }
   ],
   "source": [
    "!python3 functional_tests.py"
   ]
  },
  {
   "cell_type": "markdown",
   "metadata": {},
   "source": [
    "Did you try it, and get an error saying Problem loading page or Unable to connect? So did I. It’s because we forgot to spin up the dev server first using manage.py runserver. Do that, and you’ll get the failure message we’re after.\n",
    "\n",
    ">One of the great things about TDD is that you never have to worry about forgetting what to do next—just rerun your tests and they will tell you what you need to work on.\n",
    "\n",
    "“Finish the test”, it says, so let’s do just that! Open up functional_tests.py and we’ll extend our FT:\n"
   ]
  },
  {
   "cell_type": "code",
   "execution_count": 4,
   "metadata": {
    "collapsed": false
   },
   "outputs": [
    {
     "name": "stdout",
     "output_type": "stream",
     "text": [
      "Overwriting functional_tests.py\n"
     ]
    }
   ],
   "source": [
    "%%writefile functional_tests.py\n",
    "\n",
    "from selenium import webdriver\n",
    "from selenium.webdriver.common.keys import Keys\n",
    "import unittest\n",
    "\n",
    "class NewVisitorTest(unittest.TestCase):\n",
    "    \n",
    "    def setUp(self):\n",
    "        self.browser = webdriver.Firefox()\n",
    "        self.browser.implicitly_wait(3)\n",
    "        \n",
    "    def tearDown(self):\n",
    "        self.browser.quit()\n",
    "        \n",
    "    def test_can_start_a_list_and_retrieve_it_later(self):\n",
    "        # Edith has heard about a cool new online to-do app. She goes \n",
    "        # to check out its homepage\n",
    "        self.browser.get('http://localhost:8000')\n",
    "        \n",
    "        # She notices the page title and header mention to-do lists\n",
    "        self.assertIn('To-Do', self.browser.title)\n",
    "        header_text = self.browser.find_element_by_tag_name('h1').text\n",
    "        self.assertIn('To-Do', header_text)\n",
    "        \n",
    "        # She is invited to enter a to-do item straight away\n",
    "        inputbox = self.browser.find_element_by_id('id_new_item')\n",
    "        self.assertEqual(\n",
    "            inputbox.get_attribute('placeholder'),\n",
    "            'Enter a to-do item'\n",
    "        )\n",
    "        \n",
    "        # She types \"Buy peacock feathers\" into a text box (Edith's hobby)\n",
    "        # is tying fly-fishing lures)\n",
    "        inputbox.send_keys('Buy peacock feathers')\n",
    "        \n",
    "        # When she hits enter, the page updates, and now the page lists\n",
    "        # \"1: Buy peacock feathers\" as an item in a to-do list table\n",
    "        inputbox.send_keys(Keys.ENTER)\n",
    "        \n",
    "        table = self.browser.find_element_by_id('id_list_table')\n",
    "        rows = table.find_elements_by_tag_name('tr')\n",
    "        self.assertTrue(\n",
    "            any(row.text == '1: Buy peacock feathers' for row in rows)\n",
    "        )\n",
    "        \n",
    "        # There is still a text box inviting her to add another item. She\n",
    "        # enters \"Use peacock feathers to make a fly\" (Edith is very\n",
    "        # methodical)\n",
    "        self.fail('Finish the test!')\n",
    "        \n",
    "        # The page updates again, and now shows both items on her list\n",
    "\n",
    "        # Edith wonders whether the site will remember her list. Then she sees\n",
    "        # that the site has generated a unique URL for her -- there is some\n",
    "        # explanatory text to that effect.\n",
    "\n",
    "        # She visits that URL - her to-do list is still there.\n",
    "\n",
    "        # Satisfied, she goes back to sleep\n",
    "\n",
    "if __name__ == '__main__':  \n",
    "    unittest.main(warnings='ignore')  "
   ]
  },
  {
   "cell_type": "markdown",
   "metadata": {},
   "source": [
    "We’re using several of the methods that Selenium provides to examine web pages: `find_element_by_tag_name`, `find_element_by_id`, and `find_elements_by_tag_name` (notice the extra s, which means it will return several elements rather than just one). We also use send_keys, which is Selenium’s way of typing into input elements. You’ll also see the Keys class (don’t forget to import it), which lets us send special keys like `Enter`, but also modifiers like `Ctrl`.\n",
    "\n",
    ">Watch out for the difference between the Selenium find_element_by... and find_elements_by... functions. One returns an element, and raises an exception if it can’t find it, whereas the other returns a list, which may be empty.\n",
    "\n",
    "Also, just look at that `any` function. It’s a little-known Python built-in. I don’t even need to explain it, do I? Python is such a joy.\n",
    "\n",
    "Although, if you’re one of my readers who doesn’t know Python, what’s happening inside the `any` is a generator expression, which is like a list comprehension but awesomer. You need to read up on this. If you Google it, you’ll find Guido himself explaining it nicely. Come back and tell me that’s not pure joy!\n",
    "\n",
    "Let’s see how it gets on:\n"
   ]
  },
  {
   "cell_type": "code",
   "execution_count": 5,
   "metadata": {
    "collapsed": false
   },
   "outputs": [
    {
     "name": "stdout",
     "output_type": "stream",
     "text": [
      "E\r\n",
      "======================================================================\r\n",
      "ERROR: test_can_start_a_list_and_retrieve_it_later (__main__.NewVisitorTest)\r\n",
      "----------------------------------------------------------------------\r\n",
      "Traceback (most recent call last):\r\n",
      "  File \"functional_tests.py\", line 22, in test_can_start_a_list_and_retrieve_it_later\r\n",
      "    header_text = self.browser.find_element_by_tag_name('h1').text\r\n",
      "  File \"/home/thunder/anaconda3/envs/django_env/lib/python3.5/site-packages/selenium/webdriver/remote/webdriver.py\", line 354, in find_element_by_tag_name\r\n",
      "    return self.find_element(by=By.TAG_NAME, value=name)\r\n",
      "  File \"/home/thunder/anaconda3/envs/django_env/lib/python3.5/site-packages/selenium/webdriver/remote/webdriver.py\", line 712, in find_element\r\n",
      "    {'using': by, 'value': value})['value']\r\n",
      "  File \"/home/thunder/anaconda3/envs/django_env/lib/python3.5/site-packages/selenium/webdriver/remote/webdriver.py\", line 201, in execute\r\n",
      "    self.error_handler.check_response(response)\r\n",
      "  File \"/home/thunder/anaconda3/envs/django_env/lib/python3.5/site-packages/selenium/webdriver/remote/errorhandler.py\", line 181, in check_response\r\n",
      "    raise exception_class(message, screen, stacktrace)\r\n",
      "selenium.common.exceptions.NoSuchElementException: Message: Unable to locate element: {\"method\":\"tag name\",\"selector\":\"h1\"}\r\n",
      "Stacktrace:\r\n",
      "    at FirefoxDriver.prototype.findElementInternal_ (file:///tmp/tmpm4b0rlo2/extensions/fxdriver@googlecode.com/components/driver-component.js:10659)\r\n",
      "    at fxdriver.Timer.prototype.setTimeout/<.notify (file:///tmp/tmpm4b0rlo2/extensions/fxdriver@googlecode.com/components/driver-component.js:621)\r\n",
      "\r\n",
      "----------------------------------------------------------------------\r\n",
      "Ran 1 test in 6.473s\r\n",
      "\r\n",
      "FAILED (errors=1)\r\n"
     ]
    }
   ],
   "source": [
    "!python3 functional_tests.py"
   ]
  },
  {
   "cell_type": "markdown",
   "metadata": {},
   "source": [
    "Decoding that, the test is saying it can’t find an `<h1>` element on the page. Let’s see what we can do to add that to the HTML of our home page.\n",
    "\n",
    "Big changes to a functional test are usually a good thing to commit on their own. I failed to do so in my first draft, and I regretted it later when I changed my mind and had the change mixed up with a bunch of others. The more atomic your commits, the better:\n",
    "```\n",
    "$ git diff  # should show changes to functional_tests.py\n",
    "$ git commit -am \"Functional test now checks we can input a to-do item\"\n",
    "```\n",
    "\n",
    "## The \"Don't Test Constants\" Rule, and Templates to the Rescue\n",
    "\n",
    "Let’s take a look at our unit tests, lists/tests.py. Currently we’re looking for specific HTML strings, but that’s not a particularly efficient way of testing HTML. In general, one of the rules of unit testing is Don’t test constants, and testing HTML as text is a lot like testing a constant.\n",
    "\n",
    "In other words, if you have some code that says:\n",
    "```python\n",
    "wibble = 3\n",
    "```\n",
    "There’s not much point in a test that says:\n",
    "```\n",
    "from myprogram import wibble\n",
    "assert wibble == 3\n",
    "```\n",
    "Unit tests are really about testing logic, flow control, and configuration. Making assertions about exactly what sequence of characters we have in our HTML strings isn’t doing that.\n",
    "\n",
    "What’s more, mangling raw strings in Python really isn’t a great way of dealing with HTML. There’s a much better solution, which is to use templates. Quite apart from anything else, if we can keep HTML to one side in a file whose name ends in .html, we’ll get better syntax highlighting! There are lots of Python templating frameworks out there, and Django has its own which works very well. Let’s use that."
   ]
  },
  {
   "cell_type": "markdown",
   "metadata": {},
   "source": [
    "## Refactoring to Use a Template\n",
    "\n",
    "What we want to do now is make our view function return exactly the same HTML, but just using a different process. That’s a refactor—when we try to improve the code without changing its functionality.\n",
    "\n",
    "That last bit is really important. If you try and add new functionality at the same time as refactoring, you’re much more likely to run into trouble. Refactoring is actually a whole discipline in itself, and it even has a reference book: Martin Fowler’s Refactoring.\n",
    "\n",
    "The first rule is that you can’t refactor without tests. Thankfully, we’re doing TDD, so we’re way ahead of the game. Let’s check our tests pass; they will be what makes sure that our refactoring is behaviour preserving:"
   ]
  },
  {
   "cell_type": "code",
   "execution_count": 6,
   "metadata": {
    "collapsed": false
   },
   "outputs": [
    {
     "name": "stdout",
     "output_type": "stream",
     "text": [
      "Creating test database for alias 'default'...\n",
      "..\n",
      "----------------------------------------------------------------------\n",
      "Ran 2 tests in 0.002s\n",
      "\n",
      "OK\n",
      "Destroying test database for alias 'default'...\n"
     ]
    }
   ],
   "source": [
    "!python3 manage.py test"
   ]
  },
  {
   "cell_type": "markdown",
   "metadata": {},
   "source": [
    "Great! We’ll start by taking our HTML string and putting it into its own file. Create a directory called lists/templates to keep templates in, and then open a file at lists/templates/home.html, to which we’ll transfer our HTML:"
   ]
  },
  {
   "cell_type": "code",
   "execution_count": 7,
   "metadata": {
    "collapsed": true
   },
   "outputs": [],
   "source": [
    "!mkdir lists/templates"
   ]
  },
  {
   "cell_type": "code",
   "execution_count": 8,
   "metadata": {
    "collapsed": false
   },
   "outputs": [
    {
     "name": "stdout",
     "output_type": "stream",
     "text": [
      "Writing lists/templates/home.html\n"
     ]
    }
   ],
   "source": [
    "%%writefile lists/templates/home.html\n",
    "\n",
    "<html>\n",
    "    <title>To-Do lists</title>\n",
    "</html>"
   ]
  },
  {
   "cell_type": "markdown",
   "metadata": {},
   "source": [
    "Now to change our views"
   ]
  },
  {
   "cell_type": "code",
   "execution_count": 10,
   "metadata": {
    "collapsed": false
   },
   "outputs": [
    {
     "name": "stdout",
     "output_type": "stream",
     "text": [
      "Overwriting lists/views.py\n"
     ]
    }
   ],
   "source": [
    "%%writefile lists/views.py\n",
    "\n",
    "from django.shortcuts import render\n",
    "\n",
    "def home_page(request):\n",
    "    return render(request, 'home.html')"
   ]
  },
  {
   "cell_type": "markdown",
   "metadata": {},
   "source": [
    "Instead of building our own HttpResponse, we now use the Django render function. It takes the request as its first parameter (for reasons we’ll go into later) and the name of the template to render. Django will automatically search folders called templates inside any of your apps' directories. Then it builds an HttpResponse for you, based on the content of the template.\n",
    "\n",
    "Templates are a very powerful feature of Django’s, and their main strength consists of substituting Python variables into HTML text. We’re not using this feature yet, but we will in future chapters. That’s why we use `render` and (later) `render_to_string` rather than, say, manually reading the file from disk with the built-in open."
   ]
  },
  {
   "cell_type": "markdown",
   "metadata": {
    "collapsed": true
   },
   "source": [
    "Let's see if it works:"
   ]
  },
  {
   "cell_type": "code",
   "execution_count": 13,
   "metadata": {
    "collapsed": false
   },
   "outputs": [
    {
     "name": "stdout",
     "output_type": "stream",
     "text": [
      "Creating test database for alias 'default'...\n",
      "E.\n",
      "======================================================================\n",
      "ERROR: test_home_page_returns_correct_html (lists.tests.HomePageTest)\n",
      "----------------------------------------------------------------------\n",
      "Traceback (most recent call last):\n",
      "  File \"/home/thunder/Documents/work/codeguild2015/code_guild/wk9/testing/superlists/lists/tests.py\", line 16, in test_home_page_returns_correct_html\n",
      "    response = home_page(request)  #2\n",
      "  File \"/home/thunder/Documents/work/codeguild2015/code_guild/wk9/testing/superlists/lists/views.py\", line 5, in home_page\n",
      "    return render(request, 'home.html')\n",
      "  File \"/home/thunder/anaconda3/envs/django_env/lib/python3.5/site-packages/django/shortcuts.py\", line 67, in render\n",
      "    template_name, context, request=request, using=using)\n",
      "  File \"/home/thunder/anaconda3/envs/django_env/lib/python3.5/site-packages/django/template/loader.py\", line 98, in render_to_string\n",
      "    template = get_template(template_name, using=using)\n",
      "  File \"/home/thunder/anaconda3/envs/django_env/lib/python3.5/site-packages/django/template/loader.py\", line 46, in get_template\n",
      "    raise TemplateDoesNotExist(template_name)\n",
      "django.template.base.TemplateDoesNotExist: home.html\n",
      "\n",
      "----------------------------------------------------------------------\n",
      "Ran 2 tests in 0.006s\n",
      "\n",
      "FAILED (errors=1)\n",
      "Destroying test database for alias 'default'...\n"
     ]
    }
   ],
   "source": [
    "!python3 manage.py test"
   ]
  },
  {
   "cell_type": "markdown",
   "metadata": {},
   "source": [
    "Another chance to analyse a traceback:\n",
    "\n",
    "1. We start with the error: it can’t find the template.\n",
    "\n",
    "2. Then we double-check what test is failing: sure enough, it’s our test of the view HTML.\n",
    "\n",
    "3. Then we find the line in our tests that caused the failure: it’s when we call the home_page function.\n",
    "\n",
    "4. Finally, we look for the part of our own application code that caused the failure: it’s when we try and call render.\n",
    "\n",
    "So why can’t Django find the template? It’s right where it’s supposed to be, in the lists/templates folder.\n",
    "\n",
    "The thing is that we haven’t yet officially registered our lists app with Django. Unfortunately, just running the startapp command and having what is obviously an app in your project folder isn’t quite enough. You have to tell Django that you really mean it, and add it to settings.py as well. Belt and braces. Open it up and look for a variable called INSTALLED_APPS, to which we’ll add lists:"
   ]
  },
  {
   "cell_type": "code",
   "execution_count": 15,
   "metadata": {
    "collapsed": false
   },
   "outputs": [
    {
     "data": {
      "text/plain": [
       "Ellipsis"
      ]
     },
     "execution_count": 15,
     "metadata": {},
     "output_type": "execute_result"
    }
   ],
   "source": [
    "...\n",
    "# Application definition\n",
    "\n",
    "INSTALLED_APPS = (\n",
    "    'django.contrib.admin',\n",
    "    'django.contrib.auth',\n",
    "    'django.contrib.contenttypes',\n",
    "    'django.contrib.sessions',\n",
    "    'django.contrib.messages',\n",
    "    'django.contrib.staticfiles',\n",
    "    'lists',\n",
    ")\n",
    "...\n"
   ]
  },
  {
   "cell_type": "markdown",
   "metadata": {},
   "source": [
    "You can see there’s lots of apps already in there by default. We just need to add ours, lists, to the bottom of the list. Don’t forget the trailing comma—it may not be required, but one day you’ll be really annoyed when you forget it and Python concatenates two strings on different lines…\n",
    "\n",
    "Now we can try running the tests again:"
   ]
  },
  {
   "cell_type": "code",
   "execution_count": 16,
   "metadata": {
    "collapsed": false
   },
   "outputs": [
    {
     "name": "stdout",
     "output_type": "stream",
     "text": [
      "Creating test database for alias 'default'...\n",
      "F.\n",
      "======================================================================\n",
      "FAIL: test_home_page_returns_correct_html (lists.tests.HomePageTest)\n",
      "----------------------------------------------------------------------\n",
      "Traceback (most recent call last):\n",
      "  File \"/home/thunder/Documents/work/codeguild2015/code_guild/wk9/testing/superlists/lists/tests.py\", line 17, in test_home_page_returns_correct_html\n",
      "    self.assertTrue(response.content.startswith(b'<html>')) #3\n",
      "AssertionError: False is not true\n",
      "\n",
      "----------------------------------------------------------------------\n",
      "Ran 2 tests in 0.011s\n",
      "\n",
      "FAILED (failures=1)\n",
      "Destroying test database for alias 'default'...\n"
     ]
    }
   ],
   "source": [
    "!python3 manage.py test"
   ]
  },
  {
   "cell_type": "markdown",
   "metadata": {},
   "source": [
    "Darn, not quite.\n",
    "\n",
    "Depending on whether your text editor insists on adding newlines to the end of files, you may not even see this error. If so, you can safely ignore the next bit, and skip straight to where you can see the listing says OK.\n",
    "But it did get further! It seems it’s managed to find our template, but the last of the three assertions is failing. Apparently there’s something wrong at the end of the output. I had to do a little print(repr(response.content)) to debug this, but it turns out that the switch to templates has introduced an additional newline (\\n) at the end. We can get them to pass like this:"
   ]
  },
  {
   "cell_type": "code",
   "execution_count": 20,
   "metadata": {
    "collapsed": false
   },
   "outputs": [
    {
     "name": "stdout",
     "output_type": "stream",
     "text": [
      "Overwriting lists/tests.py\n"
     ]
    }
   ],
   "source": [
    "%%writefile lists/tests.py\n",
    "\n",
    "from django.core.urlresolvers import resolve\n",
    "from django.test import TestCase\n",
    "from django.http import HttpRequest\n",
    "\n",
    "from lists.views import home_page \n",
    "\n",
    "class HomePageTest(TestCase):\n",
    "    \n",
    "    def test_root_url_resolves_to_home_page_view(self):\n",
    "        found = resolve('/')  \n",
    "        self.assertEqual(found.func, home_page)  \n",
    "        \n",
    "    def test_home_page_returns_correct_html(self):\n",
    "        request = HttpRequest() \n",
    "        response = home_page(request)  \n",
    "        self.assertTrue(response.content.strip().startswith(b'<html>'))   #<---- Fix offending newline here\n",
    "        self.assertIn(b'<title>To-Do lists</title>', response.content)  \n",
    "        self.assertTrue(response.content.strip().endswith(b'</html>'))    #<---- Fix offending newline here"
   ]
  },
  {
   "cell_type": "code",
   "execution_count": 21,
   "metadata": {
    "collapsed": false
   },
   "outputs": [
    {
     "name": "stdout",
     "output_type": "stream",
     "text": [
      "Creating test database for alias 'default'...\n",
      "..\n",
      "----------------------------------------------------------------------\n",
      "Ran 2 tests in 0.006s\n",
      "\n",
      "OK\n",
      "Destroying test database for alias 'default'...\n"
     ]
    }
   ],
   "source": [
    "!python3 manage.py test"
   ]
  },
  {
   "cell_type": "markdown",
   "metadata": {},
   "source": [
    "Our refactor of the code is now complete, and the tests mean we’re happy that behaviour is preserved. Now we can change the tests so that they’re no longer testing constants; instead, they should just check that we’re rendering the right template. Another Django helper function called `render_to_string` is our friend here:\n",
    "\n"
   ]
  },
  {
   "cell_type": "code",
   "execution_count": 23,
   "metadata": {
    "collapsed": true
   },
   "outputs": [],
   "source": [
    "# %load lists/tests.py\n",
    "\n",
    "from django.core.urlresolvers import resolve\n",
    "from django.test import TestCase\n",
    "from django.http import HttpRequest\n",
    "from django.template.loader import render_to_string\n",
    "\n",
    "from lists.views import home_page \n",
    "\n",
    "class HomePageTest(TestCase):\n",
    "    \n",
    "    def test_root_url_resolves_to_home_page_view(self):\n",
    "        found = resolve('/')  \n",
    "        self.assertEqual(found.func, home_page)  \n",
    "        \n",
    "    def test_home_page_returns_correct_html(self):\n",
    "        request = HttpRequest() \n",
    "        response = home_page(request)  \n",
    "        self.assertTrue(response.content.strip().startswith(b'<html>'))  \n",
    "        self.assertIn(b'<title>To-Do lists</title>', response.content)  \n",
    "        self.assertTrue(response.content.strip().endswith(b'</html>'))   \n",
    "        \n",
    "    def test_home_page_returns_correct_html(self):\n",
    "        request = HttpRequest()\n",
    "        response = home_page(request)\n",
    "        expected_html = render_to_string('home.html')\n",
    "        self.assertEqual(response.content.decode(), expected_html)"
   ]
  },
  {
   "cell_type": "markdown",
   "metadata": {},
   "source": [
    "We use `.decode()` to convert the response.content bytes into a Python unicode string, which allows us to compare strings with strings, instead of bytes with bytes as we did earlier.\n",
    "\n",
    "The main point, though, is that instead of testing constants we’re testing our implementation. Great!\n",
    "\n",
    "Django has a test client with tools for testing templates, which we’ll use in later chapters. For now we’ll use the low-level tools to make sure we’re comfortable with how everything works. No magic!\n",
    "\n",
    "## On Refactoring\n",
    "\n",
    "That was an absolutely trivial example of refactoring. But, as Kent Beck puts it in Test-Driven Development: By Example, \"Am I recommending that you actually work this way? No. I’m recommending that you be able to work this way.\"\n",
    "\n",
    "In fact, as I was writing this my first instinct was to dive in and change the test first—make it use the render_to_string function straight away, delete the three superfluous assertions, leaving just a check of the contents against the expected render, and then go ahead and make the code change. But notice how that actually would have left space for me to break things: I could have defined the template as containing any arbitrary string, instead of the string with the right `<html>` and `<title>` tags.\n",
    "\n",
    "When refactoring, work on either the code or the tests, but not both at once.\n",
    "There’s always a tendency to skip ahead a couple of steps, to make a couple of tweaks to the behaviour while you’re refactoring, but pretty soon you’ve got changes to half a dozen different files, you’ve totally lost track of where you are, and nothing works any more. If you don’t want to end up like Refactoring Cat (below), stick to small steps; keep refactoring and functionality changes entirely separate.\n",
    "\n",
    "![Refactoring cat](https://img.pandawhale.com/post-10513-Code-Refactoring-Cat-in-Bathtu-U295.gif)\n",
    "\n",
    "We’ll come across “Refactoring Cat” again during this book, as an example of what happens when we get carried away and want to change too many things at once. Think of it as the little cartoon demon counterpart to the Testing Goat, popping up over your other shoulder and giving you bad advice…\n",
    "\n",
    "It’s a good idea to do a commit after any refactoring:\n",
    "```\n",
    "$ git status # see tests.py, views.py, settings.py, + new templates folder\n",
    "$ git add .  # will also add the untracked templates folder\n",
    "$ git diff --staged # review the changes we're about to commit\n",
    "$ git commit -m \"Refactor home page view to use a template\"\n",
    "```\n",
    "## A Little More of Our Front Page\n",
    "In the meantime, our functional test is still failing. Let’s now make an actual code change to get it passing. Because our HTML is now in a template, we can feel free to make changes to it, without needing to write any extra unit tests. We wanted an `<h1>`:"
   ]
  },
  {
   "cell_type": "code",
   "execution_count": 25,
   "metadata": {
    "collapsed": false
   },
   "outputs": [
    {
     "name": "stdout",
     "output_type": "stream",
     "text": [
      "Overwriting lists/templates/home.html\n"
     ]
    }
   ],
   "source": [
    "%%writefile lists/templates/home.html\n",
    "\n",
    "<html>\n",
    "    <head>\n",
    "        <title>To-Do lists</title>\n",
    "    </head>\n",
    "    <body>\n",
    "        <h1>Your To-Do list</h1>\n",
    "    </body>\n",
    "</html>"
   ]
  },
  {
   "cell_type": "markdown",
   "metadata": {},
   "source": [
    "Let’s see if our functional test likes it a little better:"
   ]
  },
  {
   "cell_type": "code",
   "execution_count": 29,
   "metadata": {
    "collapsed": false
   },
   "outputs": [
    {
     "name": "stdout",
     "output_type": "stream",
     "text": [
      "E\r\n",
      "======================================================================\r\n",
      "ERROR: test_can_start_a_list_and_retrieve_it_later (__main__.NewVisitorTest)\r\n",
      "----------------------------------------------------------------------\r\n",
      "Traceback (most recent call last):\r\n",
      "  File \"functional_tests.py\", line 22, in test_can_start_a_list_and_retrieve_it_later\r\n",
      "    header_text = self.browser.find_element_by_tag_name('h1').text\r\n",
      "  File \"/home/thunder/anaconda3/envs/django_env/lib/python3.5/site-packages/selenium/webdriver/remote/webdriver.py\", line 354, in find_element_by_tag_name\r\n",
      "    return self.find_element(by=By.TAG_NAME, value=name)\r\n",
      "  File \"/home/thunder/anaconda3/envs/django_env/lib/python3.5/site-packages/selenium/webdriver/remote/webdriver.py\", line 712, in find_element\r\n",
      "    {'using': by, 'value': value})['value']\r\n",
      "  File \"/home/thunder/anaconda3/envs/django_env/lib/python3.5/site-packages/selenium/webdriver/remote/webdriver.py\", line 201, in execute\r\n",
      "    self.error_handler.check_response(response)\r\n",
      "  File \"/home/thunder/anaconda3/envs/django_env/lib/python3.5/site-packages/selenium/webdriver/remote/errorhandler.py\", line 181, in check_response\r\n",
      "    raise exception_class(message, screen, stacktrace)\r\n",
      "selenium.common.exceptions.NoSuchElementException: Message: Unable to locate element: {\"method\":\"tag name\",\"selector\":\"h1\"}\r\n",
      "Stacktrace:\r\n",
      "    at FirefoxDriver.prototype.findElementInternal_ (file:///tmp/tmpqxyigu2l/extensions/fxdriver@googlecode.com/components/driver-component.js:10659)\r\n",
      "    at fxdriver.Timer.prototype.setTimeout/<.notify (file:///tmp/tmpqxyigu2l/extensions/fxdriver@googlecode.com/components/driver-component.js:621)\r\n",
      "\r\n",
      "----------------------------------------------------------------------\r\n",
      "Ran 1 test in 6.568s\r\n",
      "\r\n",
      "FAILED (errors=1)\r\n"
     ]
    }
   ],
   "source": [
    "!python3 functional_tests.py"
   ]
  },
  {
   "cell_type": "markdown",
   "metadata": {},
   "source": [
    "OK…"
   ]
  },
  {
   "cell_type": "markdown",
   "metadata": {},
   "source": [
    "lists/templates/home.html. \n",
    "```html\n",
    "    [...]\n",
    "        <h1>Your To-Do list</h1>\n",
    "        <input id=\"id_new_item\" />\n",
    "    </body>\n",
    "    [...]\n",
    "```\n",
    "And now?\n",
    "```\n",
    "AssertionError: '' != 'Enter a to-do item'\n",
    "```\n",
    "We add our placeholder text…\n",
    "\n",
    "lists/templates/home.html. \n",
    "```html\n",
    "    <input id=\"id_new_item\" placeholder=\"Enter a to-do item\" />\n",
    "```\n",
    "Which gives:\n",
    "```\n",
    "selenium.common.exceptions.NoSuchElementException: Message: Unable to locate\n",
    "element: {\"method\":\"id\",\"selector\":\"id_list_table\"}\n",
    "```\n",
    "So we can go ahead and put the table onto the page. At this stage it’ll just be empty…\n",
    "\n",
    "lists/templates/home.html. \n",
    "```html\n",
    "    <input id=\"id_new_item\" placeholder=\"Enter a to-do item\" />\n",
    "    <table id=\"id_list_table\">\n",
    "    </table>\n",
    "</body>\n",
    "```\n",
    "Now what does the FT say?\n",
    "```\n",
    "  File \"functional_tests.py\", line 42, in\n",
    "test_can_start_a_list_and_retrieve_it_later\n",
    "    any(row.text == '1: Buy peacock feathers' for row in rows)\n",
    "AssertionError: False is not true\n",
    "```\n",
    "Slightly cryptic. We can use the line number to track it down, and it turns out it’s that any function I was so smug about earlier—or, more precisely, the assertTrue, which doesn’t have a very explicit failure message. We can pass a custom error message as an argument to most assertX methods in unittest:\n",
    "\n",
    "functional_tests.py. \n",
    "```python\n",
    "    self.assertTrue(\n",
    "        any(row.text == '1: Buy peacock feathers' for row in rows),\n",
    "        \"New to-do item did not appear in table\"\n",
    "    )\n",
    "```\n",
    "If you run the FT again, you should see our message:\n",
    "```\n",
    "AssertionError: False is not true : New to-do item did not appear in table\n",
    "```\n",
    "But now, to get this to pass, we will need to actually process the user’s form submission. And that’s a topic for the next chapter.\n",
    "\n",
    "For now let’s do a commit:\n",
    "```\n",
    "$ git diff\n",
    "$ git commit -am \"Front page HTML now generated from a template\"\n",
    "```\n",
    "\n",
    "Thanks to a bit of refactoring, we’ve got our view set up to render a template, we’ve stopped testing constants, and we’re now well placed to start processing user input.\n",
    "\n",
    "## Recap: The TDD Process\n",
    "We’ve now seen all the main aspects of the TDD process in practice:\n",
    "\n",
    "* Functional tests\n",
    "* Unit tests\n",
    "* The unit-test/code cycle\n",
    "* Refactoring\n",
    "\n",
    "It’s time for a little recap, and perhaps even some flowcharts. Forgive me, years misspent as a management consultant have ruined me. On the plus side, it will feature recursion.\n",
    "\n",
    "What is the overall TDD process?\n",
    "![TDD](http://orm-chimera-prod.s3.amazonaws.com/1234000000754/images/twdp_0403.png)"
   ]
  },
  {
   "cell_type": "markdown",
   "metadata": {
    "collapsed": true
   },
   "source": [
    "We write a test. We run the test and see it fail. We write some minimal code to get it a little further. We rerun the test and repeat until it passes. Then, optionally, we might refactor our code, using our tests to make sure we don’t break anything.\n",
    "\n",
    "But how does this apply when we have functional tests and unit tests? Well, you can think of the functional test as being a high-level view of the cycle, where \"writing the code\" to get the functional tests to pass actually involves using another, smaller TDD cycle which uses unit tests. See Figure 4-4.\n",
    "\n",
    "![](http://orm-chimera-prod.s3.amazonaws.com/1234000000754/images/twdp_0404.png)"
   ]
  },
  {
   "cell_type": "markdown",
   "metadata": {},
   "source": [
    "We write a functional test and see it fail. Then, the process of \"writing code\" to get it to pass is a mini-TDD cycle of its own: we write one or more unit tests, and go into the unit-test/code cycle until the unit tests pass. Then, we go back to our FT to check that it gets a little further, and we can write a bit more of our application—using more unit tests, and so on.\n",
    "\n",
    "What about refactoring, in the context of functional tests? Well, that means we use the functional test to check that we’ve preserved the behaviour of our application, but we can change or add and remove unit tests, and use a unit test cycle to actually change the implementation.\n",
    "\n",
    "The functional tests are the ultimate judge of whether your application works or not. The unit tests are a tool to help you along the way.\n",
    "\n",
    "This way of looking at things is sometimes called \"Double-Loop TDD\". One of my eminent tech reviewers, Emily Bache, wrote a blog post on the topic, which I recommend for a different perspective.\n",
    "\n",
    "We’ll explore all of the different parts of this workflow in more detail over the coming chapters."
   ]
  }
 ],
 "metadata": {
  "kernelspec": {
   "display_name": "Python 3",
   "language": "python",
   "name": "python3"
  },
  "language_info": {
   "codemirror_mode": {
    "name": "ipython",
    "version": 3
   },
   "file_extension": ".py",
   "mimetype": "text/x-python",
   "name": "python",
   "nbconvert_exporter": "python",
   "pygments_lexer": "ipython3",
   "version": "3.5.0"
  }
 },
 "nbformat": 4,
 "nbformat_minor": 0
}
