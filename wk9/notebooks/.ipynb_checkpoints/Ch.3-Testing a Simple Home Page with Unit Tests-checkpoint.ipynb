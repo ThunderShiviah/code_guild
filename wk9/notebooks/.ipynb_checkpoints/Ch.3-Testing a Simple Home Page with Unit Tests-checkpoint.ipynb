{
 "cells": [
  {
   "cell_type": "markdown",
   "metadata": {},
   "source": [
    "In the last chapter, our tests failed. This time we'll go about fixing them."
   ]
  },
  {
   "cell_type": "markdown",
   "metadata": {},
   "source": [
    "# Our First Django App, and Our First Unit Test"
   ]
  },
  {
   "cell_type": "markdown",
   "metadata": {},
   "source": [
    "Django encourages you to structure your code into apps: the theory is that one project can have many apps, you can use third-party apps developed by other people, and you might even reuse one of your own apps in a different project … although I admit I’ve never actually managed it myself! Still, apps are a good way to keep your code organised.\n",
    "\n",
    "Let’s start an app for our to-do lists:"
   ]
  },
  {
   "cell_type": "code",
   "execution_count": 4,
   "metadata": {
    "collapsed": false
   },
   "outputs": [],
   "source": [
    "#%cd ../examples/superlists/"
   ]
  },
  {
   "cell_type": "code",
   "execution_count": 6,
   "metadata": {
    "collapsed": true
   },
   "outputs": [],
   "source": [
    "# Make a new app called lists\n",
    "#!python3 manage.py startapp lists"
   ]
  },
  {
   "cell_type": "code",
   "execution_count": 7,
   "metadata": {
    "collapsed": false
   },
   "outputs": [
    {
     "name": "stdout",
     "output_type": "stream",
     "text": [
      "\u001b[01;34m.\u001b[00m\r\n",
      "├── db.sqlite3\r\n",
      "├── functional_tests.py\r\n",
      "├── \u001b[01;34mlists\u001b[00m\r\n",
      "│   ├── admin.py\r\n",
      "│   ├── __init__.py\r\n",
      "│   ├── \u001b[01;34mmigrations\u001b[00m\r\n",
      "│   │   └── __init__.py\r\n",
      "│   ├── models.py\r\n",
      "│   ├── tests.py\r\n",
      "│   └── views.py\r\n",
      "├── \u001b[01;32mmanage.py\u001b[00m\r\n",
      "└── \u001b[01;34msuperlists\u001b[00m\r\n",
      "    ├── __init__.py\r\n",
      "    ├── \u001b[01;34m__pycache__\u001b[00m\r\n",
      "    │   ├── __init__.cpython-35.pyc\r\n",
      "    │   ├── settings.cpython-35.pyc\r\n",
      "    │   ├── urls.cpython-35.pyc\r\n",
      "    │   └── wsgi.cpython-35.pyc\r\n",
      "    ├── settings.py\r\n",
      "    ├── urls.py\r\n",
      "    └── wsgi.py\r\n",
      "\r\n",
      "4 directories, 17 files\r\n"
     ]
    }
   ],
   "source": [
    "!tree ."
   ]
  },
  {
   "cell_type": "markdown",
   "metadata": {},
   "source": [
    "# Unit Tests, and How They Differ from Functional Tests\n",
    "\n",
    "The difference boils down to:\n",
    "* Functional tests test from the perspective of the user\n",
    "* Unit tests test from the point of view of the developer\n",
    "\n",
    "The TDD approach I’m following wants our application to be covered by both types of test. Our workflow will look a bit like this:\n",
    "\n",
    "1. We start by writing a functional test, describing the new functionality from the user’s point of view.\n",
    "2. Once we have a functional test that fails, we start to think about how to write code that can get it to pass (or at least to get past its current failure). We now use one or more unit tests to define how we want our code to behave—the idea is that each line of production code we write should be tested by (at least) one of our unit tests.\n",
    "3. Once we have a failing unit test, we write the smallest amount of application code we can, just enough to get the unit test to pass. We may iterate between steps 2 and 3 a few times, until we think the functional test will get a little further.\n",
    "4. Now we can rerun our functional tests and see if they pass, or get a little further. That may prompt us to write some new unit tests, and some new code, and so on.\n",
    "\n",
    ">Functional tests should help you build an application with the right functionality, and guarantee you never accidentally break it. Unit tests should help you to write code that’s clean and bug free.\n",
    "\n",
    "## Unit Testing in Django\n",
    "\n",
    "Let’s see how to write a unit test for our home page view. Open up the new file at lists/tests.py, and you’ll see something like this:"
   ]
  },
  {
   "cell_type": "code",
   "execution_count": null,
   "metadata": {
    "collapsed": false
   },
   "outputs": [],
   "source": [
    "# %load lists/tests.py\n",
    "from django.test import TestCase\n",
    "\n",
    "# Create your tests here.\n"
   ]
  },
  {
   "cell_type": "markdown",
   "metadata": {},
   "source": [
    "Django has helpfully suggested we use a special version of TestCase, which it provides. It’s an augmented version of the standard unittest.TestCase, with some additional Django-specific features, which we’ll discover over the next few chapters.\n",
    "\n",
    "You’ve already seen that the TDD cycle involves starting with a test that fails, then writing code to get it to pass. Well, before we can even get that far, we want to know that the unit test we’re writing will definitely be run by our automated test runner, whatever it is. In the case of functional_tests.py, we’re running it directly, but this file made by Django is a bit more like magic. So, just to make sure, let’s make a deliberately silly failing test:"
   ]
  },
  {
   "cell_type": "code",
   "execution_count": 10,
   "metadata": {
    "collapsed": false
   },
   "outputs": [
    {
     "name": "stdout",
     "output_type": "stream",
     "text": [
      "Overwriting lists/tests.py\n"
     ]
    }
   ],
   "source": [
    "%%writefile lists/tests.py\n",
    "\n",
    "from django.test import TestCase\n",
    "\n",
    "class SmokeTest(TestCase):\n",
    "    \n",
    "    def test_bad_maths(self):\n",
    "        self.assertEqual(1 + 1, 3)\n",
    "        "
   ]
  },
  {
   "cell_type": "markdown",
   "metadata": {},
   "source": [
    "## Run our new django test"
   ]
  },
  {
   "cell_type": "code",
   "execution_count": 11,
   "metadata": {
    "collapsed": false
   },
   "outputs": [
    {
     "name": "stdout",
     "output_type": "stream",
     "text": [
      "Creating test database for alias 'default'...\n",
      "F\n",
      "======================================================================\n",
      "FAIL: test_bad_maths (lists.tests.SmokeTest)\n",
      "----------------------------------------------------------------------\n",
      "Traceback (most recent call last):\n",
      "  File \"/home/thunder/Documents/work/codeguild2015/code_guild/wk9/examples/superlists/lists/tests.py\", line 7, in test_bad_maths\n",
      "    self.assertEqual(1 + 1, 3)\n",
      "AssertionError: 2 != 3\n",
      "\n",
      "----------------------------------------------------------------------\n",
      "Ran 1 test in 0.001s\n",
      "\n",
      "FAILED (failures=1)\n",
      "Destroying test database for alias 'default'...\n"
     ]
    }
   ],
   "source": [
    "!python3 manage.py test\n"
   ]
  },
  {
   "cell_type": "markdown",
   "metadata": {},
   "source": [
    "Everything seems to be working! (This would be a good time to commit!)"
   ]
  },
  {
   "cell_type": "markdown",
   "metadata": {},
   "source": [
    "```\n",
    "$ git status  # should show you lists/ is untracked\n",
    "$ git add lists\n",
    "$ git diff --staged  # will show you the diff that you're about to commit\n",
    "$ git commit -m \"Add app for lists, with deliberately failing unit test\"\n",
    "```"
   ]
  },
  {
   "cell_type": "markdown",
   "metadata": {},
   "source": [
    "## Django's MVC, URLs, and View Functions\n",
    "\n",
    "Django is broadly structured along a classic Model-View-Controller (MVC) pattern. Well, broadly. It definitely does have models, but its views are more like a controller, and it’s the templates that are actually the view part, but the general idea is there. If you’re interested, you can look up the finer points of the discussion in the Django FAQs.\n",
    "\n",
    "Irrespective of any of that, like any web server, Django’s main job is to decide what to do when a user asks for a particular URL on our site. Django’s workflow goes something like this:\n",
    "\n",
    "1. An HTTP request comes in for a particular URL.\n",
    "2. Django uses some rules to decide which view function should deal with the request (this is referred to as resolving the URL).\n",
    "3. The view function processes the request and returns an HTTP response.\n",
    "\n",
    "So we want to test two things:\n",
    "\n",
    "* Can we resolve the URL for the root of the site (“/”) to a particular view function we’ve made?\n",
    "\n",
    "* Can we make this view function return some HTML which will get the functional test to pass?\n",
    "\n",
    "Let’s start with the first. Open up lists/tests.py, and change our silly test to something like this:"
   ]
  },
  {
   "cell_type": "code",
   "execution_count": 12,
   "metadata": {
    "collapsed": false
   },
   "outputs": [
    {
     "name": "stdout",
     "output_type": "stream",
     "text": [
      "Overwriting lists/tests.py\n"
     ]
    }
   ],
   "source": [
    "%%writefile lists/tests.py\n",
    "\n",
    "from django.core.urlresolvers import resolve\n",
    "from django.test import TestCase\n",
    "from lists.views import home_page #1\n",
    "\n",
    "class HomePageTest(TestCase):\n",
    "    \n",
    "    def test_root_url_resolves_to_home_page_view(self):\n",
    "        found = resolve('/')  #2\n",
    "        self.assertEqual(found.func, home_page)  #3"
   ]
  },
  {
   "cell_type": "markdown",
   "metadata": {},
   "source": [
    "What’s going on here?\n",
    "\n",
    "\n",
    "1. What function is that? It’s the view function we’re going to write next, which will actually return the HTML we want. You can see from the import that we’re planning to store it in lists/views.py.\n",
    "\n",
    "2. and\n",
    "3. `resolve` is the function Django uses internally to resolve URLs, and find what view function they should map to. We’re checking that `resolve`, when called with “/”, the root of the site, finds a function called home_page.\n",
    "\n",
    "So, what do you think will happen when we run the tests?"
   ]
  },
  {
   "cell_type": "code",
   "execution_count": 13,
   "metadata": {
    "collapsed": false
   },
   "outputs": [
    {
     "name": "stdout",
     "output_type": "stream",
     "text": [
      "Creating test database for alias 'default'...\n",
      "E\n",
      "======================================================================\n",
      "ERROR: lists.tests (unittest.loader._FailedTest)\n",
      "----------------------------------------------------------------------\n",
      "ImportError: Failed to import test module: lists.tests\n",
      "Traceback (most recent call last):\n",
      "  File \"/home/thunder/anaconda3/envs/django_env/lib/python3.5/unittest/loader.py\", line 428, in _find_test_path\n",
      "    module = self._get_module_from_name(name)\n",
      "  File \"/home/thunder/anaconda3/envs/django_env/lib/python3.5/unittest/loader.py\", line 369, in _get_module_from_name\n",
      "    __import__(name)\n",
      "  File \"/home/thunder/Documents/work/codeguild2015/code_guild/wk9/examples/superlists/lists/tests.py\", line 4, in <module>\n",
      "    from lists.views import home_page #1\n",
      "ImportError: cannot import name 'home_page'\n",
      "\n",
      "\n",
      "----------------------------------------------------------------------\n",
      "Ran 1 test in 0.000s\n",
      "\n",
      "FAILED (errors=1)\n",
      "Destroying test database for alias 'default'...\n"
     ]
    }
   ],
   "source": [
    "!python3 manage.py test"
   ]
  },
  {
   "cell_type": "markdown",
   "metadata": {},
   "source": [
    "It’s a very predictable and uninteresting error: we tried to import something we haven’t even written yet. But it’s still good news—for the purposes of TDD, an exception which was predicted counts as an expected failure. Since we have both a failing functional test and a failing unit test, we have the Testing Goat’s full blessing to code away.\n",
    "\n",
    "## At Last! We Actually Write Some Application Code!\n",
    "\n",
    "It is exciting isn’t it? Be warned, TDD means that long periods of anticipation are only defused very gradually, and by tiny increments. Especially since we’re learning and only just starting out, we only allow ourselves to change (or add) one line of code at a time—and each time, we make just the minimal change required to address the current test failure.\n",
    "\n",
    "I’m being deliberately extreme here, but what’s our current test failure? We can’t import home_page from lists.views? OK, let’s fix that—and only that. In lists/views.py:"
   ]
  },
  {
   "cell_type": "code",
   "execution_count": 14,
   "metadata": {
    "collapsed": false
   },
   "outputs": [
    {
     "name": "stdout",
     "output_type": "stream",
     "text": [
      "Overwriting lists/views.py\n"
     ]
    }
   ],
   "source": [
    "%%writefile lists/views.py\n",
    "\n",
    "from django.shortcuts import render\n",
    "\n",
    "# Create your views here.\n",
    "home_page = None"
   ]
  },
  {
   "cell_type": "code",
   "execution_count": 15,
   "metadata": {
    "collapsed": false
   },
   "outputs": [
    {
     "name": "stdout",
     "output_type": "stream",
     "text": [
      "Creating test database for alias 'default'...\n",
      "E\n",
      "======================================================================\n",
      "ERROR: test_root_url_resolves_to_home_page_view (lists.tests.HomePageTest)\n",
      "----------------------------------------------------------------------\n",
      "Traceback (most recent call last):\n",
      "  File \"/home/thunder/Documents/work/codeguild2015/code_guild/wk9/examples/superlists/lists/tests.py\", line 9, in test_root_url_resolves_to_home_page_view\n",
      "    found = resolve('/')  #2\n",
      "  File \"/home/thunder/anaconda3/envs/django_env/lib/python3.5/site-packages/django/core/urlresolvers.py\", line 522, in resolve\n",
      "    return get_resolver(urlconf).resolve(path)\n",
      "  File \"/home/thunder/anaconda3/envs/django_env/lib/python3.5/site-packages/django/core/urlresolvers.py\", line 388, in resolve\n",
      "    raise Resolver404({'tried': tried, 'path': new_path})\n",
      "django.core.urlresolvers.Resolver404: {'tried': [[<RegexURLResolver <RegexURLPattern list> (admin:admin) ^admin/>]], 'path': ''}\n",
      "\n",
      "----------------------------------------------------------------------\n",
      "Ran 1 test in 0.002s\n",
      "\n",
      "FAILED (errors=1)\n",
      "Destroying test database for alias 'default'...\n"
     ]
    }
   ],
   "source": [
    "!python3 manage.py test"
   ]
  },
  {
   "cell_type": "markdown",
   "metadata": {},
   "source": [
    "we interpret the traceback as telling us that, when trying to resolve “/”, Django raised a 404 error—in other words, Django can’t find a URL mapping for “/”. Let’s help it out.\n",
    "\n",
    "## urls.py\n",
    "\n",
    "Django uses a file called urls.py to define how URLs map to view functions. There’s a main urls.py for the whole site in the superlists/superlists folder. Let’s go take a look:"
   ]
  },
  {
   "cell_type": "code",
   "execution_count": null,
   "metadata": {
    "collapsed": false
   },
   "outputs": [],
   "source": [
    "# %load superlists/urls.py\n",
    "\n",
    "\"\"\"superlists URL Configuration\n",
    "\n",
    "The `urlpatterns` list routes URLs to views. For more information please see:\n",
    "    https://docs.djangoproject.com/en/1.8/topics/http/urls/\n",
    "Examples:\n",
    "Function views\n",
    "    1. Add an import:  from my_app import views\n",
    "    2. Add a URL to urlpatterns:  url(r'^$', views.home, name='home')\n",
    "Class-based views\n",
    "    1. Add an import:  from other_app.views import Home\n",
    "    2. Add a URL to urlpatterns:  url(r'^$', Home.as_view(), name='home')\n",
    "Including another URLconf\n",
    "    1. Add an import:  from blog import urls as blog_urls\n",
    "    2. Add a URL to urlpatterns:  url(r'^blog/', include(blog_urls))\n",
    "\"\"\"\n",
    "\n",
    "from django.conf.urls import include, url\n",
    "from django.contrib import admin\n",
    "\n",
    "urlpatterns = [\n",
    "    url(r'^admin/', include(admin.site.urls)),\n",
    "]"
   ]
  },
  {
   "cell_type": "markdown",
   "metadata": {},
   "source": [
    "The first example entry has the regular expression ^$, which means an empty string—could this be the same as the root of our site, which we’ve been testing with “/”? Let’s find out—what happens if we include it?"
   ]
  },
  {
   "cell_type": "code",
   "execution_count": 21,
   "metadata": {
    "collapsed": false
   },
   "outputs": [
    {
     "name": "stdout",
     "output_type": "stream",
     "text": [
      "Overwriting superlists/urls.py\n"
     ]
    }
   ],
   "source": [
    "%%writefile superlists/urls.py\n",
    "\"\"\"superlists URL Configuration\n",
    "\n",
    "The `urlpatterns` list routes URLs to views. For more information please see:\n",
    "    https://docs.djangoproject.com/en/1.8/topics/http/urls/\n",
    "Examples:\n",
    "Function views\n",
    "    1. Add an import:  from my_app import views\n",
    "    2. Add a URL to urlpatterns:  url(r'^$', views.home, name='home')\n",
    "Class-based views\n",
    "    1. Add an import:  from other_app.views import Home\n",
    "    2. Add a URL to urlpatterns:  url(r'^$', Home.as_view(), name='home')\n",
    "Including another URLconf\n",
    "    1. Add an import:  from blog import urls as blog_urls\n",
    "    2. Add a URL to urlpatterns:  url(r'^blog/', include(blog_urls))\n",
    "\"\"\"\n",
    "\n",
    "from django.conf.urls import include, url\n",
    "from django.contrib import admin\n",
    "\n",
    "from lists import views\n",
    "\n",
    "urlpatterns = [\n",
    "    url(r'^$', views.home_page, name='home'),\n",
    "    #url(r'^admin/', include(admin.site.urls)),\n",
    "]"
   ]
  },
  {
   "cell_type": "code",
   "execution_count": 22,
   "metadata": {
    "collapsed": false
   },
   "outputs": [
    {
     "name": "stdout",
     "output_type": "stream",
     "text": [
      "Creating test database for alias 'default'...\n",
      "E\n",
      "======================================================================\n",
      "ERROR: test_root_url_resolves_to_home_page_view (lists.tests.HomePageTest)\n",
      "----------------------------------------------------------------------\n",
      "Traceback (most recent call last):\n",
      "  File \"/home/thunder/Documents/work/codeguild2015/code_guild/wk9/examples/superlists/lists/tests.py\", line 9, in test_root_url_resolves_to_home_page_view\n",
      "    found = resolve('/')  #2\n",
      "  File \"/home/thunder/anaconda3/envs/django_env/lib/python3.5/site-packages/django/core/urlresolvers.py\", line 522, in resolve\n",
      "    return get_resolver(urlconf).resolve(path)\n",
      "  File \"/home/thunder/anaconda3/envs/django_env/lib/python3.5/site-packages/django/core/urlresolvers.py\", line 368, in resolve\n",
      "    sub_match = pattern.resolve(new_path)\n",
      "  File \"/home/thunder/anaconda3/envs/django_env/lib/python3.5/site-packages/django/core/urlresolvers.py\", line 240, in resolve\n",
      "    return ResolverMatch(self.callback, args, kwargs, self.name)\n",
      "  File \"/home/thunder/anaconda3/envs/django_env/lib/python3.5/site-packages/django/core/urlresolvers.py\", line 247, in callback\n",
      "    self._callback = get_callable(self._callback_str)\n",
      "  File \"/home/thunder/anaconda3/envs/django_env/lib/python3.5/site-packages/django/core/urlresolvers.py\", line 96, in get_callable\n",
      "    mod_name, func_name = get_mod_func(lookup_view)\n",
      "  File \"/home/thunder/anaconda3/envs/django_env/lib/python3.5/site-packages/django/core/urlresolvers.py\", line 159, in get_mod_func\n",
      "    dot = callback.rindex('.')\n",
      "AttributeError: 'NoneType' object has no attribute 'rindex'\n",
      "\n",
      "----------------------------------------------------------------------\n",
      "Ran 1 test in 0.002s\n",
      "\n",
      "FAILED (errors=1)\n",
      "Destroying test database for alias 'default'...\n"
     ]
    }
   ],
   "source": [
    "!python3 manage.py test"
   ]
  },
  {
   "cell_type": "markdown",
   "metadata": {},
   "source": [
    "That’s progress! We’re no longer getting a 404.\n",
    "\n",
    "The message is slightly cryptic, but the unit tests have actually made the link between the URL / and the `home_page = None` in lists/views.py, and are now complaining that home_page is a NoneType. And that gives us a justification for changing it from being None to being an actual function. Every single code change is driven by the tests!"
   ]
  },
  {
   "cell_type": "code",
   "execution_count": 27,
   "metadata": {
    "collapsed": false
   },
   "outputs": [
    {
     "name": "stdout",
     "output_type": "stream",
     "text": [
      "Overwriting lists/views.py\n"
     ]
    }
   ],
   "source": [
    "%%writefile lists/views.py\n",
    "\n",
    "from django.shortcuts import render\n",
    "\n",
    "# Create your views here.\n",
    "def home_page():\n",
    "    pass"
   ]
  },
  {
   "cell_type": "code",
   "execution_count": 28,
   "metadata": {
    "collapsed": false
   },
   "outputs": [
    {
     "name": "stdout",
     "output_type": "stream",
     "text": [
      "Creating test database for alias 'default'...\n",
      ".\n",
      "----------------------------------------------------------------------\n",
      "Ran 1 test in 0.001s\n",
      "\n",
      "OK\n",
      "Destroying test database for alias 'default'...\n"
     ]
    }
   ],
   "source": [
    "!python3 manage.py test"
   ]
  },
  {
   "cell_type": "markdown",
   "metadata": {},
   "source": [
    "Hooray! Our first ever unit test pass! That’s so momentous that I think it’s worthy of a commit:\n",
    "\n",
    "```\n",
    "$ git diff  # should show changes to urls.py, tests.py, and views.py\n",
    "$ git commit -am \"First unit test and url mapping, dummy view\"\n",
    "```"
   ]
  },
  {
   "cell_type": "markdown",
   "metadata": {},
   "source": [
    "## Unit Testing a View\n",
    "\n",
    "On to writing a test for our view, so that it can be something more than a do-nothing function, and instead be a function that returns a real response with HTML to the browser. Open up lists/tests.py, and add a new test method. I’ll explain each bit:"
   ]
  },
  {
   "cell_type": "code",
   "execution_count": 30,
   "metadata": {
    "collapsed": false
   },
   "outputs": [
    {
     "name": "stdout",
     "output_type": "stream",
     "text": [
      "Overwriting lists/tests.py\n"
     ]
    }
   ],
   "source": [
    "%%writefile lists/tests.py\n",
    "\n",
    "from django.core.urlresolvers import resolve\n",
    "from django.test import TestCase\n",
    "from django.http import HttpRequest\n",
    "\n",
    "from lists.views import home_page \n",
    "\n",
    "class HomePageTest(TestCase):\n",
    "    \n",
    "    def test_root_url_resolves_to_home_page_view(self):\n",
    "        found = resolve('/')  \n",
    "        self.assertEqual(found.func, home_page)  \n",
    "        \n",
    "    def test_home_page_returns_correct_html(self):\n",
    "        request = HttpRequest() #1\n",
    "        response = home_page(request)  #2\n",
    "        self.assertTrue(response.content.startswith(b'<html>')) #3\n",
    "        self.assertIn(b'<title>To-Do lists</title>', response.content)  #4\n",
    "        self.assertTrue(response.content.endswith(b'</html>'))  #5"
   ]
  },
  {
   "cell_type": "markdown",
   "metadata": {},
   "source": [
    "What’s going on in this new test?\n",
    "\n",
    "1. We create an HttpRequest object, which is what Django will see when a user’s browser asks for a page.\n",
    "\n",
    "2. We pass it to our home_page view, which gives us a response. You won’t be surprised to hear that this object is an instance of a class called HttpResponse. Then, we assert that the .content of the response—which is the HTML that we send to the user—has certain properties.\n",
    "\n",
    "3. & 5. We want it to start with an `<html>` tag which gets closed at the end. Notice that response.content is raw bytes, not a Python string, so we have to use the b'' syntax to compare them. More info is available in Django’s Porting to Python 3 docs.\n",
    "\n",
    "4. And we want a `<title>` tag somewhere in the middle, with the words \"To-Do lists\" in it—because that’s what we specified in our functional test.\n",
    "\n",
    "Once again, the unit test is driven by the functional test, but it’s also much closer to the actual code—we’re thinking like programmers now.\n",
    "\n",
    "Let’s run the unit tests now and see how we get on:"
   ]
  },
  {
   "cell_type": "code",
   "execution_count": 31,
   "metadata": {
    "collapsed": false
   },
   "outputs": [
    {
     "name": "stdout",
     "output_type": "stream",
     "text": [
      "Creating test database for alias 'default'...\n",
      "E.\n",
      "======================================================================\n",
      "ERROR: test_home_page_returns_correct_html (lists.tests.HomePageTest)\n",
      "----------------------------------------------------------------------\n",
      "Traceback (most recent call last):\n",
      "  File \"/home/thunder/Documents/work/codeguild2015/code_guild/wk9/examples/superlists/lists/tests.py\", line 16, in test_home_page_returns_correct_html\n",
      "    response = home_page(request)  #2\n",
      "TypeError: home_page() takes 0 positional arguments but 1 was given\n",
      "\n",
      "----------------------------------------------------------------------\n",
      "Ran 2 tests in 0.002s\n",
      "\n",
      "FAILED (errors=1)\n",
      "Destroying test database for alias 'default'...\n"
     ]
    }
   ],
   "source": [
    "!python3 manage.py test"
   ]
  },
  {
   "cell_type": "markdown",
   "metadata": {},
   "source": [
    "# The Unit-Test/Code Cycle\n",
    "\n",
    "We can start to settle into the TDD unit-test/code cycle now:\n",
    "\n",
    "In the terminal, run the unit tests and see how they fail.\n",
    "In the editor, make a minimal code change to address the current test failure.\n",
    "And repeat!\n",
    "\n",
    "The more nervous we are about getting our code right, the smaller and more minimal we make each code change—the idea is to be absolutely sure that each bit of code is justified by a test. It may seem laborious, but once you get into the swing of things, it really moves quite fast—so much so that, at work, we usually keep our code changes microscopic even when we’re confident we could skip ahead.\n",
    "\n",
    "Let’s see how fast we can get this cycle going:\n",
    "\n",
    "Minimal code change:\n",
    "\n",
    "lists/views.py. \n",
    "```python\n",
    "def home_page(request):\n",
    "    pass\n",
    "```\n",
    "Tests:\n",
    "```\n",
    "    self.assertTrue(response.content.startswith(b'<html>'))\n",
    "AttributeError: 'NoneType' object has no attribute 'content'\n",
    "```\n",
    "Code—we use `django.http.HttpResponse`, as predicted:\n",
    "lists/views.py. \n",
    "```python\n",
    "from django.http import HttpResponse\n",
    "\n",
    "# Create your views here.\n",
    "def home_page(request):\n",
    "    return HttpResponse()\n",
    "Tests again:\n",
    "    self.assertTrue(response.content.startswith(b'<html>'))\n",
    "AssertionError: False is not true\n",
    "Code again:\n",
    "lists/views.py. \n",
    "\n",
    "def home_page(request):\n",
    "    return HttpResponse('<html>')\n",
    "```\n",
    "\n",
    "Tests:\n",
    "```\n",
    "AssertionError: b'<title>To-Do lists</title>' not found in b'<html>'\n",
    "```\n",
    "Code:\n",
    "lists/views.py. \n",
    "```python\n",
    "def home_page(request):\n",
    "    return HttpResponse('<html><title>To-Do lists</title>')\n",
    "```\n",
    "Tests—almost there?\n",
    "```\n",
    "self.assertTrue(response.content.endswith(b'</html>'))\n",
    "\n",
    "AssertionError: False is not true\n",
    "```\n",
    "Come on, one last effort:\n",
    "lists/views.py. \n",
    "```python\n",
    "def home_page(request):\n",
    "    return HttpResponse('<html><title>To-Do lists</title></html>')\n",
    "```\n",
    "Surely?\n",
    "```\n",
    "$ python3 manage.py test\n",
    "Creating test database for alias 'default'...\n",
    "..\n",
    " ---------------------------------------------------------------------\n",
    "Ran 2 tests in 0.001s\n",
    "\n",
    "OK\n",
    "Destroying test database for alias 'default'...\n",
    "```"
   ]
  },
  {
   "cell_type": "markdown",
   "metadata": {},
   "source": [
    "Failed? What? Oh, it’s just our little reminder? Yes? Yes! We have a web page!\n",
    "\n",
    "Ahem. Well, I thought it was a thrilling end to the chapter. You may still be a little baffled, perhaps keen to hear a justification for all these tests, and don’t worry, all that will come, but I hope you felt just a tinge of excitement near the end there.\n",
    "\n",
    "Just a little commit to calm down, and reflect on what we’ve covered:\n",
    "\n",
    "```\n",
    "$ git diff  # should show our new test in tests.py, and the view in views.py\n",
    "$ git commit -am \"Basic view now returns minimal HTML\"\n",
    "```\n",
    "\n",
    "That was quite a chapter! Why not try typing git log, possibly using the --oneline flag, for a reminder of what we got up to:\n",
    "\n",
    "```\n",
    "$ git log --oneline\n",
    "a6e6cc9 Basic view now returns minimal HTML\n",
    "450c0f3 First unit test and url mapping, dummy view\n",
    "ea2b037 Add app for lists, with deliberately failing unit test\n",
    "[...]\n",
    "```\n",
    "\n",
    "Not bad—we covered:\n",
    "\n",
    "* Starting a Django app\n",
    "* The Django unit test runner\n",
    "*The difference between FTs and unit tests\n",
    "* Django URL resolving and urls.py\n",
    "* Django view functions, request and response objects\n",
    "* And returning basic HTML"
   ]
  },
  {
   "cell_type": "code",
   "execution_count": 37,
   "metadata": {
    "collapsed": false
   },
   "outputs": [
    {
     "name": "stdout",
     "output_type": "stream",
     "text": [
      "Overwriting lists/views.py\n"
     ]
    }
   ],
   "source": [
    "%%writefile lists/views.py\n",
    "\n",
    "from django.shortcuts import render\n",
    "from django.http import HttpResponse\n",
    "\n",
    "# Create your views here.\n",
    "def home_page(request):\n",
    "    return HttpResponse('<html><title>To-Do lists</title></html>')"
   ]
  },
  {
   "cell_type": "code",
   "execution_count": 38,
   "metadata": {
    "collapsed": false
   },
   "outputs": [
    {
     "name": "stdout",
     "output_type": "stream",
     "text": [
      "Creating test database for alias 'default'...\n",
      "..\n",
      "----------------------------------------------------------------------\n",
      "Ran 2 tests in 0.002s\n",
      "\n",
      "OK\n",
      "Destroying test database for alias 'default'...\n"
     ]
    }
   ],
   "source": [
    "!python3 manage.py test"
   ]
  }
 ],
 "metadata": {
  "kernelspec": {
   "display_name": "Python 3",
   "language": "python",
   "name": "python3"
  },
  "language_info": {
   "codemirror_mode": {
    "name": "ipython",
    "version": 3
   },
   "file_extension": ".py",
   "mimetype": "text/x-python",
   "name": "python",
   "nbconvert_exporter": "python",
   "pygments_lexer": "ipython3",
   "version": "3.5.0"
  }
 },
 "nbformat": 4,
 "nbformat_minor": 0
}
