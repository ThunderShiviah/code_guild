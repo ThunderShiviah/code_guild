{
 "cells": [
  {
   "cell_type": "markdown",
   "metadata": {},
   "source": [
    "# Wk9.0 \n",
    "\n",
    "# Ch. 1 Getting Django Set Up Using a Functional Test\n",
    "\n",
    "## Obey the testing goat! Do nothing until you have a test\n",
    "\n",
    "\n",
    "Before even installing anything, we'll write a test.\n"
   ]
  },
  {
   "cell_type": "markdown",
   "metadata": {},
   "source": [
    "## Writing our first test"
   ]
  },
  {
   "cell_type": "code",
   "execution_count": 11,
   "metadata": {
    "collapsed": false
   },
   "outputs": [
    {
     "name": "stdout",
     "output_type": "stream",
     "text": [
      "/home/thunder/Documents/work/codeguild2015/code_guild/wk9/examples\n",
      "functional_tests.py  superlists\r\n"
     ]
    }
   ],
   "source": [
    "# Make a directory called examples\n",
    "#!mkdir ../examples\n",
    "%cd ../examples\n",
    "!ls\n"
   ]
  },
  {
   "cell_type": "code",
   "execution_count": 7,
   "metadata": {
    "collapsed": false
   },
   "outputs": [
    {
     "ename": "ImportError",
     "evalue": "No module named 'selenium'",
     "output_type": "error",
     "traceback": [
      "\u001b[1;31m---------------------------------------------------------------------------\u001b[0m",
      "\u001b[1;31mImportError\u001b[0m                               Traceback (most recent call last)",
      "\u001b[1;32m<ipython-input-7-d8ffb4801ebc>\u001b[0m in \u001b[0;36m<module>\u001b[1;34m()\u001b[0m\n\u001b[0;32m      2\u001b[0m \u001b[1;31m#%%writefile ../examples/functional_tests.py\u001b[0m\u001b[1;33m\u001b[0m\u001b[1;33m\u001b[0m\u001b[0m\n\u001b[0;32m      3\u001b[0m \u001b[1;33m\u001b[0m\u001b[0m\n\u001b[1;32m----> 4\u001b[1;33m \u001b[1;32mfrom\u001b[0m \u001b[0mselenium\u001b[0m \u001b[1;32mimport\u001b[0m \u001b[0mwebdriver\u001b[0m\u001b[1;33m\u001b[0m\u001b[0m\n\u001b[0m\u001b[0;32m      5\u001b[0m \u001b[1;33m\u001b[0m\u001b[0m\n\u001b[0;32m      6\u001b[0m \u001b[0mbrowser\u001b[0m \u001b[1;33m=\u001b[0m \u001b[0mwebdriver\u001b[0m\u001b[1;33m.\u001b[0m\u001b[0mFirefox\u001b[0m\u001b[1;33m(\u001b[0m\u001b[1;33m)\u001b[0m\u001b[1;33m\u001b[0m\u001b[0m\n",
      "\u001b[1;31mImportError\u001b[0m: No module named 'selenium'"
     ]
    }
   ],
   "source": [
    "# Write functional_tests.py\n",
    "#%%writefile functional_tests.py\n",
    "\n",
    "from selenium import webdriver\n",
    "\n",
    "browser = webdriver.Firefox()\n",
    "browser.get('http://localhost:8000')\n",
    "\n",
    "assert 'Django' in browser.title"
   ]
  },
  {
   "cell_type": "markdown",
   "metadata": {},
   "source": [
    "# Installing django and selenium"
   ]
  },
  {
   "cell_type": "code",
   "execution_count": 2,
   "metadata": {
    "collapsed": false
   },
   "outputs": [
    {
     "name": "stdout",
     "output_type": "stream",
     "text": [
      "Collecting selenium\n",
      "  Downloading selenium-2.48.0.tar.gz (805kB)\n",
      "\u001b[K    100% |████████████████████████████████| 806kB 476kB/s \n",
      "\u001b[?25hBuilding wheels for collected packages: selenium\n",
      "  Running setup.py bdist_wheel for selenium\n",
      "  Stored in directory: /home/thunder/.cache/pip/wheels/e1/34/09/4fa6eb65a3e9fded7ce3ee306ef8d398b09f35db4438567b23\n",
      "Successfully built selenium\n",
      "Installing collected packages: selenium\n",
      "Successfully installed selenium-2.48.0\n"
     ]
    }
   ],
   "source": [
    "# Create a virtual env to load with selenium and django\n",
    "#!conda create -yn django_env django python=3 # y flag automatically selects yes to install\n",
    "#!source activate django_eng # activate virtual environment\n",
    "#!pip install --upgrade selenium # install selenium."
   ]
  },
  {
   "cell_type": "markdown",
   "metadata": {},
   "source": [
    "## Checking that our test correctly fails"
   ]
  },
  {
   "cell_type": "code",
   "execution_count": 13,
   "metadata": {
    "collapsed": false
   },
   "outputs": [
    {
     "ename": "AssertionError",
     "evalue": "",
     "output_type": "error",
     "traceback": [
      "\u001b[1;31m---------------------------------------------------------------------------\u001b[0m",
      "\u001b[1;31mAssertionError\u001b[0m                            Traceback (most recent call last)",
      "\u001b[1;32m/home/thunder/Documents/work/codeguild2015/code_guild/wk9/examples/functional_tests.py\u001b[0m in \u001b[0;36m<module>\u001b[1;34m()\u001b[0m\n\u001b[0;32m      5\u001b[0m \u001b[0mbrowser\u001b[0m\u001b[1;33m.\u001b[0m\u001b[0mget\u001b[0m\u001b[1;33m(\u001b[0m\u001b[1;34m'http://localhost:8000'\u001b[0m\u001b[1;33m)\u001b[0m\u001b[1;33m\u001b[0m\u001b[0m\n\u001b[0;32m      6\u001b[0m \u001b[1;33m\u001b[0m\u001b[0m\n\u001b[1;32m----> 7\u001b[1;33m \u001b[1;32massert\u001b[0m \u001b[1;34m'Django'\u001b[0m \u001b[1;32min\u001b[0m \u001b[0mbrowser\u001b[0m\u001b[1;33m.\u001b[0m\u001b[0mtitle\u001b[0m\u001b[1;33m\u001b[0m\u001b[0m\n\u001b[0m",
      "\u001b[1;31mAssertionError\u001b[0m: "
     ]
    }
   ],
   "source": [
    "# Try running our tests. We're expecting an assertion error here.\n",
    "%run functional_tests.py"
   ]
  },
  {
   "cell_type": "markdown",
   "metadata": {},
   "source": [
    "## Fixing our failure"
   ]
  },
  {
   "cell_type": "code",
   "execution_count": 5,
   "metadata": {
    "collapsed": true
   },
   "outputs": [],
   "source": [
    "# Use django to create a project called 'superlists'\n",
    "#django-admin.py startproject superlists"
   ]
  },
  {
   "cell_type": "code",
   "execution_count": 6,
   "metadata": {
    "collapsed": false
   },
   "outputs": [
    {
     "name": "stdout",
     "output_type": "stream",
     "text": [
      "\u001b[01;34m../examples/\u001b[00m\r\n",
      "├── functional_tests.py\r\n",
      "└── \u001b[01;34msuperlists\u001b[00m\r\n",
      "    ├── \u001b[01;32mmanage.py\u001b[00m\r\n",
      "    └── \u001b[01;34msuperlists\u001b[00m\r\n",
      "        ├── __init__.py\r\n",
      "        ├── settings.py\r\n",
      "        ├── urls.py\r\n",
      "        └── wsgi.py\r\n",
      "\r\n",
      "2 directories, 6 files\r\n"
     ]
    }
   ],
   "source": [
    "!tree ../examples/"
   ]
  },
  {
   "cell_type": "markdown",
   "metadata": {},
   "source": [
    "## Let's fire up our new project on a django server"
   ]
  },
  {
   "cell_type": "code",
   "execution_count": 19,
   "metadata": {
    "collapsed": false
   },
   "outputs": [
    {
     "name": "stdout",
     "output_type": "stream",
     "text": [
      "Performing system checks...\n",
      "\n",
      "System check identified no issues (0 silenced).\n",
      "\u001b[31m\n",
      "You have unapplied migrations; your app may not work properly until they are applied.\u001b[0m\n",
      "\u001b[31mRun 'python manage.py migrate' to apply them.\n",
      "\u001b[0m\n",
      "November 13, 2015 - 20:04:01\n",
      "Django version 1.8.4, using settings 'superlists.settings'\n",
      "Starting development server at http://127.0.0.1:8000/\n",
      "Quit the server with CONTROL-C.\n",
      "\u001b[m[13/Nov/2015 20:04:03] \"GET / HTTP/1.1\" 200 1767\n",
      "\u001b[0m\u001b[33m[13/Nov/2015 20:04:03] \"GET /favicon.ico HTTP/1.1\" 404 1940\n",
      "\u001b[0m^C\n"
     ]
    }
   ],
   "source": [
    "!cd superlists/ && python3 manage.py runserver"
   ]
  },
  {
   "cell_type": "markdown",
   "metadata": {},
   "source": [
    "## Do our tests pass now?"
   ]
  },
  {
   "cell_type": "code",
   "execution_count": 23,
   "metadata": {
    "collapsed": false
   },
   "outputs": [],
   "source": [
    "%run functional_tests.py "
   ]
  },
  {
   "cell_type": "markdown",
   "metadata": {},
   "source": [
    "## Now that our test passed, let's turn this into a git repo."
   ]
  },
  {
   "cell_type": "code",
   "execution_count": 33,
   "metadata": {
    "collapsed": false
   },
   "outputs": [],
   "source": [
    "# First, move our tests into the main project dir.\n",
    "#!mv functional_tests.py superlists/\n",
    "# \n",
    "# Change directories and initialize our superlist into a new git repo\n",
    "#%cd superlists/\n",
    "#!git init ."
   ]
  },
  {
   "cell_type": "code",
   "execution_count": 34,
   "metadata": {
    "collapsed": false
   },
   "outputs": [
    {
     "name": "stdout",
     "output_type": "stream",
     "text": [
      "db.sqlite3  functional_tests.py  \u001b[0m\u001b[01;32mmanage.py\u001b[0m*  \u001b[01;34msuperlists\u001b[0m/\r\n"
     ]
    }
   ],
   "source": [
    "%ls"
   ]
  },
  {
   "cell_type": "code",
   "execution_count": 36,
   "metadata": {
    "collapsed": true
   },
   "outputs": [],
   "source": [
    "# Don't add the database to git.\n",
    "#! echo \"db.sqlite3\" >> .gitignore # >> means concatenate to end of file.\n",
    "\n",
    "# Don't add .pyc files\n",
    "#!echo \"*.pyc\" >> .gitignore"
   ]
  },
  {
   "cell_type": "code",
   "execution_count": null,
   "metadata": {
    "collapsed": true
   },
   "outputs": [],
   "source": [
    "# Add everything else.\n",
    "#!git add .\n",
    "#!git status\n",
    "#!git commit -m \"Initial commit\""
   ]
  }
 ],
 "metadata": {
  "kernelspec": {
   "display_name": "Python 3",
   "language": "python",
   "name": "python3"
  },
  "language_info": {
   "codemirror_mode": {
    "name": "ipython",
    "version": 3
   },
   "file_extension": ".py",
   "mimetype": "text/x-python",
   "name": "python",
   "nbconvert_exporter": "python",
   "pygments_lexer": "ipython3",
   "version": "3.5.0"
  }
 },
 "nbformat": 4,
 "nbformat_minor": 0
}
