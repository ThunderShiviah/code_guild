{
 "cells": [
  {
   "cell_type": "markdown",
   "metadata": {},
   "source": [
    "# Using Selenium to Test User Interactions\n",
    "\n",
    "Where were we at the end of the last chapter? Let’s rerun the test and find out:"
   ]
  },
  {
   "cell_type": "code",
   "execution_count": 1,
   "metadata": {
    "collapsed": false
   },
   "outputs": [
    {
     "name": "stdout",
     "output_type": "stream",
     "text": [
      "/home/thunder/Documents/work/codeguild2015/code_guild/wk9/examples/superlists\n"
     ]
    }
   ],
   "source": [
    "%cd ../examples/superlists/"
   ]
  },
  {
   "cell_type": "code",
   "execution_count": 2,
   "metadata": {
    "collapsed": false
   },
   "outputs": [
    {
     "name": "stdout",
     "output_type": "stream",
     "text": [
      "F\r\n",
      "======================================================================\r\n",
      "FAIL: test_can_start_a_list_and_retrieve_it_later (__main__.NewVisitorTest)\r\n",
      "----------------------------------------------------------------------\r\n",
      "Traceback (most recent call last):\r\n",
      "  File \"functional_tests.py\", line 20, in test_can_start_a_list_and_retrieve_it_later\r\n",
      "    self.assertIn('To-Do', self.browser.title)  #5\r\n",
      "AssertionError: 'To-Do' not found in 'Problem loading page'\r\n",
      "\r\n",
      "----------------------------------------------------------------------\r\n",
      "Ran 1 test in 2.356s\r\n",
      "\r\n",
      "FAILED (failures=1)\r\n"
     ]
    }
   ],
   "source": [
    "!python3 functional_tests.py"
   ]
  },
  {
   "cell_type": "markdown",
   "metadata": {},
   "source": [
    "Did you try it, and get an error saying Problem loading page or Unable to connect? So did I. It’s because we forgot to spin up the dev server first using manage.py runserver. Do that, and you’ll get the failure message we’re after.\n",
    "\n",
    ">One of the great things about TDD is that you never have to worry about forgetting what to do next—just rerun your tests and they will tell you what you need to work on.\n",
    "\n",
    "“Finish the test”, it says, so let’s do just that! Open up functional_tests.py and we’ll extend our FT:\n"
   ]
  },
  {
   "cell_type": "code",
   "execution_count": 6,
   "metadata": {
    "collapsed": false
   },
   "outputs": [
    {
     "name": "stdout",
     "output_type": "stream",
     "text": [
      "Overwriting functional_tests.py\n"
     ]
    }
   ],
   "source": [
    "%%writefile functional_tests.py\n",
    "\n",
    "from selenium import webdriver\n",
    "from selenium.webdriver.common.keys import Keys\n",
    "import unittest\n",
    "\n",
    "class NewVisitorTest(unittest.TestCase):\n",
    "    \n",
    "    def setUp(self):\n",
    "        self.browser = webdriver.Firefox()\n",
    "        self.browser.implicitly_wait(3)\n",
    "        \n",
    "    def tearDown(self):\n",
    "        self.browser.quit()\n",
    "        \n",
    "    def test_can_start_a_list_and_retrieve_it_later(self):\n",
    "        # Edith has heard about a cool new online to-do app. She goes \n",
    "        # to check out its homepage\n",
    "        self.browser.get('http://localhost:8000')\n",
    "        \n",
    "        # She notices the page title and header mention to-do lists\n",
    "        self.assertIn('To-Do', self.browser.title)\n",
    "        header_text = self.browser.find_element_by_tag_name('h1').text\n",
    "        self.assertIn('To-Do', header_text)\n",
    "        \n",
    "        # She is invited to enter a to-do item straight away\n",
    "        inputbox = self.browser.find_element_by_id('id_new_item')\n",
    "        self.assertEqual(\n",
    "            inputbox.get_attribute('placeholder'),\n",
    "            'Enter a to-do item'\n",
    "        )\n",
    "        \n",
    "        # She types \"Buy peacock feathers\" into a text box (Edith's hobby)\n",
    "        # is tying fly-fishing lures)\n",
    "        inputbox.send_keys('Buy peacock feathers')\n",
    "        \n",
    "        # When she hits enter, the page updates, and now the page lists\n",
    "        # \"1: Buy peacock feathers\" as an item in a to-do list table\n",
    "        inputbox.send_keys(Keys.ENTER)\n",
    "        \n",
    "        table = self.browser.find_element_by_id('id_list_table')\n",
    "        rows = table.find_elements_by_tag_name('tr')\n",
    "        self.assertTrue(\n",
    "            any(row.text == '1: Buy peacock feathers' for row in rows)\n",
    "        )\n",
    "        \n",
    "        # There is still a text box inviting her to add another item. She\n",
    "        # enters \"Use peacock feathers to make a fly\" (Edith is very\n",
    "        # methodical)\n",
    "        self.fail('Finish the test!')\n",
    "        \n",
    "        # The page updates again, and now shows both items on her list\n",
    "\n",
    "        # Edith wonders whether the site will remember her list. Then she sees\n",
    "        # that the site has generated a unique URL for her -- there is some\n",
    "        # explanatory text to that effect.\n",
    "\n",
    "        # She visits that URL - her to-do list is still there.\n",
    "\n",
    "        # Satisfied, she goes back to sleep\n",
    "\n",
    "if __name__ == '__main__':  \n",
    "    unittest.main(warnings='ignore')  "
   ]
  },
  {
   "cell_type": "markdown",
   "metadata": {},
   "source": [
    "We’re using several of the methods that Selenium provides to examine web pages: `find_element_by_tag_name`, `find_element_by_id`, and `find_elements_by_tag_name` (notice the extra s, which means it will return several elements rather than just one). We also use send_keys, which is Selenium’s way of typing into input elements. You’ll also see the Keys class (don’t forget to import it), which lets us send special keys like `Enter`, but also modifiers like `Ctrl`.\n",
    "\n",
    ">Watch out for the difference between the Selenium find_element_by... and find_elements_by... functions. One returns an element, and raises an exception if it can’t find it, whereas the other returns a list, which may be empty.\n",
    "\n",
    "Also, just look at that `any` function. It’s a little-known Python built-in. I don’t even need to explain it, do I? Python is such a joy.\n",
    "\n",
    "Although, if you’re one of my readers who doesn’t know Python, what’s happening inside the `any` is a generator expression, which is like a list comprehension but awesomer. You need to read up on this. If you Google it, you’ll find Guido himself explaining it nicely. Come back and tell me that’s not pure joy!\n",
    "\n",
    "Let’s see how it gets on:\n"
   ]
  },
  {
   "cell_type": "code",
   "execution_count": 8,
   "metadata": {
    "collapsed": false
   },
   "outputs": [
    {
     "name": "stdout",
     "output_type": "stream",
     "text": [
      "E\r\n",
      "======================================================================\r\n",
      "ERROR: test_can_start_a_list_and_retrieve_it_later (__main__.NewVisitorTest)\r\n",
      "----------------------------------------------------------------------\r\n",
      "Traceback (most recent call last):\r\n",
      "  File \"functional_tests.py\", line 22, in test_can_start_a_list_and_retrieve_it_later\r\n",
      "    header_text = self.browser.find_element_by_tag_name('h1').text\r\n",
      "  File \"/home/thunder/anaconda3/envs/django_env/lib/python3.5/site-packages/selenium/webdriver/remote/webdriver.py\", line 354, in find_element_by_tag_name\r\n",
      "    return self.find_element(by=By.TAG_NAME, value=name)\r\n",
      "  File \"/home/thunder/anaconda3/envs/django_env/lib/python3.5/site-packages/selenium/webdriver/remote/webdriver.py\", line 712, in find_element\r\n",
      "    {'using': by, 'value': value})['value']\r\n",
      "  File \"/home/thunder/anaconda3/envs/django_env/lib/python3.5/site-packages/selenium/webdriver/remote/webdriver.py\", line 201, in execute\r\n",
      "    self.error_handler.check_response(response)\r\n",
      "  File \"/home/thunder/anaconda3/envs/django_env/lib/python3.5/site-packages/selenium/webdriver/remote/errorhandler.py\", line 181, in check_response\r\n",
      "    raise exception_class(message, screen, stacktrace)\r\n",
      "selenium.common.exceptions.NoSuchElementException: Message: Unable to locate element: {\"method\":\"tag name\",\"selector\":\"h1\"}\r\n",
      "Stacktrace:\r\n",
      "    at FirefoxDriver.prototype.findElementInternal_ (file:///tmp/tmpoucwy99t/extensions/fxdriver@googlecode.com/components/driver-component.js:10659)\r\n",
      "    at fxdriver.Timer.prototype.setTimeout/<.notify (file:///tmp/tmpoucwy99t/extensions/fxdriver@googlecode.com/components/driver-component.js:621)\r\n",
      "\r\n",
      "----------------------------------------------------------------------\r\n",
      "Ran 1 test in 5.355s\r\n",
      "\r\n",
      "FAILED (errors=1)\r\n"
     ]
    }
   ],
   "source": [
    "!python3 functional_tests.py"
   ]
  },
  {
   "cell_type": "markdown",
   "metadata": {},
   "source": [
    "Decoding that, the test is saying it can’t find an `<h1>` element on the page. Let’s see what we can do to add that to the HTML of our home page.\n",
    "\n",
    "Big changes to a functional test are usually a good thing to commit on their own. I failed to do so in my first draft, and I regretted it later when I changed my mind and had the change mixed up with a bunch of others. The more atomic your commits, the better:\n",
    "```\n",
    "$ git diff  # should show changes to functional_tests.py\n",
    "$ git commit -am \"Functional test now checks we can input a to-do item\"\n",
    "```\n",
    "\n",
    "## The \"Don't Test Constants\" Rule, and Templates to the Rescue\n",
    "\n",
    "Let’s take a look at our unit tests, lists/tests.py. Currently we’re looking for specific HTML strings, but that’s not a particularly efficient way of testing HTML. In general, one of the rules of unit testing is Don’t test constants, and testing HTML as text is a lot like testing a constant.\n",
    "\n",
    "In other words, if you have some code that says:\n",
    "```python\n",
    "wibble = 3\n",
    "```\n",
    "There’s not much point in a test that says:\n",
    "```\n",
    "from myprogram import wibble\n",
    "assert wibble == 3\n",
    "```\n",
    "Unit tests are really about testing logic, flow control, and configuration. Making assertions about exactly what sequence of characters we have in our HTML strings isn’t doing that.\n",
    "\n",
    "What’s more, mangling raw strings in Python really isn’t a great way of dealing with HTML. There’s a much better solution, which is to use templates. Quite apart from anything else, if we can keep HTML to one side in a file whose name ends in .html, we’ll get better syntax highlighting! There are lots of Python templating frameworks out there, and Django has its own which works very well. Let’s use that."
   ]
  },
  {
   "cell_type": "markdown",
   "metadata": {},
   "source": [
    "## Refactoring to Use a Template\n",
    "\n",
    "What we want to do now is make our view function return exactly the same HTML, but just using a different process. That’s a refactor—when we try to improve the code without changing its functionality.\n",
    "\n",
    "That last bit is really important. If you try and add new functionality at the same time as refactoring, you’re much more likely to run into trouble. Refactoring is actually a whole discipline in itself, and it even has a reference book: Martin Fowler’s Refactoring.\n",
    "\n",
    "The first rule is that you can’t refactor without tests. Thankfully, we’re doing TDD, so we’re way ahead of the game. Let’s check our tests pass; they will be what makes sure that our refactoring is behaviour preserving:"
   ]
  },
  {
   "cell_type": "code",
   "execution_count": 10,
   "metadata": {
    "collapsed": false
   },
   "outputs": [
    {
     "name": "stdout",
     "output_type": "stream",
     "text": [
      "Creating test database for alias 'default'...\n",
      "..\n",
      "----------------------------------------------------------------------\n",
      "Ran 2 tests in 0.002s\n",
      "\n",
      "OK\n",
      "Destroying test database for alias 'default'...\n"
     ]
    }
   ],
   "source": [
    "!python3 manage.py test"
   ]
  },
  {
   "cell_type": "markdown",
   "metadata": {},
   "source": [
    "Great! We’ll start by taking our HTML string and putting it into its own file. Create a directory called lists/templates to keep templates in, and then open a file at lists/templates/home.html, to which we’ll transfer our HTML:"
   ]
  },
  {
   "cell_type": "code",
   "execution_count": 13,
   "metadata": {
    "collapsed": true
   },
   "outputs": [],
   "source": [
    "#!mkdir lists/templates"
   ]
  },
  {
   "cell_type": "code",
   "execution_count": 14,
   "metadata": {
    "collapsed": false
   },
   "outputs": [
    {
     "name": "stdout",
     "output_type": "stream",
     "text": [
      "Writing lists/templates/home.html\n"
     ]
    }
   ],
   "source": [
    "%%writefile lists/templates/home.html\n",
    "\n",
    "<html>\n",
    "    <title>To-Do lists</title>\n",
    "</html>"
   ]
  },
  {
   "cell_type": "markdown",
   "metadata": {},
   "source": [
    "Now to change our views"
   ]
  },
  {
   "cell_type": "code",
   "execution_count": 16,
   "metadata": {
    "collapsed": true
   },
   "outputs": [],
   "source": [
    "# %load lists/views.py\n",
    "\n",
    "from django.shortcuts import render\n",
    "\n",
    "# Create your views here.\n",
    "def home_page(request):\n",
    "    return render(request, 'home.html')"
   ]
  },
  {
   "cell_type": "markdown",
   "metadata": {},
   "source": [
    "Instead of building our own HttpResponse, we now use the Django render function. It takes the request as its first parameter (for reasons we’ll go into later) and the name of the template to render. Django will automatically search folders called templates inside any of your apps' directories. Then it builds an HttpResponse for you, based on the content of the template.\n",
    "\n",
    ">Templates are a very powerful feature of Django’s, and their main strength consists of substituting Python variables into HTML text. We’re not using this feature yet, but we will in future chapters. That’s why we use `render` and (later) `render_to_string` rather than, say, manually reading the file from disk with the built-in open."
   ]
  },
  {
   "cell_type": "markdown",
   "metadata": {},
   "source": [
    "# TODO : http://chimera.labs.oreilly.com/books/1234000000754/ch04.html#_refactoring_to_use_a_template"
   ]
  },
  {
   "cell_type": "code",
   "execution_count": null,
   "metadata": {
    "collapsed": true
   },
   "outputs": [],
   "source": []
  }
 ],
 "metadata": {
  "kernelspec": {
   "display_name": "Python 3",
   "language": "python",
   "name": "python3"
  },
  "language_info": {
   "codemirror_mode": {
    "name": "ipython",
    "version": 3
   },
   "file_extension": ".py",
   "mimetype": "text/x-python",
   "name": "python",
   "nbconvert_exporter": "python",
   "pygments_lexer": "ipython3",
   "version": "3.5.0"
  }
 },
 "nbformat": 4,
 "nbformat_minor": 0
}
