{
 "cells": [
  {
   "cell_type": "markdown",
   "metadata": {},
   "source": [
    "<small><i>This notebook was prepared by [Donne Martin](http://donnemartin.com). Source and license info is on [GitHub](https://github.com/donnemartin/interactive-coding-challenges).</i></small>"
   ]
  },
  {
   "cell_type": "markdown",
   "metadata": {},
   "source": [
    "# Solution Notebook"
   ]
  },
  {
   "cell_type": "markdown",
   "metadata": {},
   "source": [
    "## Problem: Implement quick sort.\n",
    "\n",
    "* [Constraints](#Constraints)\n",
    "* [Test Cases](#Test-Cases)\n",
    "* [Algorithm](#Algorithm)\n",
    "* [Code](#Code)\n",
    "* [Pythonic-Code](#Pythonic-Code)\n",
    "* [Unit Test](#Unit-Test)"
   ]
  },
  {
   "cell_type": "markdown",
   "metadata": {},
   "source": [
    "## Constraints\n",
    "\n",
    "* Is a naiive solution sufficient (ie not in-place)?\n",
    "    * Yes"
   ]
  },
  {
   "cell_type": "markdown",
   "metadata": {},
   "source": [
    "## Test Cases\n",
    "\n",
    "* Empty input -> []\n",
    "* One element -> [element]\n",
    "* Two or more elements"
   ]
  },
  {
   "cell_type": "markdown",
   "metadata": {},
   "source": [
    "## Algorithm\n",
    "\n",
    "Wikipedia's animation:\n",
    "![alt text](http://upload.wikimedia.org/wikipedia/commons/6/6a/Sorting_quicksort_anim.gif)\n",
    "\n",
    "* Set pivot to the middle element in the data\n",
    "* For each element:\n",
    "    * If current element is the pivot, continue\n",
    "    * If the element is less than the pivot, add to left array\n",
    "    * Else, add to right array\n",
    "* Recursively apply quicksort to the left array\n",
    "* Recursively apply quicksort to the right array\n",
    "* Merge the left array + pivot + right array\n",
    "\n",
    "Complexity:\n",
    "* Time: O(n log(n)) average, best, O(n^2) worst\n",
    "* Space: O(n), n extra space, n recursion depth, generally not stable"
   ]
  },
  {
   "cell_type": "markdown",
   "metadata": {},
   "source": [
    "## Code"
   ]
  },
  {
   "cell_type": "code",
   "execution_count": 1,
   "metadata": {
    "collapsed": false
   },
   "outputs": [],
   "source": [
    "from __future__ import division\n",
    "\n",
    "\n",
    "def quick_sort(data):\n",
    "    if len(data) < 2:\n",
    "        return data\n",
    "    left = []\n",
    "    right = []\n",
    "    pivot_index = len(data) // 2\n",
    "    pivot_value = data[pivot_index]\n",
    "\n",
    "    # Build the left and right partitions\n",
    "    for i in range(0, len(data)):\n",
    "        if i == pivot_index:\n",
    "            continue\n",
    "        if data[i] < pivot_value:\n",
    "            left.append(data[i])\n",
    "        else:\n",
    "            right.append(data[i])\n",
    "\n",
    "    # Recursively apply quick_sort\n",
    "    left = quick_sort(left)\n",
    "    right = quick_sort(right)\n",
    "    return left + [pivot_value] + right"
   ]
  },
  {
   "cell_type": "markdown",
   "metadata": {},
   "source": [
    "## Pythonic-Code\n",
    "\n",
    "The following code from [Stack Overflow](http://stackoverflow.com/questions/18262306/quick-sort-with-python) is very concise, although it might be a little difficult to read:"
   ]
  },
  {
   "cell_type": "code",
   "execution_count": 2,
   "metadata": {
    "collapsed": true
   },
   "outputs": [],
   "source": [
    "def quick_sort_alt(arr):\n",
    "    if len(arr) <= 1:\n",
    "        return arr\n",
    "    else:\n",
    "        return quick_sort_alt([x for x in arr[1:] if x < arr[0]]) + [arr[0]] + quick_sort_alt([x for x in arr[1:] if x >= arr[0]])"
   ]
  },
  {
   "cell_type": "markdown",
   "metadata": {},
   "source": [
    "## Unit Test\n",
    "\n"
   ]
  },
  {
   "cell_type": "code",
   "execution_count": 3,
   "metadata": {
    "collapsed": false
   },
   "outputs": [
    {
     "name": "stdout",
     "output_type": "stream",
     "text": [
      "Overwriting test_quick_sort.py\n"
     ]
    }
   ],
   "source": [
    "%%writefile test_quick_sort.py\n",
    "from nose.tools import assert_equal\n",
    "\n",
    "\n",
    "class TestQuickSort(object):\n",
    "    def test_quick_sort(self, func):\n",
    "        print('Empty input')\n",
    "        data = []\n",
    "        sorted_data = func(data)\n",
    "        assert_equal(sorted_data, [])\n",
    "\n",
    "        print('One element')\n",
    "        data = [5]\n",
    "        sorted_data = func(data)\n",
    "        assert_equal(sorted_data, [5])\n",
    "\n",
    "        print('Two or more elements')\n",
    "        data = [5, 1, 7, 2, 6, -3, 5, 7, -1]\n",
    "        sorted_data = func(data)\n",
    "        assert_equal(sorted_data, sorted(data))\n",
    "\n",
    "        print('Success: test_quick_sort\\n')\n",
    "\n",
    "\n",
    "def main():\n",
    "    test = TestQuickSort()\n",
    "    test.test_quick_sort(quick_sort)\n",
    "    try:\n",
    "        test.test_quick_sort(quick_sort_alt)\n",
    "    except NameError:\n",
    "        # Alternate solutions are only defined\n",
    "        # in the solutions file\n",
    "        pass\n",
    "\n",
    "\n",
    "if __name__ == '__main__':\n",
    "    main()"
   ]
  },
  {
   "cell_type": "code",
   "execution_count": 4,
   "metadata": {
    "collapsed": false
   },
   "outputs": [
    {
     "name": "stdout",
     "output_type": "stream",
     "text": [
      "Empty input\n",
      "One element\n",
      "Two or more elements\n",
      "Success: test_quick_sort\n",
      "\n",
      "Empty input\n",
      "One element\n",
      "Two or more elements\n",
      "Success: test_quick_sort\n",
      "\n"
     ]
    }
   ],
   "source": [
    "%run -i test_quick_sort.py"
   ]
  }
 ],
 "metadata": {
  "kernelspec": {
   "display_name": "Python 2",
   "language": "python",
   "name": "python2"
  },
  "language_info": {
   "codemirror_mode": {
    "name": "ipython",
    "version": 2
   },
   "file_extension": ".py",
   "mimetype": "text/x-python",
   "name": "python",
   "nbconvert_exporter": "python",
   "pygments_lexer": "ipython2",
   "version": "2.7.10"
  }
 },
 "nbformat": 4,
 "nbformat_minor": 0
}
