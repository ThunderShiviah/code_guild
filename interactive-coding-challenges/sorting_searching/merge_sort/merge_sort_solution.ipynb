{
 "cells": [
  {
   "cell_type": "markdown",
   "metadata": {},
   "source": [
    "<small><i>This notebook was prepared by [Donne Martin](http://donnemartin.com). Source and license info is on [GitHub](https://github.com/donnemartin/interactive-coding-challenges).</i></small>"
   ]
  },
  {
   "cell_type": "markdown",
   "metadata": {},
   "source": [
    "# Solution Notebook"
   ]
  },
  {
   "cell_type": "markdown",
   "metadata": {},
   "source": [
    "## Problem: Implement merge sort.\n",
    "\n",
    "* [Constraints](#Constraints)\n",
    "* [Test Cases](#Test-Cases)\n",
    "* [Algorithm](#Algorithm)\n",
    "* [Code](#Code)\n",
    "* [Unit Test](#Unit-Test)"
   ]
  },
  {
   "cell_type": "markdown",
   "metadata": {},
   "source": [
    "## Constraints\n",
    "\n",
    "* Is a naiive solution sufficient?\n",
    "    * Yes"
   ]
  },
  {
   "cell_type": "markdown",
   "metadata": {},
   "source": [
    "## Test Cases\n",
    "\n",
    "* Empty input -> []\n",
    "* One element -> [element]\n",
    "* Two or more elements\n",
    "* Left and right subarrays of different lengths"
   ]
  },
  {
   "cell_type": "markdown",
   "metadata": {},
   "source": [
    "## Algorithm\n",
    "\n",
    "Wikipedia's animation:\n",
    "![alt text](http://upload.wikimedia.org/wikipedia/commons/c/cc/Merge-sort-example-300px.gif)\n",
    "\n",
    "* Recursively split array into left and right halves\n",
    "* Merge split arrays\n",
    "    * Using two pointers, one for each half starting at index 0\n",
    "        * Add the smaller element to the result array\n",
    "        * Inrement pointer where smaller element exists\n",
    "    * Copy remaining elements to the result array\n",
    "    * Return result array\n",
    "\n",
    "Complexity:\n",
    "* Time: O(n log(n))\n",
    "* Space: O(n), stable"
   ]
  },
  {
   "cell_type": "markdown",
   "metadata": {},
   "source": [
    "## Code"
   ]
  },
  {
   "cell_type": "code",
   "execution_count": 1,
   "metadata": {
    "collapsed": false
   },
   "outputs": [],
   "source": [
    "from __future__ import division\n",
    "\n",
    "\n",
    "def merge(left, right):\n",
    "    l = 0\n",
    "    r = 0\n",
    "    result = []\n",
    "    while l < len(left) and r < len(right):\n",
    "        if left[l] < right[r]:\n",
    "            result.append(left[l])\n",
    "            l += 1\n",
    "        else:\n",
    "            result.append(right[r])\n",
    "            r += 1\n",
    "            \n",
    "    # Copy remaining elements\n",
    "    while l < len(left):\n",
    "        result.append(left[l])\n",
    "        l += 1\n",
    "    while r < len(right):\n",
    "        result.append(right[r])\n",
    "        r += 1\n",
    "    return result\n",
    "\n",
    "\n",
    "def merge_sort(data):\n",
    "    if len(data) < 2:\n",
    "        return data\n",
    "    mid = len(data) // 2\n",
    "    left = data[0:mid]\n",
    "    right = data[mid:len(data)]\n",
    "    left = merge_sort(left)\n",
    "    right = merge_sort(right)\n",
    "    return merge(left, right)"
   ]
  },
  {
   "cell_type": "markdown",
   "metadata": {},
   "source": [
    "## Unit Test\n",
    "\n"
   ]
  },
  {
   "cell_type": "code",
   "execution_count": 2,
   "metadata": {
    "collapsed": false
   },
   "outputs": [
    {
     "name": "stdout",
     "output_type": "stream",
     "text": [
      "Overwriting test_merge_sort.py\n"
     ]
    }
   ],
   "source": [
    "%%writefile test_merge_sort.py\n",
    "from nose.tools import assert_equal\n",
    "\n",
    "\n",
    "class TestMergeSort(object):\n",
    "    def test_merge_sort(self):\n",
    "        print('Empty input')\n",
    "        data = []\n",
    "        sorted_data = merge_sort(data)\n",
    "        assert_equal(sorted_data, [])\n",
    "\n",
    "        print('One element')\n",
    "        data = [5]\n",
    "        sorted_data = merge_sort(data)\n",
    "        assert_equal(sorted_data, [5])\n",
    "\n",
    "        print('Two or more elements')\n",
    "        data = [5, 1, 7, 2, 6, -3, 5, 7, -1]\n",
    "        sorted_data = merge_sort(data)\n",
    "        assert_equal(sorted_data, sorted(data))\n",
    "\n",
    "        print('Success: test_merge_sort')\n",
    "\n",
    "\n",
    "def main():\n",
    "    test = TestMergeSort()\n",
    "    test.test_merge_sort()\n",
    "\n",
    "\n",
    "if __name__ == '__main__':\n",
    "    main()"
   ]
  },
  {
   "cell_type": "code",
   "execution_count": 3,
   "metadata": {
    "collapsed": false
   },
   "outputs": [
    {
     "name": "stdout",
     "output_type": "stream",
     "text": [
      "Empty input\n",
      "One element\n",
      "Two or more elements\n",
      "Success: test_merge_sort\n"
     ]
    }
   ],
   "source": [
    "%run -i test_merge_sort.py"
   ]
  }
 ],
 "metadata": {
  "kernelspec": {
   "display_name": "Python 2",
   "language": "python",
   "name": "python2"
  },
  "language_info": {
   "codemirror_mode": {
    "name": "ipython",
    "version": 2
   },
   "file_extension": ".py",
   "mimetype": "text/x-python",
   "name": "python",
   "nbconvert_exporter": "python",
   "pygments_lexer": "ipython2",
   "version": "2.7.10"
  }
 },
 "nbformat": 4,
 "nbformat_minor": 0
}
