{
 "cells": [
  {
   "cell_type": "markdown",
   "metadata": {},
   "source": [
    "<small><i>This notebook was prepared by [Donne Martin](https://github.com/donnemartin). Source and license info is on [GitHub](https://github.com/donnemartin/interactive-coding-challenges).</i></small>"
   ]
  },
  {
   "cell_type": "markdown",
   "metadata": {},
   "source": [
    "# Solution Notebook"
   ]
  },
  {
   "cell_type": "markdown",
   "metadata": {},
   "source": [
    "## Problem: Check if a binary tree is balanced.\n",
    "\n",
    "* [Constraints](#Constraints)\n",
    "* [Test Cases](#Test-Cases)\n",
    "* [Algorithm](#Algorithm)\n",
    "* [Code](#Code)\n",
    "* [Unit Test](#Unit-Test)"
   ]
  },
  {
   "cell_type": "markdown",
   "metadata": {},
   "source": [
    "## Constraints\n",
    "\n",
    "* Is a balanced tree one where the heights of two sub trees of any node doesn't differ by more than 1?\n",
    "    * Yes\n",
    "* Can we assume we already have a Node class with an insert method?\n",
    "    * Yes"
   ]
  },
  {
   "cell_type": "markdown",
   "metadata": {},
   "source": [
    "## Test Cases\n",
    "\n",
    "* 5, 3, 8, 1, 4 -> Yes\n",
    "* 5, 3, 8, 9, 10 -> No"
   ]
  },
  {
   "cell_type": "markdown",
   "metadata": {},
   "source": [
    "## Algorithm\n",
    "\n",
    "The algorithm will be similar to where we get the height of a tree as seen in [here](http://nbviewer.ipython.org/github/donnemartin/interactive-coding-challenges/blob/master/graphs_trees/tree_height/height_solution.ipynb).\n",
    "\n",
    "However, we could check whether the tree is balanced while also checking for the heights.\n",
    "\n",
    "* Base case: If the root is None, return 0\n",
    "* Check the height of `root.left`, if -1, return -1\n",
    "* Check the height of `root.right`, if -1, return -1\n",
    "* If the height differences is greater than 1, return -1\n",
    "* Otherwise, return 1 + max(left height, right height)\n",
    "    \n",
    "Complexity:\n",
    "* Time: O(n)\n",
    "* Space: O(h), where h is the height of the tree"
   ]
  },
  {
   "cell_type": "markdown",
   "metadata": {},
   "source": [
    "## Code"
   ]
  },
  {
   "cell_type": "code",
   "execution_count": 1,
   "metadata": {
    "collapsed": true
   },
   "outputs": [],
   "source": [
    "%run ../bst/bst.py"
   ]
  },
  {
   "cell_type": "code",
   "execution_count": 2,
   "metadata": {
    "collapsed": false
   },
   "outputs": [],
   "source": [
    "def check_balance(root):\n",
    "    if check_height(root) == -1:\n",
    "        return False\n",
    "    else:\n",
    "        return True\n",
    "\n",
    "def check_height(root):\n",
    "    if root is None:\n",
    "        return 0\n",
    "    left_height = check_height(root.left)\n",
    "    if left_height == -1:\n",
    "        return -1\n",
    "    right_height = check_height(root.right)\n",
    "    if right_height == -1:\n",
    "        return -1\n",
    "    diff_height = left_height - right_height\n",
    "    if abs(diff_height) > 1:\n",
    "        return -1\n",
    "    else:\n",
    "        return 1 + max(left_height, right_height)"
   ]
  },
  {
   "cell_type": "markdown",
   "metadata": {},
   "source": [
    "## Unit Test"
   ]
  },
  {
   "cell_type": "code",
   "execution_count": 3,
   "metadata": {
    "collapsed": false
   },
   "outputs": [
    {
     "name": "stdout",
     "output_type": "stream",
     "text": [
      "Overwriting test_check_balance.py\n"
     ]
    }
   ],
   "source": [
    "%%writefile test_check_balance.py\n",
    "from nose.tools import assert_equal\n",
    "\n",
    "\n",
    "class TestCheckBalance(object):\n",
    "\n",
    "    def test_check_balance(self):\n",
    "        node = Node(5)\n",
    "        insert(node, 3)\n",
    "        insert(node, 8)\n",
    "        insert(node, 1)\n",
    "        insert(node, 4)\n",
    "        assert_equal(check_balance(node), True)\n",
    "\n",
    "        node = Node(5)\n",
    "        insert(node, 3)\n",
    "        insert(node, 8)\n",
    "        insert(node, 9)\n",
    "        insert(node, 10)\n",
    "        assert_equal(check_balance(node), False)\n",
    "\n",
    "        print('Success: test_check_balance')\n",
    "\n",
    "\n",
    "def main():\n",
    "    test = TestCheckBalance()\n",
    "    test.test_check_balance()\n",
    "\n",
    "\n",
    "if __name__ == '__main__':\n",
    "    main()"
   ]
  },
  {
   "cell_type": "code",
   "execution_count": 4,
   "metadata": {
    "collapsed": false
   },
   "outputs": [
    {
     "name": "stdout",
     "output_type": "stream",
     "text": [
      "Success: test_check_balance\n"
     ]
    }
   ],
   "source": [
    "%run -i test_check_balance.py"
   ]
  }
 ],
 "metadata": {
  "kernelspec": {
   "display_name": "Python 2",
   "language": "python",
   "name": "python2"
  },
  "language_info": {
   "codemirror_mode": {
    "name": "ipython",
    "version": 2
   },
   "file_extension": ".py",
   "mimetype": "text/x-python",
   "name": "python",
   "nbconvert_exporter": "python",
   "pygments_lexer": "ipython2",
   "version": "2.7.10"
  }
 },
 "nbformat": 4,
 "nbformat_minor": 0
}
