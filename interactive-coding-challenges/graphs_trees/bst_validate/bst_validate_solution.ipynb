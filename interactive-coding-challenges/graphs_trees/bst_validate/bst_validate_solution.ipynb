{
 "cells": [
  {
   "cell_type": "markdown",
   "metadata": {},
   "source": [
    "<small><i>This notebook was prepared by [Donne Martin](https://github.com/donnemartin). Source and license info is on [GitHub](https://github.com/donnemartin/interactive-coding-challenges).</i></small>"
   ]
  },
  {
   "cell_type": "markdown",
   "metadata": {},
   "source": [
    "# Solution Notebook"
   ]
  },
  {
   "cell_type": "markdown",
   "metadata": {},
   "source": [
    "## Problem: Determine if a tree is a valid binary search tree.\n",
    "\n",
    "* [Constraints](#Constraints)\n",
    "* [Test Cases](#Test-Cases)\n",
    "* [Algorithm](#Algorithm)\n",
    "* [Code](#Code)\n",
    "* [Unit Test](#Unit-Test)"
   ]
  },
  {
   "cell_type": "markdown",
   "metadata": {},
   "source": [
    "## Constraints\n",
    "\n",
    "* Can the tree have duplicates?\n",
    "    * Yes\n",
    "* Can we assume we already have a Node class?\n",
    "    * Yes"
   ]
  },
  {
   "cell_type": "markdown",
   "metadata": {},
   "source": [
    "## Test Cases\n",
    "\n",
    "<pre>\n",
    "Valid:\n",
    "      5\n",
    "    /   \\\n",
    "   5     8\n",
    "  / \\   /\n",
    " 4   6 7\n",
    "\n",
    "Invalid:\n",
    "      5\n",
    "    /   \\\n",
    "   5     8\n",
    "    \\   \n",
    "    20\n",
    "</pre>"
   ]
  },
  {
   "cell_type": "markdown",
   "metadata": {},
   "source": [
    "## Algorithm\n",
    "\n",
    "We'll use a recursive solution that valides left <= current < right, passing down the min and max values as we do a depth-first traversal.\n",
    "\n",
    "* If the node is None, return False\n",
    "* If min is set and the node's value <= min, return False\n",
    "* if max is set and the node's value > max, return False\n",
    "* Recursively call the validate function on node.left, updating max\n",
    "* Recursively call the validate function on node.right, updating min\n",
    "    \n",
    "Complexity:\n",
    "* Time: O(n)\n",
    "* Space: O(h), where h is the height of the tree"
   ]
  },
  {
   "cell_type": "markdown",
   "metadata": {},
   "source": [
    "## Code"
   ]
  },
  {
   "cell_type": "code",
   "execution_count": 1,
   "metadata": {
    "collapsed": true
   },
   "outputs": [],
   "source": [
    "%run ../bst/bst.py"
   ]
  },
  {
   "cell_type": "code",
   "execution_count": 2,
   "metadata": {
    "collapsed": false
   },
   "outputs": [],
   "source": [
    "def validate_bst(node):\n",
    "    return __validate_bst__(node, None, None)\n",
    "\n",
    "\n",
    "def __validate_bst__(node, mininum, maximum):\n",
    "    if node is None:\n",
    "        return True\n",
    "    if mininum is not None and node.data <= mininum:\n",
    "        return False\n",
    "    if maximum is not None and node.data > maximum:\n",
    "        return False\n",
    "    if not __validate_bst__(node.left, mininum, node.data):\n",
    "        return False\n",
    "    if not __validate_bst__(node.right, node.data, maximum):\n",
    "        return False\n",
    "    return True"
   ]
  },
  {
   "cell_type": "markdown",
   "metadata": {},
   "source": [
    "## Unit Test"
   ]
  },
  {
   "cell_type": "code",
   "execution_count": 3,
   "metadata": {
    "collapsed": false
   },
   "outputs": [
    {
     "name": "stdout",
     "output_type": "stream",
     "text": [
      "Overwriting test_bst_validate.py\n"
     ]
    }
   ],
   "source": [
    "%%writefile test_bst_validate.py\n",
    "from nose.tools import assert_equal\n",
    "\n",
    "\n",
    "class TestBstValidate(object):\n",
    "\n",
    "    def test_bst_validate(self):\n",
    "        node = Node(5)\n",
    "        insert(node, 8)\n",
    "        insert(node, 5)\n",
    "        insert(node, 6)\n",
    "        insert(node, 4)\n",
    "        insert(node, 7)\n",
    "        assert_equal(validate_bst(node), True)\n",
    "\n",
    "        root = Node(5)\n",
    "        left = Node(5)\n",
    "        right = Node(8)\n",
    "        invalid = Node(20)\n",
    "        root.left = left\n",
    "        root.right = right\n",
    "        root.left.right = invalid\n",
    "        assert_equal(validate_bst(root), False)\n",
    "\n",
    "        print('Success: test_bst_validate')\n",
    "\n",
    "\n",
    "def main():\n",
    "    test = TestBstValidate()\n",
    "    test.test_bst_validate()\n",
    "\n",
    "\n",
    "if __name__ == '__main__':\n",
    "    main()"
   ]
  },
  {
   "cell_type": "code",
   "execution_count": 4,
   "metadata": {
    "collapsed": false
   },
   "outputs": [
    {
     "name": "stdout",
     "output_type": "stream",
     "text": [
      "Success: test_bst_validate\n"
     ]
    }
   ],
   "source": [
    "%run -i test_bst_validate.py"
   ]
  }
 ],
 "metadata": {
  "kernelspec": {
   "display_name": "Python 2",
   "language": "python",
   "name": "python2"
  },
  "language_info": {
   "codemirror_mode": {
    "name": "ipython",
    "version": 2
   },
   "file_extension": ".py",
   "mimetype": "text/x-python",
   "name": "python",
   "nbconvert_exporter": "python",
   "pygments_lexer": "ipython2",
   "version": "2.7.10"
  }
 },
 "nbformat": 4,
 "nbformat_minor": 0
}
