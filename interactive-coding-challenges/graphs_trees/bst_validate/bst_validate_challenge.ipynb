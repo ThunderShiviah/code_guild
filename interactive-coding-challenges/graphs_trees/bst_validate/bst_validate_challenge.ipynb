{
 "cells": [
  {
   "cell_type": "markdown",
   "metadata": {},
   "source": [
    "<small><i>This notebook was prepared by [Donne Martin](https://github.com/donnemartin). Source and license info is on [GitHub](https://github.com/donnemartin/interactive-coding-challenges).</i></small>"
   ]
  },
  {
   "cell_type": "markdown",
   "metadata": {},
   "source": [
    "# Challenge Notebook"
   ]
  },
  {
   "cell_type": "markdown",
   "metadata": {},
   "source": [
    "## Problem: Determine if a tree is a valid binary search tree.\n",
    "\n",
    "* [Constraints](#Constraints)\n",
    "* [Test Cases](#Test-Cases)\n",
    "* [Algorithm](#Algorithm)\n",
    "* [Code](#Code)\n",
    "* [Unit Test](#Unit-Test)\n",
    "* [Solution Notebook](#Solution-Notebook)"
   ]
  },
  {
   "cell_type": "markdown",
   "metadata": {},
   "source": [
    "## Constraints\n",
    "\n",
    "* Can the tree have duplicates?\n",
    "    * Yes\n",
    "* Can we assume we already have a Node class?\n",
    "    * Yes"
   ]
  },
  {
   "cell_type": "markdown",
   "metadata": {},
   "source": [
    "## Test Cases\n",
    "\n",
    "<pre>\n",
    "Valid:\n",
    "      5\n",
    "    /   \\\n",
    "   5     8\n",
    "  / \\   /\n",
    " 4   6 7\n",
    "\n",
    "Invalid:\n",
    "      5\n",
    "    /   \\\n",
    "   5     8\n",
    "  / \\   /\n",
    " 4   9 7\n",
    "</pre>"
   ]
  },
  {
   "cell_type": "markdown",
   "metadata": {},
   "source": [
    "## Algorithm\n",
    "\n",
    "Refer to the [Solution Notebook](http://nbviewer.ipython.org/github/donnemartin/interactive-coding-challenges/blob/master/graphs_trees/bst_validate/bst_validate_solution.ipynb).  If you are stuck and need a hint, the solution notebook's algorithm discussion might be a good place to start."
   ]
  },
  {
   "cell_type": "markdown",
   "metadata": {},
   "source": [
    "## Code"
   ]
  },
  {
   "cell_type": "code",
   "execution_count": null,
   "metadata": {
    "collapsed": true
   },
   "outputs": [],
   "source": [
    "%run ../bst/bst.py\n",
    "%load ../bst/bst.py"
   ]
  },
  {
   "cell_type": "code",
   "execution_count": null,
   "metadata": {
    "collapsed": false
   },
   "outputs": [],
   "source": [
    "def validate_bst(node):\n",
    "    # TODO: Implement me\n",
    "    pass"
   ]
  },
  {
   "cell_type": "markdown",
   "metadata": {},
   "source": [
    "## Unit Test"
   ]
  },
  {
   "cell_type": "markdown",
   "metadata": {},
   "source": [
    "**The following unit test is expected to fail until you solve the challenge.**"
   ]
  },
  {
   "cell_type": "code",
   "execution_count": null,
   "metadata": {
    "collapsed": false
   },
   "outputs": [],
   "source": [
    "# %load test_bst_validate.py\n",
    "from nose.tools import assert_equal\n",
    "\n",
    "\n",
    "class TestBstValidate(object):\n",
    "\n",
    "    def test_bst_validate(self):\n",
    "        node = Node(5)\n",
    "        insert(node, 8)\n",
    "        insert(node, 5)\n",
    "        insert(node, 6)\n",
    "        insert(node, 4)\n",
    "        insert(node, 7)\n",
    "        assert_equal(validate_bst(node), True)\n",
    "\n",
    "        root = Node(5)\n",
    "        left = Node(5)\n",
    "        right = Node(8)\n",
    "        invalid = Node(20)\n",
    "        root.left = left\n",
    "        root.right = right\n",
    "        root.left.right = invalid\n",
    "        assert_equal(validate_bst(root), False)\n",
    "        print('Success: test_bst_validate')\n",
    "\n",
    "\n",
    "def main():\n",
    "    test = TestBstValidate()\n",
    "    test.test_bst_validate()\n",
    "\n",
    "\n",
    "if __name__ == '__main__':\n",
    "    main()"
   ]
  },
  {
   "cell_type": "markdown",
   "metadata": {},
   "source": [
    "## Solution Notebook\n",
    "\n",
    "Review the [Solution Notebook](http://nbviewer.ipython.org/github/donnemartin/interactive-coding-challenges/blob/master/graphs_trees/bst_validate/bst_validate_solution.ipynb) for a discussion on algorithms and code solutions."
   ]
  }
 ],
 "metadata": {
  "kernelspec": {
   "display_name": "Python 2",
   "language": "python",
   "name": "python2"
  },
  "language_info": {
   "codemirror_mode": {
    "name": "ipython",
    "version": 2
   },
   "file_extension": ".py",
   "mimetype": "text/x-python",
   "name": "python",
   "nbconvert_exporter": "python",
   "pygments_lexer": "ipython2",
   "version": "2.7.10"
  }
 },
 "nbformat": 4,
 "nbformat_minor": 0
}
