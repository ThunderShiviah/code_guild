{
 "cells": [
  {
   "cell_type": "markdown",
   "metadata": {},
   "source": [
    "<small><i>This notebook was prepared by [Donne Martin](https://github.com/donnemartin). Source and license info is on [GitHub](https://github.com/donnemartin/interactive-coding-challenges).</i></small>"
   ]
  },
  {
   "cell_type": "markdown",
   "metadata": {},
   "source": [
    "# Solution Notebook"
   ]
  },
  {
   "cell_type": "markdown",
   "metadata": {},
   "source": [
    "## Problem: Implement a graph.\n",
    "\n",
    "* [Constraints](#Constraints)\n",
    "* [Test Cases](#Test-Cases)\n",
    "* [Algorithm](#Algorithm)\n",
    "* [Code](#Code)\n",
    "* [Unit Test](#Unit-Test)"
   ]
  },
  {
   "cell_type": "markdown",
   "metadata": {},
   "source": [
    "## Constraints\n",
    "\n",
    "* Is the graph directed?\n",
    "    * Yes\n",
    "* Do the edges have weights?\n",
    "    * Yes"
   ]
  },
  {
   "cell_type": "markdown",
   "metadata": {},
   "source": [
    "## Test Cases\n",
    "\n",
    "Input:\n",
    "* `add_edge(source, destination, weight)`\n",
    "\n",
    "```\n",
    "graph.add_edge(0, 1, 5)\n",
    "graph.add_edge(0, 5, 2)\n",
    "graph.add_edge(1, 2, 3)\n",
    "graph.add_edge(2, 3, 4)\n",
    "graph.add_edge(3, 4, 5)\n",
    "graph.add_edge(3, 5, 6)\n",
    "graph.add_edge(4, 0, 7)\n",
    "graph.add_edge(5, 4, 8)\n",
    "graph.add_edge(5, 2, 9)\n",
    "```\n",
    "\n",
    "Result:\n",
    "* `source` and `destination` nodes within `graph` are connected with specified `weight`.\n",
    "\n",
    "Note: \n",
    "* We'll be using an OrderedDict to make the outputs more consistent and simplify our testing.\n",
    "* Graph will be used as a building block for more complex graph challenges."
   ]
  },
  {
   "cell_type": "markdown",
   "metadata": {},
   "source": [
    "## Algorithm\n",
    "\n",
    "### Node\n",
    "\n",
    "Node will keep track of its:\n",
    "* id\n",
    "* visit state\n",
    "* adjacent\n",
    "    * key: node\n",
    "    * value: weight\n",
    "\n",
    "### Graph\n",
    "\n",
    "Graph will keep track of its:\n",
    "* nodes\n",
    "    * key: node id\n",
    "    * value: node\n",
    "\n",
    "#### add_node\n",
    "\n",
    "* Create a node with the input id\n",
    "* Add the newly created node to the list of nodes\n",
    "\n",
    "Complexity:\n",
    "* Time: O(1)\n",
    "* Space: O(1)\n",
    "\n",
    "#### add_edge\n",
    "\n",
    "* If the source node is not in the list of nodes, add it\n",
    "* If the dest node is not in the list of nodes, add it\n",
    "* Add a connection from the source node to the dest node with the given edge weight\n",
    "\n",
    "Complexity:\n",
    "* Time: O(1)\n",
    "* Space: O(1)"
   ]
  },
  {
   "cell_type": "markdown",
   "metadata": {},
   "source": [
    "## Code"
   ]
  },
  {
   "cell_type": "code",
   "execution_count": 1,
   "metadata": {
    "collapsed": false
   },
   "outputs": [
    {
     "name": "stdout",
     "output_type": "stream",
     "text": [
      "Overwriting graph.py\n"
     ]
    }
   ],
   "source": [
    "%%writefile graph.py\n",
    "from collections import OrderedDict\n",
    "from enum import Enum  # Python 2 users: Run pip install enum34\n",
    "\n",
    "\n",
    "class State(Enum):\n",
    "    unvisited = 1\n",
    "    visited = 2\n",
    "    visiting = 3\n",
    "\n",
    "\n",
    "class Node:\n",
    "\n",
    "    def __init__(self, id):\n",
    "        self.id = id\n",
    "        self.visit_state = State.unvisited\n",
    "        self.adjacent = OrderedDict()  # key = node, val = weight\n",
    "\n",
    "    def __str__(self):\n",
    "        return str(self.id)\n",
    "\n",
    "\n",
    "class Graph:\n",
    "\n",
    "    def __init__(self):\n",
    "        self.nodes = OrderedDict()  # key = node id, val = node\n",
    "\n",
    "    def add_node(self, id):\n",
    "        node = Node(id)\n",
    "        self.nodes[id] = node\n",
    "        return node\n",
    "\n",
    "    def add_edge(self, source, dest, weight=0):\n",
    "        if source not in self.nodes:\n",
    "            self.add_node(source)\n",
    "        if dest not in self.nodes:\n",
    "            self.add_node(dest)\n",
    "        self.nodes[source].adjacent[self.nodes[dest]] = weight"
   ]
  },
  {
   "cell_type": "code",
   "execution_count": 2,
   "metadata": {
    "collapsed": false
   },
   "outputs": [],
   "source": [
    "%run graph.py"
   ]
  },
  {
   "cell_type": "markdown",
   "metadata": {},
   "source": [
    "## Unit Test"
   ]
  },
  {
   "cell_type": "code",
   "execution_count": 3,
   "metadata": {
    "collapsed": false
   },
   "outputs": [
    {
     "name": "stdout",
     "output_type": "stream",
     "text": [
      "Overwriting test_graph.py\n"
     ]
    }
   ],
   "source": [
    "%%writefile test_graph.py\n",
    "from nose.tools import assert_equal\n",
    "\n",
    "\n",
    "class TestGraph(object):\n",
    "\n",
    "    def test_graph(self):\n",
    "        graph = Graph()\n",
    "        for id in range(0, 6):\n",
    "            graph.add_node(id)\n",
    "        graph.add_edge(0, 1, 5)\n",
    "        graph.add_edge(0, 5, 2)\n",
    "        graph.add_edge(1, 2, 3)\n",
    "        graph.add_edge(2, 3, 4)\n",
    "        graph.add_edge(3, 4, 5)\n",
    "        graph.add_edge(3, 5, 6)\n",
    "        graph.add_edge(4, 0, 7)\n",
    "        graph.add_edge(5, 4, 8)\n",
    "        graph.add_edge(5, 2, 9)\n",
    "\n",
    "        assert_equal(graph.nodes[0].adjacent[graph.nodes[1]], 5)\n",
    "        assert_equal(graph.nodes[0].adjacent[graph.nodes[5]], 2)\n",
    "        assert_equal(graph.nodes[1].adjacent[graph.nodes[2]], 3)\n",
    "        assert_equal(graph.nodes[2].adjacent[graph.nodes[3]], 4)\n",
    "        assert_equal(graph.nodes[3].adjacent[graph.nodes[4]], 5)\n",
    "        assert_equal(graph.nodes[3].adjacent[graph.nodes[5]], 6)\n",
    "        assert_equal(graph.nodes[4].adjacent[graph.nodes[0]], 7)\n",
    "        assert_equal(graph.nodes[5].adjacent[graph.nodes[4]], 8)\n",
    "        assert_equal(graph.nodes[5].adjacent[graph.nodes[2]], 9)\n",
    "\n",
    "        print('Success: test_graph')\n",
    "\n",
    "\n",
    "def main():\n",
    "    test = TestGraph()\n",
    "    test.test_graph()\n",
    "\n",
    "\n",
    "if __name__ == '__main__':\n",
    "    main()"
   ]
  },
  {
   "cell_type": "code",
   "execution_count": 4,
   "metadata": {
    "collapsed": false
   },
   "outputs": [
    {
     "name": "stdout",
     "output_type": "stream",
     "text": [
      "Success: test_graph\n"
     ]
    }
   ],
   "source": [
    "%run -i test_graph.py"
   ]
  }
 ],
 "metadata": {
  "kernelspec": {
   "display_name": "Python 2",
   "language": "python",
   "name": "python2"
  },
  "language_info": {
   "codemirror_mode": {
    "name": "ipython",
    "version": 2
   },
   "file_extension": ".py",
   "mimetype": "text/x-python",
   "name": "python",
   "nbconvert_exporter": "python",
   "pygments_lexer": "ipython2",
   "version": "2.7.10"
  }
 },
 "nbformat": 4,
 "nbformat_minor": 0
}
