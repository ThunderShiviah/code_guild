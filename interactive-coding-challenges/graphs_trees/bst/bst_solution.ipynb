{
 "cells": [
  {
   "cell_type": "markdown",
   "metadata": {},
   "source": [
    "<small><i>This notebook was prepared by [Donne Martin](https://github.com/donnemartin). Source and license info is on [GitHub](https://github.com/donnemartin/interactive-coding-challenges).</i></small>"
   ]
  },
  {
   "cell_type": "markdown",
   "metadata": {},
   "source": [
    "# Solution Notebook"
   ]
  },
  {
   "cell_type": "markdown",
   "metadata": {},
   "source": [
    "## Problem: Implement a binary search tree with an insert method.\n",
    "\n",
    "* [Constraints](#Constraints)\n",
    "* [Test Cases](#Test-Cases)\n",
    "* [Algorithm](#Algorithm)\n",
    "* [Code](#Code)\n",
    "* [Unit Test](#Unit-Test)"
   ]
  },
  {
   "cell_type": "markdown",
   "metadata": {},
   "source": [
    "## Constraints\n",
    "\n",
    "* Can we assume we are working with valid integers?\n",
    "    * Yes\n",
    "* Can we assume all left descendents <= n < all right descendents?\n",
    "    * Yes\n",
    "* For simplicity, can we use just a Node class without a wrapper Tree class?\n",
    "    * Yes\n",
    "* Do we have to keep track of the parent nodes?\n",
    "    * This is optional"
   ]
  },
  {
   "cell_type": "markdown",
   "metadata": {},
   "source": [
    "## Test Cases\n",
    "\n",
    "### Insert\n",
    "\n",
    "Insert will be tested through the following traversal:\n",
    "\n",
    "### In-Order Traversal (Provided)\n",
    "\n",
    "* 5, 2, 8, 1, 3 -> 1, 2, 3, 5, 8\n",
    "* 1, 2, 3, 4, 5 -> 1, 2, 3, 4, 5"
   ]
  },
  {
   "cell_type": "markdown",
   "metadata": {},
   "source": [
    "## Algorithm\n",
    "\n",
    "### Insert\n",
    "\n",
    "* If the data is <= the current node's data\n",
    "    * If the current node's left child is None, set it to Node(data)\n",
    "    * Else, recursively call insert on the left child\n",
    "* Else\n",
    "    * If the current node's right child is None, set it to Node(data)\n",
    "    * Else, recursively call insert on the right child\n",
    "\n",
    "Complexity:\n",
    "\n",
    "* Time: O(log n)\n",
    "* Space: O(1)"
   ]
  },
  {
   "cell_type": "markdown",
   "metadata": {},
   "source": [
    "## Code"
   ]
  },
  {
   "cell_type": "code",
   "execution_count": 1,
   "metadata": {
    "collapsed": false
   },
   "outputs": [
    {
     "name": "stdout",
     "output_type": "stream",
     "text": [
      "Overwriting bst.py\n"
     ]
    }
   ],
   "source": [
    "%%writefile bst.py\n",
    "class Node(object):\n",
    "\n",
    "    def __init__(self, data):\n",
    "        self.data = data\n",
    "        self.left = None\n",
    "        self.right = None\n",
    "        self.parent = None\n",
    "\n",
    "    def __str__(self):\n",
    "        return str(self.data)\n",
    "\n",
    "\n",
    "def insert(root, data):\n",
    "    if data <= root.data:\n",
    "        if root.left is None:\n",
    "            root.left = Node(data)\n",
    "            root.left.parent = root\n",
    "            return root.left\n",
    "        else:\n",
    "            return insert(root.left, data)\n",
    "    else:\n",
    "        if root.right is None:\n",
    "            root.right = Node(data)\n",
    "            root.right.parent = root\n",
    "            return root.right\n",
    "        else:\n",
    "            return insert(root.right, data)"
   ]
  },
  {
   "cell_type": "code",
   "execution_count": 2,
   "metadata": {
    "collapsed": false
   },
   "outputs": [],
   "source": [
    "%run bst.py"
   ]
  },
  {
   "cell_type": "markdown",
   "metadata": {},
   "source": [
    "## Unit Test"
   ]
  },
  {
   "cell_type": "code",
   "execution_count": 3,
   "metadata": {
    "collapsed": true
   },
   "outputs": [],
   "source": [
    "%run dfs.py"
   ]
  },
  {
   "cell_type": "code",
   "execution_count": 4,
   "metadata": {
    "collapsed": false
   },
   "outputs": [],
   "source": [
    "%run ../utils/results.py"
   ]
  },
  {
   "cell_type": "code",
   "execution_count": 5,
   "metadata": {
    "collapsed": false
   },
   "outputs": [
    {
     "name": "stdout",
     "output_type": "stream",
     "text": [
      "Overwriting test_bst.py\n"
     ]
    }
   ],
   "source": [
    "%%writefile test_bst.py\n",
    "from nose.tools import assert_equal\n",
    "\n",
    "\n",
    "class TestTree(object):\n",
    "\n",
    "    def __init__(self):\n",
    "        self.results = Results()\n",
    "\n",
    "    def test_tree(self):\n",
    "        node = Node(5)\n",
    "        insert(node, 2)\n",
    "        insert(node, 8)\n",
    "        insert(node, 1)\n",
    "        insert(node, 3)\n",
    "        in_order_traversal(node, self.results.add_result)\n",
    "        assert_equal(str(self.results), '[1, 2, 3, 5, 8]')\n",
    "        self.results.clear_results()\n",
    "\n",
    "        node = Node(1)\n",
    "        insert(node, 2)\n",
    "        insert(node, 3)\n",
    "        insert(node, 4)\n",
    "        insert(node, 5)\n",
    "        in_order_traversal(node, self.results.add_result)\n",
    "        assert_equal(str(self.results), '[1, 2, 3, 4, 5]')\n",
    "\n",
    "        print('Success: test_tree')\n",
    "\n",
    "\n",
    "def main():\n",
    "    test = TestTree()\n",
    "    test.test_tree()\n",
    "\n",
    "\n",
    "if __name__ == '__main__':\n",
    "    main()"
   ]
  },
  {
   "cell_type": "code",
   "execution_count": 6,
   "metadata": {
    "collapsed": false
   },
   "outputs": [
    {
     "name": "stdout",
     "output_type": "stream",
     "text": [
      "Success: test_tree\n"
     ]
    }
   ],
   "source": [
    "%run -i test_bst.py"
   ]
  }
 ],
 "metadata": {
  "kernelspec": {
   "display_name": "Python 2",
   "language": "python",
   "name": "python2"
  },
  "language_info": {
   "codemirror_mode": {
    "name": "ipython",
    "version": 2
   },
   "file_extension": ".py",
   "mimetype": "text/x-python",
   "name": "python",
   "nbconvert_exporter": "python",
   "pygments_lexer": "ipython2",
   "version": "2.7.10"
  }
 },
 "nbformat": 4,
 "nbformat_minor": 0
}
