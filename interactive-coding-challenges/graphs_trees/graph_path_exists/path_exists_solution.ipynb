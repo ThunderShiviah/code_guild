{
 "cells": [
  {
   "cell_type": "markdown",
   "metadata": {},
   "source": [
    "<small><i>This notebook was prepared by [Donne Martin](https://github.com/donnemartin). Source and license info is on [GitHub](https://github.com/donnemartin/interactive-coding-challenges).</i></small>"
   ]
  },
  {
   "cell_type": "markdown",
   "metadata": {},
   "source": [
    "# Solution Notebook"
   ]
  },
  {
   "cell_type": "markdown",
   "metadata": {},
   "source": [
    "## Problem: Determine whether there is a path between two nodes in a graph.\n",
    "\n",
    "* [Constraints](#Constraints)\n",
    "* [Test Cases](#Test-Cases)\n",
    "* [Algorithm](#Algorithm)\n",
    "* [Code](#Code)\n",
    "* [Unit Test](#Unit-Test)"
   ]
  },
  {
   "cell_type": "markdown",
   "metadata": {},
   "source": [
    "## Constraints\n",
    "\n",
    "* Is the graph directed?\n",
    "    * Yes\n",
    "* Can we assume we already have Graph and Node classes?\n",
    "    * Yes"
   ]
  },
  {
   "cell_type": "markdown",
   "metadata": {},
   "source": [
    "## Test Cases\n",
    "\n",
    "Input:\n",
    "* `add_edge(source, destination, weight)`\n",
    "\n",
    "```\n",
    "graph.add_edge(0, 1, 5)\n",
    "graph.add_edge(0, 4, 3)\n",
    "graph.add_edge(0, 5, 2)\n",
    "graph.add_edge(1, 3, 5)\n",
    "graph.add_edge(1, 4, 4)\n",
    "graph.add_edge(2, 1, 6)\n",
    "graph.add_edge(3, 2, 7)\n",
    "graph.add_edge(3, 4, 8)\n",
    "```\n",
    "\n",
    "Result:\n",
    "* search_path(start=0, end=2) -> True\n",
    "* search_path(start=0, end=0) -> True\n",
    "* search_path(start=4, end=5) -> False"
   ]
  },
  {
   "cell_type": "markdown",
   "metadata": {},
   "source": [
    "## Algorithm\n",
    "\n",
    "To determine if there is a path, we can use either breadth-first or depth-first search.\n",
    "\n",
    "Breadth-first search can also be used to determine the shortest path.  Depth-first search is easier to implement with just straight recursion, but often results in a longer path.\n",
    "\n",
    "We'll use a breadth-first search approach:\n",
    "\n",
    "* Add the start node to the queue and mark it as visited\n",
    "* If the start node is the end node, return True\n",
    "* While the queue is not empty\n",
    "    * Dequeue a node and visit it\n",
    "    * If the node is the end node, return True\n",
    "    * Iterate through each adjacent node\n",
    "        * If the node has not been visited, add it to the queue and mark it as visited\n",
    "* Return False\n",
    "\n",
    "Complexity:\n",
    "* Time: O(V + E), where V = number of vertices and E = number of edges\n",
    "* Space: O(V + E)"
   ]
  },
  {
   "cell_type": "markdown",
   "metadata": {},
   "source": [
    "## Code"
   ]
  },
  {
   "cell_type": "code",
   "execution_count": 1,
   "metadata": {
    "collapsed": true
   },
   "outputs": [],
   "source": [
    "%run ../graph/graph.py"
   ]
  },
  {
   "cell_type": "code",
   "execution_count": 2,
   "metadata": {
    "collapsed": false
   },
   "outputs": [],
   "source": [
    "from collections import deque\n",
    "\n",
    "\n",
    "def path_exists(start, end):\n",
    "    if start is None or end is None:\n",
    "        return False\n",
    "    if start is end:\n",
    "        return True\n",
    "    queue = deque()\n",
    "    queue.append(start)\n",
    "    start.visited = True\n",
    "    while queue:\n",
    "        node = queue.popleft()\n",
    "        if node is None:\n",
    "            continue\n",
    "        if node is end:\n",
    "            return True\n",
    "        for adj_node in node.adjacent:\n",
    "            if not adj_node.visited:\n",
    "                queue.append(adj_node)\n",
    "                adj_node.visited = True\n",
    "    return False"
   ]
  },
  {
   "cell_type": "markdown",
   "metadata": {},
   "source": [
    "## Unit Test"
   ]
  },
  {
   "cell_type": "code",
   "execution_count": 3,
   "metadata": {
    "collapsed": false
   },
   "outputs": [
    {
     "name": "stdout",
     "output_type": "stream",
     "text": [
      "Overwriting test_path_exists.py\n"
     ]
    }
   ],
   "source": [
    "%%writefile test_path_exists.py\n",
    "from nose.tools import assert_equal\n",
    "\n",
    "\n",
    "class TestPathExists(object):\n",
    "\n",
    "    def test_path_exists(self):\n",
    "        nodes = []\n",
    "        graph = Graph()\n",
    "        for id in range(0, 6):\n",
    "            nodes.append(graph.add_node(id))\n",
    "        graph.add_edge(0, 1, 5)\n",
    "        graph.add_edge(0, 4, 3)\n",
    "        graph.add_edge(0, 5, 2)\n",
    "        graph.add_edge(1, 3, 5)\n",
    "        graph.add_edge(1, 4, 4)\n",
    "        graph.add_edge(2, 1, 6)\n",
    "        graph.add_edge(3, 2, 7)\n",
    "        graph.add_edge(3, 4, 8)\n",
    "\n",
    "        assert_equal(path_exists(nodes[0], nodes[2]), True)\n",
    "        assert_equal(path_exists(nodes[0], nodes[0]), True)\n",
    "        assert_equal(path_exists(nodes[4], nodes[5]), False)\n",
    "\n",
    "        print('Success: test_path_exists')\n",
    "\n",
    "\n",
    "def main():\n",
    "    test = TestPathExists()\n",
    "    test.test_path_exists()\n",
    "\n",
    "\n",
    "if __name__ == '__main__':\n",
    "    main()"
   ]
  },
  {
   "cell_type": "code",
   "execution_count": 4,
   "metadata": {
    "collapsed": false
   },
   "outputs": [
    {
     "name": "stdout",
     "output_type": "stream",
     "text": [
      "Success: test_path_exists\n"
     ]
    }
   ],
   "source": [
    "%run -i test_path_exists.py"
   ]
  }
 ],
 "metadata": {
  "kernelspec": {
   "display_name": "Python 2",
   "language": "python",
   "name": "python2"
  },
  "language_info": {
   "codemirror_mode": {
    "name": "ipython",
    "version": 2
   },
   "file_extension": ".py",
   "mimetype": "text/x-python",
   "name": "python",
   "nbconvert_exporter": "python",
   "pygments_lexer": "ipython2",
   "version": "2.7.10"
  }
 },
 "nbformat": 4,
 "nbformat_minor": 0
}
