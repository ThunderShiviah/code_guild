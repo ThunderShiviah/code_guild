{
 "cells": [
  {
   "cell_type": "markdown",
   "metadata": {},
   "source": [
    "<small><i>This notebook was prepared by [Donne Martin](https://github.com/donnemartin). Source and license info is on [GitHub](https://github.com/donnemartin/interactive-coding-challenges).</i></small>"
   ]
  },
  {
   "cell_type": "markdown",
   "metadata": {},
   "source": [
    "# Solution Notebook"
   ]
  },
  {
   "cell_type": "markdown",
   "metadata": {},
   "source": [
    "## Problem: Implement depth-first searches (in-order, pre-order, post-order traversals) on a binary tree.\n",
    "\n",
    "* [Constraints](#Constraints)\n",
    "* [Test Cases](#Test-Cases)\n",
    "* [Algorithm](#Algorithm)\n",
    "* [Code](#Code)\n",
    "* [Unit Test](#Unit-Test)"
   ]
  },
  {
   "cell_type": "markdown",
   "metadata": {},
   "source": [
    "## Constraints\n",
    "\n",
    "* Can we assume we already have a Node class with an insert method?\n",
    "    * Yes"
   ]
  },
  {
   "cell_type": "markdown",
   "metadata": {},
   "source": [
    "## Test Cases\n",
    "\n",
    "### In-Order Traversal\n",
    "\n",
    "* 5, 2, 8, 1, 3 -> 1, 2, 3, 5, 8\n",
    "* 1, 2, 3, 4, 5 -> 1, 2, 3, 4, 5\n",
    "\n",
    "### Pre-Order Traversal\n",
    "\n",
    "* 5, 2, 8, 1, 3 -> 5, 2, 1, 3, 8\n",
    "* 1, 2, 3, 4, 5 -> 1, 2, 3, 4, 5\n",
    "\n",
    "### Post-Order Traversal\n",
    "\n",
    "* 5, 2, 8, 1, 3 -> 1, 3, 2, 8, 5\n",
    "* 1, 2, 3, 4, 5 -> 5, 4, 3, 2, 1"
   ]
  },
  {
   "cell_type": "markdown",
   "metadata": {},
   "source": [
    "## Algorithm\n",
    "\n",
    "## Test Cases\n",
    "\n",
    "### In-Order Traversal\n",
    "\n",
    "* Recursively call in-order traversal on the left child\n",
    "* Visit the current node\n",
    "* Recursively call in-order traversal on the right child\n",
    "\n",
    "Complexity:\n",
    "* Time: O(n)\n",
    "* Space: O(h), where h is the height of the tree\n",
    "\n",
    "Note:\n",
    "* This is a form of a depth-first traversal\n",
    "\n",
    "### Pre-Order Traversal\n",
    "\n",
    "* Visit the current node\n",
    "* Recursively call pre-order traversal on the left child\n",
    "* Recursively call pre-order traversal on the right child\n",
    "\n",
    "Complexity:\n",
    "* Time: O(n)\n",
    "* Space: O(h), where h is the height of the tree\n",
    "\n",
    "Note:\n",
    "* This is a form of a depth-first traversal\n",
    "\n",
    "### Post-Order Traversal\n",
    "\n",
    "* Recursively call post-order traversal on the left child\n",
    "* Recursively call post-order traversal on the right child\n",
    "* Visit the current node\n",
    "\n",
    "Complexity:\n",
    "* Time: O(n)\n",
    "* Space: O(h), where h is the height of the tree\n",
    "\n",
    "Note:\n",
    "* This is a form of a depth-first traversal"
   ]
  },
  {
   "cell_type": "markdown",
   "metadata": {},
   "source": [
    "## Code"
   ]
  },
  {
   "cell_type": "code",
   "execution_count": 1,
   "metadata": {
    "collapsed": true
   },
   "outputs": [],
   "source": [
    "%run ../bst/bst.py"
   ]
  },
  {
   "cell_type": "code",
   "execution_count": 2,
   "metadata": {
    "collapsed": false
   },
   "outputs": [],
   "source": [
    "def in_order_traversal(node, visit_func):\n",
    "    if node is not None:\n",
    "        in_order_traversal(node.left, visit_func)\n",
    "        visit_func(node)\n",
    "        in_order_traversal(node.right, visit_func)\n",
    "\n",
    "def pre_order_traversal(node, visit_func):\n",
    "    if node is not None:\n",
    "        visit_func(node)\n",
    "        pre_order_traversal(node.left, visit_func)\n",
    "        pre_order_traversal(node.right, visit_func)\n",
    "\n",
    "def post_order_traversal(node, visit_func):\n",
    "    if node is not None:\n",
    "        post_order_traversal(node.left, visit_func)\n",
    "        post_order_traversal(node.right, visit_func)\n",
    "        visit_func(node)"
   ]
  },
  {
   "cell_type": "markdown",
   "metadata": {},
   "source": [
    "## Unit Test"
   ]
  },
  {
   "cell_type": "code",
   "execution_count": 3,
   "metadata": {
    "collapsed": true
   },
   "outputs": [],
   "source": [
    "%run ../utils/results.py"
   ]
  },
  {
   "cell_type": "code",
   "execution_count": 4,
   "metadata": {
    "collapsed": false
   },
   "outputs": [
    {
     "name": "stdout",
     "output_type": "stream",
     "text": [
      "Overwriting test_dfs.py\n"
     ]
    }
   ],
   "source": [
    "%%writefile test_dfs.py\n",
    "from nose.tools import assert_equal\n",
    "\n",
    "\n",
    "class TestDfs(object):\n",
    "\n",
    "    def __init__(self):\n",
    "        self.results = Results()\n",
    "\n",
    "    def test_dfs(self):\n",
    "        node = Node(5)\n",
    "        insert(node, 2)\n",
    "        insert(node, 8)\n",
    "        insert(node, 1)\n",
    "        insert(node, 3)\n",
    "\n",
    "        in_order_traversal(node, self.results.add_result)\n",
    "        assert_equal(str(self.results), \"[1, 2, 3, 5, 8]\")\n",
    "        self.results.clear_results()\n",
    "\n",
    "        pre_order_traversal(node, self.results.add_result)\n",
    "        assert_equal(str(self.results), \"[5, 2, 1, 3, 8]\")\n",
    "        self.results.clear_results()\n",
    "\n",
    "        post_order_traversal(node, self.results.add_result)\n",
    "        assert_equal(str(self.results), \"[1, 3, 2, 8, 5]\")\n",
    "        self.results.clear_results()\n",
    "\n",
    "        node = Node(1)\n",
    "        insert(node, 2)\n",
    "        insert(node, 3)\n",
    "        insert(node, 4)\n",
    "        insert(node, 5)\n",
    "\n",
    "        in_order_traversal(node, self.results.add_result)\n",
    "        assert_equal(str(self.results), \"[1, 2, 3, 4, 5]\")\n",
    "        self.results.clear_results()\n",
    "\n",
    "        pre_order_traversal(node, self.results.add_result)\n",
    "        assert_equal(str(self.results), \"[1, 2, 3, 4, 5]\")\n",
    "        self.results.clear_results()\n",
    "\n",
    "        post_order_traversal(node, self.results.add_result)\n",
    "        assert_equal(str(self.results), \"[5, 4, 3, 2, 1]\")\n",
    "\n",
    "        print('Success: test_dfs')\n",
    "\n",
    "\n",
    "def main():\n",
    "    test = TestDfs()\n",
    "    test.test_dfs()\n",
    "\n",
    "\n",
    "if __name__ == '__main__':\n",
    "    main()"
   ]
  },
  {
   "cell_type": "code",
   "execution_count": 5,
   "metadata": {
    "collapsed": false
   },
   "outputs": [
    {
     "name": "stdout",
     "output_type": "stream",
     "text": [
      "Success: test_dfs\n"
     ]
    }
   ],
   "source": [
    "%run -i test_dfs.py"
   ]
  }
 ],
 "metadata": {
  "kernelspec": {
   "display_name": "Python 2",
   "language": "python",
   "name": "python2"
  },
  "language_info": {
   "codemirror_mode": {
    "name": "ipython",
    "version": 2
   },
   "file_extension": ".py",
   "mimetype": "text/x-python",
   "name": "python",
   "nbconvert_exporter": "python",
   "pygments_lexer": "ipython2",
   "version": "2.7.10"
  }
 },
 "nbformat": 4,
 "nbformat_minor": 0
}
