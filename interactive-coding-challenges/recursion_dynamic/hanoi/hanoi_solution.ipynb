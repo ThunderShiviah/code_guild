{
 "cells": [
  {
   "cell_type": "markdown",
   "metadata": {},
   "source": [
    "<small><i>This notebook was prepared by [Donne Martin](http://donnemartin.com). Source and license info is on [GitHub](https://github.com/donnemartin/interactive-coding-challenges).</i></small>"
   ]
  },
  {
   "cell_type": "markdown",
   "metadata": {},
   "source": [
    "# Solution Notebook"
   ]
  },
  {
   "cell_type": "markdown",
   "metadata": {},
   "source": [
    "## Problem: Implement the [Towers of Hanoi](http://en.wikipedia.org/wiki/Tower_of_Hanoi) with 3 towers and N disks.\n",
    "\n",
    "* [Constraints](#Constraints)\n",
    "* [Test Cases](#Test-Cases)\n",
    "* [Algorithm](#Algorithm)\n",
    "* [Code](#Code)\n",
    "* [Unit Test](#Unit-Test)"
   ]
  },
  {
   "cell_type": "markdown",
   "metadata": {},
   "source": [
    "## Constraints\n",
    "\n",
    "* Can we assume we already have a stack class that can be used for this problem?\n",
    "    * Yes"
   ]
  },
  {
   "cell_type": "markdown",
   "metadata": {},
   "source": [
    "## Test Cases\n",
    "\n",
    "* None tower(s)\n",
    "* 0 disks\n",
    "* 1 disk\n",
    "* 2 or more disks"
   ]
  },
  {
   "cell_type": "markdown",
   "metadata": {},
   "source": [
    "## Algorithm\n",
    "\n",
    "* Create three stacks to represent each tower\n",
    "* def hanoi(n, src, dest, buffer):\n",
    "    * If 0 disks return\n",
    "    * hanoi(n-1, src, buffer)\n",
    "    * Move remaining element from src to dest\n",
    "    * hanoi(n-1, buffer, dest)    \n",
    "\n",
    "Complexity:\n",
    "* Time: O(2^n)\n",
    "* Space: O(m) where m is the number of recursion levels"
   ]
  },
  {
   "cell_type": "markdown",
   "metadata": {},
   "source": [
    "## Code"
   ]
  },
  {
   "cell_type": "code",
   "execution_count": 1,
   "metadata": {
    "collapsed": false
   },
   "outputs": [],
   "source": [
    "%run ../../stacks_queues/stack/stack.py"
   ]
  },
  {
   "cell_type": "code",
   "execution_count": 2,
   "metadata": {
    "collapsed": false
   },
   "outputs": [],
   "source": [
    "def hanoi(num_disks, src, dest, buff):\n",
    "    if src is None or dest is None or buff is None:\n",
    "        return\n",
    "    if num_disks > 0:\n",
    "        hanoi(num_disks-1, src, buff, dest)\n",
    "        data = src.pop()\n",
    "        dest.push(data)\n",
    "        hanoi(num_disks-1, buff, dest, src)"
   ]
  },
  {
   "cell_type": "markdown",
   "metadata": {},
   "source": [
    "## Unit Test\n",
    "\n"
   ]
  },
  {
   "cell_type": "code",
   "execution_count": 3,
   "metadata": {
    "collapsed": false
   },
   "outputs": [
    {
     "name": "stdout",
     "output_type": "stream",
     "text": [
      "Overwriting test_hanoi.py\n"
     ]
    }
   ],
   "source": [
    "%%writefile test_hanoi.py\n",
    "from nose.tools import assert_equal\n",
    "\n",
    "\n",
    "class TestHanoi(object):\n",
    "\n",
    "    def test_hanoi(self):\n",
    "        num_disks = 3\n",
    "        src = Stack()\n",
    "        buff = Stack()\n",
    "        dest = Stack()\n",
    "\n",
    "        print('Test: None towers')\n",
    "        hanoi(num_disks, None, None, None)\n",
    "\n",
    "        print('Test: 0 disks')\n",
    "        hanoi(num_disks, src, dest, buff)\n",
    "        assert_equal(dest.pop(), None)\n",
    "\n",
    "        print('Test: 1 disk')\n",
    "        src.push(5)\n",
    "        hanoi(num_disks, src, dest, buff)\n",
    "        assert_equal(dest.pop(), 5)\n",
    "\n",
    "        print('Test: 2 or more disks')\n",
    "        for i in range(num_disks, -1, -1):\n",
    "            src.push(i)\n",
    "        hanoi(num_disks, src, dest, buff)\n",
    "        for i in range(0, num_disks):\n",
    "            assert_equal(dest.pop(), i)\n",
    "\n",
    "        print('Success: test_hanoi')\n",
    "\n",
    "\n",
    "def main():\n",
    "    test = TestHanoi()\n",
    "    test.test_hanoi()\n",
    "\n",
    "\n",
    "if __name__ == '__main__':\n",
    "    main()"
   ]
  },
  {
   "cell_type": "code",
   "execution_count": 4,
   "metadata": {
    "collapsed": false
   },
   "outputs": [
    {
     "name": "stdout",
     "output_type": "stream",
     "text": [
      "Test: None towers\n",
      "Test: 0 disks\n",
      "Test: 1 disk\n",
      "Test: 2 or more disks\n",
      "Success: test_hanoi\n"
     ]
    }
   ],
   "source": [
    "%run -i test_hanoi.py"
   ]
  }
 ],
 "metadata": {
  "kernelspec": {
   "display_name": "Python 2",
   "language": "python",
   "name": "python2"
  },
  "language_info": {
   "codemirror_mode": {
    "name": "ipython",
    "version": 2
   },
   "file_extension": ".py",
   "mimetype": "text/x-python",
   "name": "python",
   "nbconvert_exporter": "python",
   "pygments_lexer": "ipython2",
   "version": "2.7.10"
  }
 },
 "nbformat": 4,
 "nbformat_minor": 0
}
