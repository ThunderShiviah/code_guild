{
 "cells": [
  {
   "cell_type": "markdown",
   "metadata": {},
   "source": [
    "# Lecture 3\n",
    "\n",
    "## Warmup\n",
    "\n",
    "1. Write a function that simulates a dice roll every time the function is called."
   ]
  },
  {
   "cell_type": "code",
   "execution_count": 41,
   "metadata": {
    "collapsed": false
   },
   "outputs": [
    {
     "name": "stdout",
     "output_type": "stream",
     "text": [
      "5\n",
      "6\n",
      "1\n",
      "4\n",
      "2\n"
     ]
    }
   ],
   "source": [
    "import random\n",
    "\n",
    "def dice():\n",
    "    return random.randint(1,6)\n",
    "\n",
    "def roll_dice(n):\n",
    "    for i in range(n):\n",
    "        print(dice())\n",
    "        \n",
    "roll_dice(5)"
   ]
  },
  {
   "cell_type": "markdown",
   "metadata": {},
   "source": [
    "2. Rewrite your function to take in an int n and simulate n dice rolls.\n",
    "3. Write a function that takes in a list of red and blue balls and on each call, pulls a ball randomly out of the list and updates the list."
   ]
  },
  {
   "cell_type": "code",
   "execution_count": 125,
   "metadata": {
    "collapsed": false
   },
   "outputs": [],
   "source": [
    "balls = ['r', 'r', 'b', 'b', 'b']\n",
    "\n",
    "def ball_game(num_red, num_blue, select_k):\n",
    "    balls = ['r']*num_red + ['b']*num_blue\n",
    "    res = []\n",
    "    for k in range(select_k):\n",
    "        random.shuffle(balls)\n",
    "        res.append(balls.pop())\n",
    "        print('ratio of blue to red in sack', balls.count('b')/balls.count('r') )\n",
    "    \n",
    "    assert len(balls) + len(res) == num_red + num_blue\n",
    "    \n",
    "    return (\"balls = \", balls,\"result = \", res)\n",
    "\n",
    "#ball_game(1000,100, 1000)\n"
   ]
  },
  {
   "cell_type": "code",
   "execution_count": 62,
   "metadata": {
    "collapsed": false
   },
   "outputs": [
    {
     "data": {
      "text/plain": [
       "2"
      ]
     },
     "execution_count": 62,
     "metadata": {},
     "output_type": "execute_result"
    }
   ],
   "source": [
    "balls.count('r')"
   ]
  },
  {
   "cell_type": "markdown",
   "metadata": {},
   "source": [
    "4. Simulate n coin flips for n = 10, 100, 1000, 10000. Are the ratios of heads to tails what you would expect?  "
   ]
  },
  {
   "cell_type": "code",
   "execution_count": 95,
   "metadata": {
    "collapsed": false
   },
   "outputs": [],
   "source": [
    "def coin(n):\n",
    "    res = []\n",
    "    for i in range(n):\n",
    "        res.append(random.randint(0,1))\n",
    "    return res\n",
    "            \n",
    "        \n"
   ]
  },
  {
   "cell_type": "code",
   "execution_count": 82,
   "metadata": {
    "collapsed": false
   },
   "outputs": [
    {
     "name": "stdout",
     "output_type": "stream",
     "text": [
      "/home/thunder/anaconda3/lib/python3.5/site-packages/ipykernel/__main__.py\n",
      "string is -f\n",
      "compression is -f\n"
     ]
    }
   ],
   "source": [
    "# %load ../examples/compressor\n",
    "    \n",
    "def groupby_char(lst):\n",
    "    \"\"\"Returns a list of strings containing identical characters.\n",
    "    \n",
    "    Takes a list of characters produced by running split on a string. \n",
    "    Groups runs (in order sequences) of identical\n",
    "    characters into string elements in the list.\n",
    "    \n",
    "    Parameters\n",
    "    ---------\n",
    "    Input:\n",
    "    lst: list\n",
    "    A list of single character strings.\n",
    "    \n",
    "    Output:\n",
    "    grouped: list\n",
    "    A list of strings containing grouped characters.\"\"\"\n",
    "\n",
    "    new_lst = []\n",
    "\n",
    "    count = 1\n",
    "\n",
    "    for i in range(len(lst) - 1): # we range to the second to last index since we're checking if lst[i] == lst[i + 1]. \n",
    "        if lst[i] == lst[i + 1]:\n",
    "            count += 1        \n",
    "        else:\n",
    "            new_lst.append([lst[i],count]) # Create a lst of lists. Each list contains a character and the count of adjacent identical characters.\n",
    "            count = 1\n",
    "            \n",
    "    new_lst.append((lst[-1],count)) # Return the last character (we didn't reach it with our for loop since indexing until second to last).\n",
    "\n",
    "\n",
    "    grouped = [char*count for [char, count] in new_lst] \n",
    "\n",
    "    return grouped\n",
    "\n",
    "def compress_group(string):\n",
    "    \"\"\"Returns a compressed two character string containing a character and a number.\n",
    "    \n",
    "    Takes in a string of identical characters and returns the compressed string consisting of the character and the length of the original string.\n",
    "    \n",
    "    Example\n",
    "    -------\n",
    "    \"AAA\"-->\"A3\"\n",
    "\n",
    "    Parameters:\n",
    "    -----------\n",
    "    Input:\n",
    "    string: str\n",
    "    A string of identical characters.\n",
    "    \n",
    "    Output:\n",
    "    ------\n",
    "    compressed_str: str\n",
    "    A compressed string of length two containing a character and a number.\n",
    "    \"\"\"\n",
    "    \n",
    "\n",
    "    return str(string[0]) + str(len(string))\n",
    "\n",
    "\n",
    "def compress(string):\n",
    "    \"\"\"Returns a compressed representation of a string.\n",
    "    \n",
    "    Compresses the string by mapping each run of identical characters to a \n",
    "    single character and a count. \n",
    "    \n",
    "    Ex.\n",
    "    --\n",
    "    compress('AAABBCDDD')--> 'A3B2C1D3'.\n",
    "    \n",
    "    Only compresses string if the compression is shorter than the original string.\n",
    "\n",
    "    Ex.\n",
    "    --\n",
    "    compress('A')--> 'A' # not 'A1'.\n",
    "\n",
    "    Parameters\n",
    "    ----------\n",
    "\n",
    "    Input:\n",
    "    string: str\n",
    "    The string to compress\n",
    "\n",
    "    Output:\n",
    "    compressed: str\n",
    "    The compressed representation of the string.\n",
    "    \"\"\"\n",
    "\n",
    "    try:\n",
    "        split_str = [char for char in string] # Create list of single characters.\n",
    "        grouped = groupby_char(split_str) # Group characters if characters are identical.\n",
    "        compressed = ''.join( # Compress each element of the grouped list and join to a string.\n",
    "                [compress_group(elem) for elem in grouped])\n",
    "\n",
    "        if len(compressed) < len(string): # Only return compressed if compressed is actually shorter.\n",
    "            return compressed\n",
    "        else:\n",
    "            return string\n",
    "\n",
    "    except IndexError: # If our input string is empty, return an empty string.\n",
    "        return \"\"\n",
    "\n",
    "    except TypeError: # If we get something that's not compressible (including NoneType) return None.\n",
    "        return None\n",
    "\n",
    "\n",
    "if __name__ == \"__main__\":\n",
    "    import sys\n",
    "    print(sys.argv[0])\n",
    "    string = sys.argv[1]\n",
    "    print(\"string is\", string)\n",
    "    print(\"compression is\", compress(string))\n"
   ]
  },
  {
   "cell_type": "code",
   "execution_count": 103,
   "metadata": {
    "collapsed": false
   },
   "outputs": [
    {
     "data": {
      "text/plain": [
       "['0', '0', '0', '0', '1', '1', '1', '1', '1', '0', '0', '0', '0', '0']"
      ]
     },
     "execution_count": 103,
     "metadata": {},
     "output_type": "execute_result"
    }
   ],
   "source": [
    "lst = [0,0,0,0,1,1,1,1,1, 0, 0, 0, 0, 0]\n",
    "lst_str = [str(elem) for elem in lst]\n",
    "lst_str"
   ]
  },
  {
   "cell_type": "code",
   "execution_count": 104,
   "metadata": {
    "collapsed": false
   },
   "outputs": [
    {
     "data": {
      "text/plain": [
       "['0000', '11111', '00000']"
      ]
     },
     "execution_count": 104,
     "metadata": {},
     "output_type": "execute_result"
    }
   ],
   "source": [
    "grouped = groupby_char(lst_str)\n",
    "grouped"
   ]
  },
  {
   "cell_type": "code",
   "execution_count": 105,
   "metadata": {
    "collapsed": false
   },
   "outputs": [
    {
     "data": {
      "text/plain": [
       "[4, 5, 5]"
      ]
     },
     "execution_count": 105,
     "metadata": {},
     "output_type": "execute_result"
    }
   ],
   "source": [
    "\n",
    "lengths = [len(elem) for elem in grouped]\n",
    "lengths"
   ]
  },
  {
   "cell_type": "code",
   "execution_count": 106,
   "metadata": {
    "collapsed": false
   },
   "outputs": [
    {
     "data": {
      "text/plain": [
       "5"
      ]
     },
     "execution_count": 106,
     "metadata": {},
     "output_type": "execute_result"
    }
   ],
   "source": [
    "max(lengths)"
   ]
  },
  {
   "cell_type": "code",
   "execution_count": 107,
   "metadata": {
    "collapsed": false
   },
   "outputs": [
    {
     "name": "stdout",
     "output_type": "stream",
     "text": [
      "[1, 0, 0, 0, 0, 0, 1, 0, 1, 0]\n"
     ]
    },
    {
     "data": {
      "text/plain": [
       "5"
      ]
     },
     "execution_count": 107,
     "metadata": {},
     "output_type": "execute_result"
    }
   ],
   "source": [
    "def get_max_run(n):\n",
    "    \"\"\"Generates n coin flips and returns the max run over all the coin flips\"\"\"\n",
    "    lst = coin(n)\n",
    "    print(lst)\n",
    "    lst_str = [str(elem) for elem in lst]\n",
    "\n",
    "    grouped = groupby_char(lst_str)\n",
    "    lengths = [len(elem) for elem in grouped]\n",
    "    return max(lengths)\n",
    "\n",
    "get_max_run(10)"
   ]
  },
  {
   "cell_type": "markdown",
   "metadata": {},
   "source": [
    "5. Write a function that pulls the text from http://www.py4inf.com/code/romeo-full.txt and displays all the lines containing the word 'love'. Use the [requests](http://docs.python-requests.org/en/latest/user/quickstart/) library.\n",
    "\n",
    "6. Find a built in python library that you haven't heard of before. Learn how some of the functions work. Write a small script testing out the functions."
   ]
  },
  {
   "cell_type": "markdown",
   "metadata": {},
   "source": [
    "# Introducing classes\n",
    "\n",
    "## Python: everything is an object\n",
    "\n",
    "## So everything has a class???\n",
    "### Classes: a blueprint for creating objects\n"
   ]
  },
  {
   "cell_type": "code",
   "execution_count": 108,
   "metadata": {
    "collapsed": true
   },
   "outputs": [],
   "source": [
    "class Customer(object):\n",
    "    \"\"\"A customer of ABC Bank with a checking account. Customers have the\n",
    "    following properties:\n",
    "\n",
    "    Attributes:\n",
    "        name: A string representing the customer's name.\n",
    "        balance: A float tracking the current balance of the customer's account.\n",
    "    \"\"\"\n",
    "\n",
    "    def __init__(self, name, balance=0.0):\n",
    "        \"\"\"Return a Customer object whose name is *name* and starting\n",
    "        balance is *balance*.\"\"\"\n",
    "        self.name = name\n",
    "        self.balance = balance\n",
    "\n",
    "    def withdraw(self, amount):\n",
    "        \"\"\"Return the balance remaining after withdrawing *amount*\n",
    "        dollars.\"\"\"\n",
    "        if amount > self.balance:\n",
    "            raise RuntimeError('Amount greater than available balance.')\n",
    "        self.balance -= amount\n",
    "        return self.balance\n",
    "\n",
    "    def deposit(self, amount):\n",
    "        \"\"\"Return the balance remaining after depositing *amount*\n",
    "        dollars.\"\"\"\n",
    "        self.balance += amount\n",
    "        return self.balance\n",
    "    \n"
   ]
  },
  {
   "cell_type": "code",
   "execution_count": 124,
   "metadata": {
    "collapsed": false
   },
   "outputs": [
    {
     "name": "stdout",
     "output_type": "stream",
     "text": [
      "Help on Customer in module __main__ object:\n",
      "\n",
      "class Customer(builtins.object)\n",
      " |  A customer of ABC Bank with a checking account. Customers have the\n",
      " |  following properties:\n",
      " |  \n",
      " |  Attributes:\n",
      " |      name: A string representing the customer's name.\n",
      " |      balance: A float tracking the current balance of the customer's account.\n",
      " |  \n",
      " |  Methods defined here:\n",
      " |  \n",
      " |  __init__(self, name, balance=0.0)\n",
      " |      Return a Customer object whose name is *name* and starting\n",
      " |      balance is *balance*.\n",
      " |  \n",
      " |  deposit(self, amount)\n",
      " |      Return the balance remaining after depositing *amount*\n",
      " |      dollars.\n",
      " |  \n",
      " |  withdraw(self, amount)\n",
      " |      Return the balance remaining after withdrawing *amount*\n",
      " |      dollars.\n",
      " |  \n",
      " |  ----------------------------------------------------------------------\n",
      " |  Data descriptors defined here:\n",
      " |  \n",
      " |  __dict__\n",
      " |      dictionary for instance variables (if defined)\n",
      " |  \n",
      " |  __weakref__\n",
      " |      list of weak references to the object (if defined)\n",
      "\n"
     ]
    }
   ],
   "source": [
    "help(jeff)"
   ]
  },
  {
   "cell_type": "markdown",
   "metadata": {},
   "source": [
    "## Be careful what you ```__init__```"
   ]
  },
  {
   "cell_type": "markdown",
   "metadata": {},
   "source": [
    "After __init__ has finished, the caller can rightly assume that the object is ready to use. That is, after jeff = Customer('Jeff Knupp', 1000.0), we can start making deposit and withdraw calls on jeff; jeff is **a fully-initialized object**."
   ]
  },
  {
   "cell_type": "code",
   "execution_count": null,
   "metadata": {
    "collapsed": true
   },
   "outputs": [],
   "source": [
    "class Customer(object):\n",
    "    \"\"\"A customer of ABC Bank with a checking account. Customers have the\n",
    "    following properties:\n",
    "\n",
    "    Attributes:\n",
    "        name: A string representing the customer's name.\n",
    "        balance: A float tracking the current balance of the customer's account.\n",
    "    \"\"\"\n",
    "\n",
    "    def __init__(self, name):\n",
    "        \"\"\"Return a Customer object whose name is *name*.\"\"\" \n",
    "        self.name = name\n",
    "\n",
    "    def set_balance(self, balance=0.0):\n",
    "        \"\"\"Set the customer's starting balance.\"\"\"\n",
    "        self.balance = balance\n",
    "\n",
    "    def withdraw(self, amount):\n",
    "        \"\"\"Return the balance remaining after withdrawing *amount*\n",
    "        dollars.\"\"\"\n",
    "        if amount > self.balance:\n",
    "            raise RuntimeError('Amount greater than available balance.')\n",
    "        self.balance -= amount\n",
    "        return self.balance\n",
    "\n",
    "    def deposit(self, amount):\n",
    "        \"\"\"Return the balance remaining after depositing *amount*\n",
    "        dollars.\"\"\"\n",
    "        self.balance += amount\n",
    "        return self.balance"
   ]
  },
  {
   "cell_type": "markdown",
   "metadata": {},
   "source": [
    "## A change in perspective\n",
    "\n",
    "## Objects can have state\n",
    "\n"
   ]
  },
  {
   "cell_type": "markdown",
   "metadata": {},
   "source": [
    "# Exercise\n",
    "\n",
    "With your partner: \n",
    "\n",
    "Create a new class, SMS_store. The class will instantiate SMS_store objects, similar to an inbox or outbox on a cellphone:\n",
    "```\n",
    "my_inbox = SMS_store()\n",
    "```\n",
    "This store can hold multiple SMS messages (i.e. its internal state will just be a list of messages). Each message will be represented as a tuple:\n",
    "```\n",
    "(has_been_viewed, from_number, time_arrived, text_of_SMS)\n",
    "```\n",
    "The inbox object should provide these methods:"
   ]
  },
  {
   "cell_type": "markdown",
   "metadata": {},
   "source": [
    "```\n",
    "my_inbox.add_new_arrival(from_number, time_arrived, text_of_SMS)\n",
    "    # Makes new SMS tuple, inserts it after other messages\n",
    "    # in the store. When creating this message, its\n",
    "    # has_been_viewed status is set False.\n",
    "\n",
    "my_inbox.message_count()\n",
    "    # Returns the number of sms messages in my_inbox\n",
    "\n",
    "my_inbox.get_unread_indexes()\n",
    "    # Returns list of indexes of all not-yet-viewed SMS messages\n",
    "\n",
    "my_inbox.get_message(i)\n",
    "    # Return (from_number, time_arrived, text_of_sms) for message[i]\n",
    "    # Also change its state to \"has been viewed\".\n",
    "    # If there is no message at position i, return None\n",
    "\n",
    "my_inbox.delete(i)     # Delete the message at index i\n",
    "my_inbox.clear()       # Delete all messages from inbox\n",
    "```"
   ]
  },
  {
   "cell_type": "markdown",
   "metadata": {},
   "source": [
    "Write the class, create a message store object, write tests for these methods, and implement the methods."
   ]
  },
  {
   "cell_type": "code",
   "execution_count": 288,
   "metadata": {
    "collapsed": false
   },
   "outputs": [
    {
     "data": {
      "text/plain": [
       "'\\n    my_inbox.get_message(i)\\n        # Return (from_number, time_arrived, text_of_sms) for message[i]\\n        # Also change its state to \"has been viewed\".\\n        # If there is no message at position i, return None\\n        \\n\\n    my_inbox.delete(i)     # Delete the message at index i\\n    my_inbox.clear()       # Delete all messages from inbox\\n\\n'"
      ]
     },
     "execution_count": 288,
     "metadata": {},
     "output_type": "execute_result"
    }
   ],
   "source": [
    "class SMS_store(object):\n",
    "    \n",
    "    def __init__(self):\n",
    "        self.inbox = []\n",
    "    \n",
    "    def add_new_arrival(self, from_number, time_arrived, text_of_SMS, has_been_viewed=False):\n",
    "        # Makes new SMS tuple, inserts it after other messages\n",
    "        # in the store. When creating this message, its\n",
    "        # has_been_viewed status is set False.\n",
    "        \n",
    "        msg = (has_been_viewed, from_number, time_arrived, text_of_SMS)\n",
    "        self.inbox.append(msg)\n",
    "      \n",
    "\n",
    "    def message_count(self):\n",
    "        # Returns the number of sms messages in my_inbox\n",
    "        return len(self.inbox)\n",
    "  \n",
    "    def get_unread_indexes(self):\n",
    "        # Returns list of indexes of all not-yet-viewed SMS messages\n",
    "        return [i for i, elem in enumerate(self.inbox) if not elem[0]]\n",
    "\"\"\"\n",
    "    my_inbox.get_message(i)\n",
    "        # Return (from_number, time_arrived, text_of_sms) for message[i]\n",
    "        # Also change its state to \"has been viewed\".\n",
    "        # If there is no message at position i, return None\n",
    "        \n",
    "\n",
    "    my_inbox.delete(i)     # Delete the message at index i\n",
    "    my_inbox.clear()       # Delete all messages from inbox\n",
    "\n",
    "\"\"\""
   ]
  },
  {
   "cell_type": "code",
   "execution_count": 289,
   "metadata": {
    "collapsed": true
   },
   "outputs": [],
   "source": [
    "my_inbox = SMS_store()"
   ]
  },
  {
   "cell_type": "code",
   "execution_count": 299,
   "metadata": {
    "collapsed": false
   },
   "outputs": [
    {
     "data": {
      "text/plain": [
       "[(False, 'adasf', 'asdf', 'asdf'),\n",
       " (False, 'adasf', 'asdf', 'asdf'),\n",
       " (False, 'adasf', 'asdf', 'asdf'),\n",
       " (True, 'adasf', 'asdf', 'asdf'),\n",
       " (True, 'adasf', 'asdf', 'asdf'),\n",
       " (False, 'adasf', 'asdf', 'asdf')]"
      ]
     },
     "execution_count": 299,
     "metadata": {},
     "output_type": "execute_result"
    }
   ],
   "source": [
    "my_inbox.add_new_arrival('adasf', 'asdf', 'asdf')\n",
    "my_inbox.inbox"
   ]
  },
  {
   "cell_type": "code",
   "execution_count": 300,
   "metadata": {
    "collapsed": false
   },
   "outputs": [
    {
     "data": {
      "text/plain": [
       "[0, 1, 2, 5]"
      ]
     },
     "execution_count": 300,
     "metadata": {},
     "output_type": "execute_result"
    }
   ],
   "source": [
    "my_inbox.get_unread_indexes()"
   ]
  },
  {
   "cell_type": "code",
   "execution_count": 226,
   "metadata": {
    "collapsed": false
   },
   "outputs": [],
   "source": [
    "class WhatDoesThe(object):\n",
    "    \n",
    "    def cow_say():\n",
    "        return \"MOOO\"\n",
    "    \n",
    "    def elephant_say():\n",
    "        return \"PFHARGLE\"\n",
    "    \n",
    "    def seal_say():\n",
    "        return \"AUGHAUGHAUGH\"\n",
    "    \n",
    "    def fox_say():\n",
    "        return \"tingalingalingalinga\"\n",
    "    \n",
    "    @staticmethod\n",
    "    def FoxSay(self):\n",
    "        print(cow_say())\n",
    "        print(elephant_say())\n",
    "        print(seal_say())\n",
    "        print(fox_say())\n"
   ]
  },
  {
   "cell_type": "code",
   "execution_count": 227,
   "metadata": {
    "collapsed": false
   },
   "outputs": [
    {
     "ename": "TypeError",
     "evalue": "FoxSay() missing 1 required positional argument: 'self'",
     "output_type": "error",
     "traceback": [
      "\u001b[1;31m---------------------------------------------------------------------------\u001b[0m",
      "\u001b[1;31mTypeError\u001b[0m                                 Traceback (most recent call last)",
      "\u001b[1;32m<ipython-input-227-c0a1bc42483c>\u001b[0m in \u001b[0;36m<module>\u001b[1;34m()\u001b[0m\n\u001b[1;32m----> 1\u001b[1;33m \u001b[0mWhatDoesThe\u001b[0m\u001b[1;33m.\u001b[0m\u001b[0mFoxSay\u001b[0m\u001b[1;33m(\u001b[0m\u001b[1;33m)\u001b[0m\u001b[1;33m\u001b[0m\u001b[0m\n\u001b[0m",
      "\u001b[1;31mTypeError\u001b[0m: FoxSay() missing 1 required positional argument: 'self'"
     ]
    }
   ],
   "source": [
    "WhatDoesThe.FoxSay()"
   ]
  },
  {
   "cell_type": "code",
   "execution_count": 224,
   "metadata": {
    "collapsed": false
   },
   "outputs": [
    {
     "ename": "TypeError",
     "evalue": "FoxSay() takes 0 positional arguments but 1 was given",
     "output_type": "error",
     "traceback": [
      "\u001b[1;31m---------------------------------------------------------------------------\u001b[0m",
      "\u001b[1;31mTypeError\u001b[0m                                 Traceback (most recent call last)",
      "\u001b[1;32m<ipython-input-224-b1b4ddb9b2d6>\u001b[0m in \u001b[0;36m<module>\u001b[1;34m()\u001b[0m\n\u001b[1;32m----> 1\u001b[1;33m \u001b[0mwhat_does_the\u001b[0m\u001b[1;33m.\u001b[0m\u001b[0mFoxSay\u001b[0m\u001b[1;33m(\u001b[0m\u001b[1;33m)\u001b[0m\u001b[1;33m\u001b[0m\u001b[0m\n\u001b[0m",
      "\u001b[1;31mTypeError\u001b[0m: FoxSay() takes 0 positional arguments but 1 was given"
     ]
    }
   ],
   "source": [
    "what_does_the.FoxSay()"
   ]
  },
  {
   "cell_type": "markdown",
   "metadata": {},
   "source": [
    "\n",
    "\n",
    "## Class attributes\n",
    "\n",
    "Class attributes are attributes that are set at the class-level, as opposed to the instance-level. Normal attributes are introduced in the __init__ method, but some attributes of a class hold for all instances in all cases. For example, consider the following definition of a Car object:"
   ]
  },
  {
   "cell_type": "code",
   "execution_count": 12,
   "metadata": {
    "collapsed": true
   },
   "outputs": [],
   "source": [
    "class Car(object):\n",
    "\n",
    "    wheels = 4\n",
    "\n",
    "    def __init__(self, make, model):\n",
    "        self.make = make\n",
    "        self.model = model\n",
    "\n"
   ]
  },
  {
   "cell_type": "code",
   "execution_count": 14,
   "metadata": {
    "collapsed": false
   },
   "outputs": [
    {
     "name": "stdout",
     "output_type": "stream",
     "text": [
      "4\n"
     ]
    }
   ],
   "source": [
    "mustang = Car('Ford', 'Mustang')\n",
    "print(mustang.wheels)"
   ]
  },
  {
   "cell_type": "code",
   "execution_count": 15,
   "metadata": {
    "collapsed": false
   },
   "outputs": [
    {
     "name": "stdout",
     "output_type": "stream",
     "text": [
      "4\n"
     ]
    }
   ],
   "source": [
    "print(Car.wheels)\n"
   ]
  },
  {
   "cell_type": "markdown",
   "metadata": {},
   "source": [
    "# Static methods"
   ]
  },
  {
   "cell_type": "code",
   "execution_count": 18,
   "metadata": {
    "collapsed": false
   },
   "outputs": [],
   "source": [
    "class Car(object):\n",
    "\n",
    "    wheels = 4\n",
    "    \n",
    "    def make_car_sound():\n",
    "        print('VRooooommmm!')\n",
    "\n",
    "    def __init__(self, make, model):\n",
    "        self.make = make\n",
    "        self.model = model\n"
   ]
  },
  {
   "cell_type": "code",
   "execution_count": 25,
   "metadata": {
    "collapsed": false
   },
   "outputs": [
    {
     "name": "stdout",
     "output_type": "stream",
     "text": [
      "VRooooommmm!\n"
     ]
    },
    {
     "ename": "TypeError",
     "evalue": "make_car_sound() takes 0 positional arguments but 1 was given",
     "output_type": "error",
     "traceback": [
      "\u001b[1;31m---------------------------------------------------------------------------\u001b[0m",
      "\u001b[1;31mTypeError\u001b[0m                                 Traceback (most recent call last)",
      "\u001b[1;32m<ipython-input-25-8663117d7689>\u001b[0m in \u001b[0;36m<module>\u001b[1;34m()\u001b[0m\n\u001b[0;32m      1\u001b[0m \u001b[0mmy_car\u001b[0m \u001b[1;33m=\u001b[0m \u001b[0mCar\u001b[0m\u001b[1;33m(\u001b[0m\u001b[1;34m'ford'\u001b[0m\u001b[1;33m,\u001b[0m \u001b[1;34m'mustang'\u001b[0m\u001b[1;33m)\u001b[0m\u001b[1;33m\u001b[0m\u001b[0m\n\u001b[0;32m      2\u001b[0m \u001b[0mCar\u001b[0m\u001b[1;33m.\u001b[0m\u001b[0mmake_car_sound\u001b[0m\u001b[1;33m(\u001b[0m\u001b[1;33m)\u001b[0m\u001b[1;33m\u001b[0m\u001b[0m\n\u001b[1;32m----> 3\u001b[1;33m \u001b[0mmy_car\u001b[0m\u001b[1;33m.\u001b[0m\u001b[0mmake_car_sound\u001b[0m\u001b[1;33m(\u001b[0m\u001b[1;33m)\u001b[0m\u001b[1;33m\u001b[0m\u001b[0m\n\u001b[0m",
      "\u001b[1;31mTypeError\u001b[0m: make_car_sound() takes 0 positional arguments but 1 was given"
     ]
    }
   ],
   "source": [
    "my_car = Car('ford', 'mustang')\n",
    "\n",
    "# my_car.make_car_sound() # This will break\n",
    "Car.make_car_sound()\n"
   ]
  },
  {
   "cell_type": "code",
   "execution_count": 26,
   "metadata": {
    "collapsed": true
   },
   "outputs": [],
   "source": [
    "class Car(object):\n",
    "\n",
    "    wheels = 4\n",
    "    \n",
    "    @staticmethod\n",
    "    def make_car_sound():\n",
    "        print('VRooooommmm!')\n",
    "\n",
    "    def __init__(self, make, model):\n",
    "        self.make = make\n",
    "        self.model = model"
   ]
  },
  {
   "cell_type": "code",
   "execution_count": 27,
   "metadata": {
    "collapsed": true
   },
   "outputs": [],
   "source": [
    "my_car = Car('ford', 'mustang')"
   ]
  },
  {
   "cell_type": "code",
   "execution_count": 28,
   "metadata": {
    "collapsed": false
   },
   "outputs": [
    {
     "name": "stdout",
     "output_type": "stream",
     "text": [
      "VRooooommmm!\n"
     ]
    }
   ],
   "source": [
    "my_car.make_car_sound()"
   ]
  },
  {
   "cell_type": "markdown",
   "metadata": {},
   "source": []
  }
 ],
 "metadata": {
  "kernelspec": {
   "display_name": "Python 3",
   "language": "python",
   "name": "python3"
  },
  "language_info": {
   "codemirror_mode": {
    "name": "ipython",
    "version": 3
   },
   "file_extension": ".py",
   "mimetype": "text/x-python",
   "name": "python",
   "nbconvert_exporter": "python",
   "pygments_lexer": "ipython3",
   "version": "3.5.0"
  }
 },
 "nbformat": 4,
 "nbformat_minor": 0
}
