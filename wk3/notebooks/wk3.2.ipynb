{
 "cells": [
  {
   "cell_type": "markdown",
   "metadata": {},
   "source": [
    "# Lecture 3\n",
    "\n",
    "## Warmup\n",
    "\n",
    "1. Write a function that simulates a dice roll every time the function is called.\n",
    "2. Rewrite your function to take in an int n and simulate n dice rolls.\n",
    "3. Write a function that takes in a list of red and blue balls and on each call, pulls a ball randomly out of the list and updates the list.\n",
    "4. Simulate n coin flips for n = 10, 100, 1000, 10000. Are the ratios of heads to tails what you would expect?  \n",
    "5. Write a function that pulls the text from http://www.py4inf.com/code/romeo-full.txt and displays all the lines containing the word 'love'.\n",
    "6. Find a built in python library that you haven't heard of before. Learn how some of the functions work. Write a small script testing out the functions.\n",
    "\n",
    "\n",
    "\n",
    "\n"
   ]
  },
  {
   "cell_type": "code",
   "execution_count": null,
   "metadata": {
    "collapsed": true
   },
   "outputs": [],
   "source": []
  }
 ],
 "metadata": {
  "kernelspec": {
   "display_name": "Python 3",
   "language": "python",
   "name": "python3"
  },
  "language_info": {
   "codemirror_mode": {
    "name": "ipython",
    "version": 3
   },
   "file_extension": ".py",
   "mimetype": "text/x-python",
   "name": "python",
   "nbconvert_exporter": "python",
   "pygments_lexer": "ipython3",
   "version": "3.5.0"
  }
 },
 "nbformat": 4,
 "nbformat_minor": 0
}
