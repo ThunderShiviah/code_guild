{
 "cells": [
  {
   "cell_type": "markdown",
   "metadata": {},
   "source": [
    "# Lecture 3\n",
    "# I/O and exceptions\n",
    "## About Files\n",
    "* RAM and volatility.\n",
    "* Files and non-volatility\n",
    "## Writing a file\n",
    "* file handle\n",
    "* mode"
   ]
  },
  {
   "cell_type": "code",
   "execution_count": null,
   "metadata": {
    "collapsed": false
   },
   "outputs": [],
   "source": [
    "\n",
    "myfile = open(\"test.txt\", \"w\")\n",
    "myfile.write(\"My first file written from Python\\n\")\n",
    "myfile.write(\"---------------------------------\\n\")\n",
    "myfile.write(\"Hello, world!\\n\")\n",
    "myfile.write(\"Did it work?\\n\")\n",
    "myfile.close()\n"
   ]
  },
  {
   "cell_type": "markdown",
   "metadata": {},
   "source": [
    "Reading a whole file at once"
   ]
  },
  {
   "cell_type": "code",
   "execution_count": null,
   "metadata": {
    "collapsed": false
   },
   "outputs": [],
   "source": [
    "\n",
    "f = open(\"test.txt\")\n",
    "content = f.read()\n",
    "f.close()\n",
    "\n",
    "words = content.split()\n",
    "print(\"There are {0} words in the file.\".format(len(words)))\n",
    "words"
   ]
  },
  {
   "cell_type": "markdown",
   "metadata": {},
   "source": [
    "A better way to read files:\n",
    "```\n",
    "with open(\"somefile.txt\" , 'r') as f:\n",
    "    do stuff here...\n",
    "```"
   ]
  },
  {
   "cell_type": "code",
   "execution_count": 5,
   "metadata": {
    "collapsed": false
   },
   "outputs": [
    {
     "name": "stdout",
     "output_type": "stream",
     "text": [
      "b'<!doctype html>\\n<!--[if lt IE 7]>   <html class=\"no-js ie6 lt-ie7 lt-ie8 lt-ie9\">   <![endif]-->\\n<!--[if IE 7]>      <html class=\"no-js ie7 lt-ie8 lt-ie9\">          <![endif]-->\\n<!--[if IE 8]>      <html class=\"no-js ie8 lt-ie9\">                 <![endif]-->\\n<!--[if gt IE 8]><!--><html class=\"no-js\" lang=\"en\" dir=\"ltr\">  <!--<![endif]-->\\n\\n<head>\\n    <meta charset=\"utf-8\">\\n    <meta http-equiv=\"X-UA-Compatible\" content=\"IE=edge\">\\n\\n    <link rel=\"prefetch\" href=\"//ajax.googleapis.com/ajax/libs/jquery/1.8.2/jquery.min.js\">\\n\\n    <meta name=\"application-name\" content=\"Python.org\">\\n    <meta name=\"msapplication-tooltip\" content=\"The official home of the Python Programming Language\">\\n    <meta name=\"apple-mobile-web-app-title\" content=\"Python.org\">\\n    <meta name=\"apple-mobile-web-app-capable\" content=\"yes\">\\n    <meta name=\"apple-mobile-web-app-status-bar-style\" content=\"black\">\\n\\n    <meta name=\"viewport\" content=\"width=device-width, initial-scale=1.0\">\\n    <meta name=\"HandheldFriendly\" conte'\n"
     ]
    },
    {
     "ename": "AttributeError",
     "evalue": "'NoneType' object has no attribute 'decode'",
     "output_type": "error",
     "traceback": [
      "\u001b[1;31m---------------------------------------------------------------------------\u001b[0m",
      "\u001b[1;31mAttributeError\u001b[0m                            Traceback (most recent call last)",
      "\u001b[1;32m<ipython-input-5-5b1559d3c854>\u001b[0m in \u001b[0;36m<module>\u001b[1;34m()\u001b[0m\n\u001b[0;32m      1\u001b[0m \u001b[1;32mimport\u001b[0m \u001b[0murllib\u001b[0m\u001b[1;33m.\u001b[0m\u001b[0mrequest\u001b[0m\u001b[1;33m\u001b[0m\u001b[0m\n\u001b[0;32m      2\u001b[0m \u001b[1;32mwith\u001b[0m \u001b[0murllib\u001b[0m\u001b[1;33m.\u001b[0m\u001b[0mrequest\u001b[0m\u001b[1;33m.\u001b[0m\u001b[0murlopen\u001b[0m\u001b[1;33m(\u001b[0m\u001b[1;34m'http://www.python.org/'\u001b[0m\u001b[1;33m)\u001b[0m \u001b[1;32mas\u001b[0m \u001b[0mf\u001b[0m\u001b[1;33m:\u001b[0m\u001b[1;33m\u001b[0m\u001b[0m\n\u001b[1;32m----> 3\u001b[1;33m     \u001b[0mprint\u001b[0m\u001b[1;33m(\u001b[0m\u001b[0mf\u001b[0m\u001b[1;33m.\u001b[0m\u001b[0mread\u001b[0m\u001b[1;33m(\u001b[0m\u001b[1;36m1000\u001b[0m\u001b[1;33m)\u001b[0m\u001b[1;33m)\u001b[0m\u001b[1;33m.\u001b[0m\u001b[0mdecode\u001b[0m\u001b[1;33m(\u001b[0m\u001b[1;33m)\u001b[0m\u001b[1;33m\u001b[0m\u001b[0m\n\u001b[0m",
      "\u001b[1;31mAttributeError\u001b[0m: 'NoneType' object has no attribute 'decode'"
     ]
    }
   ],
   "source": [
    "import urllib.request\n",
    "with urllib.request.urlopen('http://www.python.org/') as f:\n",
    "    print(f.read(1000))"
   ]
  },
  {
   "cell_type": "markdown",
   "metadata": {},
   "source": [
    "## Fetching from the web"
   ]
  },
  {
   "cell_type": "markdown",
   "metadata": {},
   "source": [
    "```\n",
    "import urllib.request\n",
    "\n",
    "url = \"https://api.github.com/\"\n",
    "destination_filename = \"rfc793.txt\"\n",
    "\n",
    "urllib.request.urlretrieve(url, destination_filename)\n",
    "```\n",
    "\n",
    " We’ll need to get a few things right before this works:\n",
    "* The resource we’re trying to fetch must exist! Check this using a browser.\n",
    "* We’ll need permission to write to the destination filename, and the file will be created in the “current directory” - i.e. the same folder that the Python program is saved in.\n",
    "* If we are behind a proxy server that requires authentication, (as some students are), this may require some more special handling to work around our proxy. Use a local resource for the purpose of this demonstration!"
   ]
  },
  {
   "cell_type": "code",
   "execution_count": 13,
   "metadata": {
    "collapsed": false
   },
   "outputs": [],
   "source": [
    "import urllib.request\n",
    "\n",
    "def retrieve_page(url):\n",
    "    \"\"\" Retrieve the contents of a web page.\n",
    "        The contents is converted to a string before returning it.\n",
    "    \"\"\"\n",
    "    with urllib.request.urlopen(url) as my_socket:\n",
    "        dta = str(my_socket.read())\n",
    "        return dta\n",
    "\n",
    "f = open(\"git.txt\", \"w\")\n",
    "\n",
    "the_text = retrieve_page(\"https://reddit.com\")\n",
    "# print(the_text)"
   ]
  },
  {
   "cell_type": "markdown",
   "metadata": {},
   "source": [
    "# Exercises\n",
    "\n",
    "1. Write a program that reads a file and writes out a new file with the lines in reversed order (i.e. the first line in the old file becomes the last one in the new file.)\n",
    "\n",
    "2. Write a program that reads a file and prints only those lines that contain the substring snake.\n",
    "\n",
    "3. Write a program that reads a text file and produces an output file which is a copy of the file, except the first five columns of each line contain a four digit line number, followed by a space. Start numbering the first line in the output file at 1. Ensure that every line number is formatted to the same width in the output file. Use one of your Python programs as test data for this exercise: your output should be a printed and numbered listing of the Python program.\n",
    "\n",
    "4. Write a program that undoes the numbering of the previous exercise: it should read a file with numbered lines and produce another file without line numbers.\n",
    "\n",
    "Extra: Read through the [requests tutorial](http://docs.python-requests.org/en/latest/user/quickstart/). Requests is a much better tool for working with HTTP requests than the built in urllib.requests IMHO ([it's even recommended in the urllib.requests library!](https://docs.python.org/3/library/urllib.request.html)).\n",
    "\n"
   ]
  },
  {
   "cell_type": "markdown",
   "metadata": {},
   "source": [
    "# Pair project: Boggler\n",
    "\n",
    "# Choosing pairs"
   ]
  },
  {
   "cell_type": "code",
   "execution_count": 33,
   "metadata": {
    "collapsed": false
   },
   "outputs": [
    {
     "data": {
      "text/plain": [
       "[('kevin', 'ransom'),\n",
       " ('patrick', 'dana'),\n",
       " ('connor', 'cole'),\n",
       " ('mercy', 'jaydn'),\n",
       " ('skip', 'nick'),\n",
       " ('nick', 'skip'),\n",
       " ('jaydn', 'mercy'),\n",
       " ('cole', 'connor'),\n",
       " ('dana', 'patrick'),\n",
       " ('ransom', 'kevin')]"
      ]
     },
     "execution_count": 33,
     "metadata": {},
     "output_type": "execute_result"
    }
   ],
   "source": [
    "code_class = ['dana', 'cole', 'kevin', 'connor', 'jaydn', 'patrick', \n",
    "        'ransom', 'skip', 'mercy', 'nick']\n",
    "\n",
    "rand_class = code_class.copy()\n",
    "random.shuffle(rand_class)\n",
    "\n",
    "list(zip(rand_class, rand_class[::-1]))"
   ]
  },
  {
   "cell_type": "code",
   "execution_count": null,
   "metadata": {
    "collapsed": true
   },
   "outputs": [],
   "source": []
  }
 ],
 "metadata": {
  "kernelspec": {
   "display_name": "Python 3",
   "language": "python",
   "name": "python3"
  },
  "language_info": {
   "codemirror_mode": {
    "name": "ipython",
    "version": 3
   },
   "file_extension": ".py",
   "mimetype": "text/x-python",
   "name": "python",
   "nbconvert_exporter": "python",
   "pygments_lexer": "ipython3",
   "version": "3.5.0"
  }
 },
 "nbformat": 4,
 "nbformat_minor": 0
}
