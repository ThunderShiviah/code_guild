{
 "cells": [
  {
   "cell_type": "markdown",
   "metadata": {},
   "source": [
    "# OOP\n",
    "\n",
    "# Lecture 3\n",
    "# I/O and exceptions\n",
    "## About Files\n",
    "* RAM and volatility.\n",
    "* Files and non-volatility\n",
    "## Writing a file\n",
    "* file handle\n",
    "* mode\n",
    "\n",
    "## Catching exceptions\n",
    "  ### Exception handling\n",
    "  ### Raising our own exceptions\n",
    "  ### finally\n",
    "  \n",
    "## Fetching from the web\n",
    "\n",
    "# Lecture 4\n",
    "# List Algorithms\n",
    "## TDD \n",
    "## Linear search algorithm\n",
    "### scalability\n",
    "## Binary search algorithm\n",
    "### Removing adjacent duplicates from a list\n",
    "## Merging sorted\n",
    "## Alice in wonderland\n",
    "## 8 Queens\n",
    "\n",
    "# Lecture 5 \n",
    "\n",
    "# Recursion\n",
    "## Drawing Fractals\n",
    "## Recursive data structures\n",
    "## Processing recursive number lists\n",
    "## Case study: Fibonacci numbers\n",
    "## Examples with recursive directories and files\n",
    "\n",
    "# Lecture 6\n",
    "## OOP\n"
   ]
  }
 ],
 "metadata": {
  "kernelspec": {
   "display_name": "Python 3",
   "language": "python",
   "name": "python3"
  },
  "language_info": {
   "codemirror_mode": {
    "name": "ipython",
    "version": 3
   },
   "file_extension": ".py",
   "mimetype": "text/x-python",
   "name": "python",
   "nbconvert_exporter": "python",
   "pygments_lexer": "ipython3",
   "version": "3.5.0"
  }
 },
 "nbformat": 4,
 "nbformat_minor": 0
}
