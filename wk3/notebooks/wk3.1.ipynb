{
 "cells": [
  {
   "cell_type": "markdown",
   "metadata": {},
   "source": [
    "# Lecture 3\n",
    "# I/O and exceptions\n",
    "## About Files\n",
    "* RAM and volatility.\n",
    "* Files and non-volatility\n",
    "## Writing a file\n",
    "* file handle\n",
    "* mode"
   ]
  },
  {
   "cell_type": "code",
   "execution_count": null,
   "metadata": {
    "collapsed": true
   },
   "outputs": [],
   "source": [
    "\n",
    "myfile = open(\"test.txt\", \"w\")\n",
    "myfile.write(\"My first file written from Python\\n\")\n",
    "myfile.write(\"---------------------------------\\n\")\n",
    "myfile.write(\"Hello, world!\\n\")\n",
    "myfile.close()\n"
   ]
  },
  {
   "cell_type": "markdown",
   "metadata": {},
   "source": [
    "Reading a whole file at once"
   ]
  },
  {
   "cell_type": "code",
   "execution_count": 7,
   "metadata": {
    "collapsed": false
   },
   "outputs": [
    {
     "ename": "FileNotFoundError",
     "evalue": "[Errno 2] No such file or directory: 'test.txt'",
     "output_type": "error",
     "traceback": [
      "\u001b[1;31m---------------------------------------------------------------------------\u001b[0m",
      "\u001b[1;31mFileNotFoundError\u001b[0m                         Traceback (most recent call last)",
      "\u001b[1;32m<ipython-input-7-4125708ccc89>\u001b[0m in \u001b[0;36m<module>\u001b[1;34m()\u001b[0m\n\u001b[0;32m      1\u001b[0m \u001b[1;33m\u001b[0m\u001b[0m\n\u001b[1;32m----> 2\u001b[1;33m \u001b[0mf\u001b[0m \u001b[1;33m=\u001b[0m \u001b[0mopen\u001b[0m\u001b[1;33m(\u001b[0m\u001b[1;34m\"test.txt\"\u001b[0m\u001b[1;33m)\u001b[0m\u001b[1;33m\u001b[0m\u001b[0m\n\u001b[0m\u001b[0;32m      3\u001b[0m \u001b[0mcontent\u001b[0m \u001b[1;33m=\u001b[0m \u001b[0mf\u001b[0m\u001b[1;33m.\u001b[0m\u001b[0mread\u001b[0m\u001b[1;33m(\u001b[0m\u001b[1;33m)\u001b[0m\u001b[1;33m\u001b[0m\u001b[0m\n\u001b[0;32m      4\u001b[0m \u001b[0mf\u001b[0m\u001b[1;33m.\u001b[0m\u001b[0mclose\u001b[0m\u001b[1;33m(\u001b[0m\u001b[1;33m)\u001b[0m\u001b[1;33m\u001b[0m\u001b[0m\n\u001b[0;32m      5\u001b[0m \u001b[1;33m\u001b[0m\u001b[0m\n",
      "\u001b[1;31mFileNotFoundError\u001b[0m: [Errno 2] No such file or directory: 'test.txt'"
     ]
    }
   ],
   "source": [
    "\n",
    "f = open(\"test.txt\")\n",
    "content = f.read()\n",
    "f.close()\n",
    "\n",
    "words = content.split()\n",
    "print(\"There are {0} words in the file.\".format(len(words)))\n"
   ]
  },
  {
   "cell_type": "markdown",
   "metadata": {},
   "source": [
    "A better way to read files:\n",
    "```\n",
    "with open(\"somefile.txt\" , 'r') as f:\n",
    "    do stuff here...\n",
    "```"
   ]
  },
  {
   "cell_type": "code",
   "execution_count": 6,
   "metadata": {
    "collapsed": false
   },
   "outputs": [
    {
     "name": "stdout",
     "output_type": "stream",
     "text": [
      "<!doctype html>\n",
      "<!--[if lt IE 7]>   <html class=\"no-js ie6 lt-ie7 lt-ie8 lt-ie9\">   <![endif]-->\n",
      "<!-\n"
     ]
    }
   ],
   "source": [
    "with urllib.request.urlopen('http://www.python.org/') as f:\n",
    "    print(f.read(100).decode('utf-8'))"
   ]
  },
  {
   "cell_type": "markdown",
   "metadata": {},
   "source": [
    "## Fetching from the web"
   ]
  },
  {
   "cell_type": "markdown",
   "metadata": {},
   "source": [
    "```\n",
    "import urllib.request\n",
    "\n",
    "url = \"https://api.github.com/\"\n",
    "destination_filename = \"rfc793.txt\"\n",
    "\n",
    "urllib.request.urlretrieve(url, destination_filename)\n",
    "```\n",
    " We’ll need to get a few things right before this works:\n",
    "* The resource we’re trying to fetch must exist! Check this using a browser.\n",
    "* We’ll need permission to write to the destination filename, and the file will be created in the “current directory” - i.e. the same folder that the Python program is saved in.\n",
    "* If we are behind a proxy server that requires authentication, (as some students are), this may require some more special handling to work around our proxy. Use a local resource for the purpose of this demonstration!"
   ]
  },
  {
   "cell_type": "code",
   "execution_count": 5,
   "metadata": {
    "collapsed": false
   },
   "outputs": [],
   "source": [
    "import urllib.request\n",
    "\n",
    "def retrieve_page(url):\n",
    "    \"\"\" Retrieve the contents of a web page.\n",
    "        The contents is converted to a string before returning it.\n",
    "    \"\"\"\n",
    "    my_socket = urllib.request.urlopen(url)\n",
    "    dta = str(my_socket.read())\n",
    "    my_socket.close()\n",
    "    return dta\n",
    "\n",
    "the_text = retrieve_page(\"https://api.github.com/\")\n",
    "print(the_text)"
   ]
  },
  {
   "cell_type": "markdown",
   "metadata": {},
   "source": [
    "# Exercises\n",
    "\n",
    "1. Write a program that reads a file and writes out a new file with the lines in reversed order (i.e. the first line in the old file becomes the last one in the new file.)\n",
    "\n",
    "2. Write a program that reads a file and prints only those lines that contain the substring snake.\n",
    "\n",
    "3. Write a program that reads a text file and produces an output file which is a copy of the file, except the first five columns of each line contain a four digit line number, followed by a space. Start numbering the first line in the output file at 1. Ensure that every line number is formatted to the same width in the output file. Use one of your Python programs as test data for this exercise: your output should be a printed and numbered listing of the Python program.\n",
    "\n",
    "4. Write a program that undoes the numbering of the previous exercise: it should read a file with numbered lines and produce another file without line numbers.\n",
    "\n",
    "Extra: Read through the [requests tutorial](http://docs.python-requests.org/en/latest/user/quickstart/). Requests is a much better tool for working with HTTP requests than the built in urllib.requests IMHO ([it's even recommended in the urllib.requests library!](https://docs.python.org/3/library/urllib.request.html)).\n",
    "\n",
    "## Catching exceptions\n",
    "  ### Exception handling\n",
    "  ### Raising our own exceptions\n",
    "  ### finally\n",
    "  \n",
    "\n",
    "\n",
    "# Lecture 4\n",
    "# List Algorithms\n",
    "## TDD \n",
    "## Linear search algorithm\n",
    "### scalability\n",
    "## Binary search algorithm\n",
    "### Removing adjacent duplicates from a list\n",
    "## Merging sorted\n",
    "## Alice in wonderland\n",
    "## 8 Queens\n",
    "\n",
    "# Lecture 5 \n",
    "\n",
    "# Recursion\n",
    "## Drawing Fractals\n",
    "## Recursive data structures\n",
    "## Processing recursive number lists\n",
    "## Case study: Fibonacci numbers\n",
    "## Examples with recursive directories and files\n",
    "\n",
    "# Lecture 6\n",
    "## OOP"
   ]
  },
  {
   "cell_type": "code",
   "execution_count": null,
   "metadata": {
    "collapsed": true
   },
   "outputs": [],
   "source": []
  }
 ],
 "metadata": {
  "kernelspec": {
   "display_name": "Python 3",
   "language": "python",
   "name": "python3"
  },
  "language_info": {
   "codemirror_mode": {
    "name": "ipython",
    "version": 3
   },
   "file_extension": ".py",
   "mimetype": "text/x-python",
   "name": "python",
   "nbconvert_exporter": "python",
   "pygments_lexer": "ipython3",
   "version": "3.5.0"
  }
 },
 "nbformat": 4,
 "nbformat_minor": 0
}
