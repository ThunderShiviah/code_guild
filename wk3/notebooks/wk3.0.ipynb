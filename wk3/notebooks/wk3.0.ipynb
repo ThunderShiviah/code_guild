{
 "cells": [
  {
   "cell_type": "markdown",
   "metadata": {},
   "source": [
    "# wk3.0\n",
    "\n",
    "# Warm-up\n",
    "\n",
    "* The four compass points can be abbreviated by single-letter strings as “N”, “E”, “S”, and “W”. Write a function turn_clockwise that takes one of these four compass points as its parameter, and returns the next compass point in the clockwise direction. Here are some tests that should pass:\n",
    "\n",
    "```\n",
    "assert turn_clockwise(\"N\") == \"E\"\n",
    "assert turn_clockwise(\"W\") == \"N\"\n",
    "```\n",
    "\n",
    "* You might ask “What if the argument to the function is some other value?” For all other cases, the function should return the value None:\n",
    "\n",
    "```\n",
    "assert turn_clockwise(42) == None\n",
    "assert turn_clockwise(\"rubbish\") == None\n",
    "```\n",
    "\n",
    "* Write a function day_name that converts an integer number 0 to 6 into the name of a day. Assume day 0 is “Sunday”. Once again, return None if the arguments to the function are not valid. Here are some tests that should pass:\n",
    "\n",
    "```\n",
    "assert day_name(3) == \"Wednesday\"\n",
    "assert day_name(6) == \"Saturday\"\n",
    "assert day_name(42) == None\n",
    "```\n",
    "\n",
    "* Write the inverse function day_num which is given a day name, and returns its number:\n",
    "\n",
    "```\n",
    "assert day_num(\"Friday\") == 5\n",
    "assert day_num(\"Sunday\") == 0\n",
    "assert day_num(day_name(3)) == 3\n",
    "assert day_name(day_num(\"Thursday\")) == \"Thursday\"\n",
    "```\n",
    "\n",
    "* Once again, if this function is given an invalid argument, it should return None:\n",
    "\n",
    "```\n",
    "assert day_num(\"Halloween\") == None\n",
    "```\n",
    "\n",
    "* Write a function that helps answer questions like ‘“Today is Wednesday. I leave on holiday in 19 days time. What day will that be?”’ So the function must take a day name and a delta argument — the number of days to add — and should return the resulting day name:\n",
    "\n",
    "```\n",
    "assert day_add(\"Monday\", 4) ==  \"Friday\"\n",
    "assert day_add(\"Tuesday\", 0) == \"Tuesday\"\n",
    "test(day_add(\"Tuesday\", 14) == \"Tuesday\"\n",
    "test(day_add(\"Sunday\", 100) == \"Tuesday\"\n",
    "```\n",
    "Hint: use the first two functions written above to help you write this one.\n",
    "\n",
    "* Can your day_add function already work with negative deltas? For example, -1 would be yesterday, or -7 would be a week ago:\n",
    "```\n",
    "assert day_add(\"Sunday\", -1) == \"Saturday\"\n",
    "assert day_add(\"Sunday\", -7) == \"Sunday\"\n",
    "assert day_add(\"Tuesday\", -100) == \"Sunday\"\n",
    "```\n",
    "* If your function already works, explain why. If it does not work, make it work.\n",
    "Hint: Play with some cases of using the modulus function % (introduced at the beginning of the previous chapter). Specifically, explore what happens to x % 7 when x is negative.\n",
    "\n",
    "* Write a function days_in_month which takes the name of a month, and returns the number of days in the month. Ignore leap years:\n",
    "```\n",
    "assert days_in_month(\"February\") == 28\n",
    "assert days_in_month(\"December\") == 31\n",
    "```\n",
    "* If the function is given invalid arguments, it should return None.\n",
    "Write a function to_secs that converts hours, minutes and seconds to a total number of seconds. Here are some tests that should pass:\n",
    "```\n",
    "assert to_secs(2, 30, 10) == 9010\n",
    "assert to_secs(2, 0, 0) == 7200\n",
    "assert to_secs(0, 2, 0) == 120\n",
    "assert to_secs(0, 0, 42) == 42\n",
    "assert to_secs(0, -10, 10) == -590\n",
    "```\n",
    "* Extend to_secs so that it can cope with real values as inputs. It should always return an integer number of seconds (truncated towards zero):\n",
    "```\n",
    "assert to_secs(2.5, 0, 10.71) == 9010\n",
    "assert to_secs(2.433,0,0) == 8758\n",
    "```\n",
    "* Write three functions that are the “inverses” of to_secs:\n",
    "  * hours_in returns the whole integer number of hours represented by a total number of seconds.\n",
    "  * minutes_in returns the whole integer number of left over minutes in a total number of seconds, once the hours have been taken out.\n",
    "  * seconds_in returns the left over seconds represented by a total number of seconds.\n",
    "You may assume that the total number of seconds passed to these functions is an integer. Here are some test cases:\n",
    "```\n",
    "assert hours_in(9010) == 2\n",
    "assert minutes_in(9010) == 30\n",
    "assert seconds_in(9010) == 10\n",
    "```\n",
    "# Fruitful functions\n",
    "\n",
    "* return values\n",
    "* temporary variables\n",
    "* dead code, or unreachable code\n",
    "* Make sure that your code accesses the whole range of input.\n",
    "Ex. \n",
    "```\n",
    "def bad_absolute_value(x):\n",
    "    if x < 0:\n",
    "        return -x\n",
    "    elif x > 0:\n",
    "        return x\n",
    "```\n",
    "\n",
    "Sometimes sticking a return in a for loop is a good idea:\n"
   ]
  },
  {
   "cell_type": "code",
   "execution_count": 6,
   "metadata": {
    "collapsed": false
   },
   "outputs": [
    {
     "name": "stdout",
     "output_type": "stream",
     "text": [
      "res1 is\n",
      "res2 \n"
     ]
    }
   ],
   "source": [
    "def find_first_2_letter_word(xs):\n",
    "    \"\"\" Returns the first two letter word in a list. If no two letter word exists, returns an empty string\"\"\"\n",
    "    for wd in xs:\n",
    "        if len(wd) == 2:\n",
    "            return wd\n",
    "    return \"\"\n",
    "\n",
    "print('res1', find_first_2_letter_word([\"This\",  \"is\", \"a\", \"dead\", \"parrot\"]))\n",
    "\n",
    "print('res2', find_first_2_letter_word([\"I\",  \"like\",  \"cheese\"]))\n"
   ]
  },
  {
   "cell_type": "markdown",
   "metadata": {},
   "source": [
    "# Incremental development\n",
    "\n",
    "The key aspects of the process are:\n",
    "1. Start with a working skeleton program and make small incremental changes. At any point, if there is an error, you will know exactly where it is.\n",
    "2. Use temporary variables to refer to intermediate values so that you can easily inspect and check them.\n",
    "3. Once the program is working, relax, sit back, and play around with your options. (There is interesting research that links “playfulness” to better understanding, better learning, more enjoyment, and a more positive mindset about what you can achieve — so spend some time fiddling around!) You might want to consolidate multiple statements into one bigger compound expression, or rename the variables you’ve used, or see if you can make the function shorter. A good guideline is to aim for making code as easy as possible for others to read.\n",
    "\n",
    "# Debugging\n",
    "Another powerful technique for debugging (an alternative to single-stepping and inspection of program variables), is to insert extra print functions in carefully selected places in your code. Then, by inspecting the output of the program, you can check whether the algorithm is doing what you expect it to. Be clear about the following, however:\n",
    "\n",
    "* You must have a clear solution to the problem, and must know what should happen before you can debug a program. Work on solving the problem on a piece of paper (perhaps using a flowchart to record the steps you take) before you concern yourself with writing code. Writing a program doesn’t solve the problem — it simply automates the manual steps you would take. So first make sure you have a pen-and-paper manual solution that works. Programming then is about making those manual steps happen automatically.\n",
    "\n",
    "* Do not write **chatterbox functions**. A chatterbox is a fruitful function that, in addition to its primary task, also asks the user for input, or prints output, when it would be more useful if it simply shut up and did its work quietly.\n",
    "\n",
    "For example, we’ve seen built-in functions like range, max and abs. None of these would be useful building blocks for other programs if they prompted the user for input, or printed their results while they performed their tasks.\n",
    "So a good tip is to avoid calling print and input functions inside fruitful functions, unless the primary purpose of your function is to perform input and output. The one exception to this rule might be to temporarily sprinkle some calls to print into your code to help debug and understand what is happening when the code runs, but these will then be removed once you get things working.\n",
    "\n",
    "# Composition\n",
    "\n",
    "# Boolean functions for test hiding"
   ]
  },
  {
   "cell_type": "markdown",
   "metadata": {},
   "source": [
    "# Lecture 2\n",
    "## Modules\n",
    "### Random numbers\n",
    "#### Repeatability and Testing\n",
    "* deterministic algorithm\n",
    "* pseudo-random generators\n",
    "#### Picking balls from bags, throwing dice, shuffling a pack of cards\n",
    "\n",
    "### The time module\n",
    "### The math module\n",
    "### Creating your own modules\n",
    "### Namespaces\n",
    "### Scope and lookup rules\n",
    "### Attributes and the dot operator\n",
    "### Three import statement variants"
   ]
  },
  {
   "cell_type": "code",
   "execution_count": null,
   "metadata": {
    "collapsed": true
   },
   "outputs": [],
   "source": []
  },
  {
   "cell_type": "code",
   "execution_count": null,
   "metadata": {
    "collapsed": false
   },
   "outputs": [],
   "source": []
  },
  {
   "cell_type": "code",
   "execution_count": null,
   "metadata": {
    "collapsed": true
   },
   "outputs": [],
   "source": []
  }
 ],
 "metadata": {
  "kernelspec": {
   "display_name": "Python 3",
   "language": "python",
   "name": "python3"
  },
  "language_info": {
   "codemirror_mode": {
    "name": "ipython",
    "version": 3
   },
   "file_extension": ".py",
   "mimetype": "text/x-python",
   "name": "python",
   "nbconvert_exporter": "python",
   "pygments_lexer": "ipython3",
   "version": "3.5.0"
  }
 },
 "nbformat": 4,
 "nbformat_minor": 0
}
