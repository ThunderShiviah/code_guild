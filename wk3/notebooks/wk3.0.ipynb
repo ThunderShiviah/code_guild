{
 "cells": [
  {
   "cell_type": "markdown",
   "metadata": {},
   "source": [
    "# wk3.0\n",
    "\n",
    "# Warm-up\n",
    "\n",
    "* The four compass points can be abbreviated by single-letter strings as “N”, “E”, “S”, and “W”. Write a function turn_clockwise that takes one of these four compass points as its parameter, and returns the next compass point in the clockwise direction. Here are some tests that should pass:\n",
    "\n",
    "```\n",
    "assert turn_clockwise(\"N\") == \"E\"\n",
    "assert turn_clockwise(\"W\") == \"N\"\n",
    "```"
   ]
  },
  {
   "cell_type": "code",
   "execution_count": null,
   "metadata": {
    "collapsed": false
   },
   "outputs": [],
   "source": [
    "def turn_clockwise(direction):\n",
    "    compass = {\"N\":\"E\" , \"E\": \"S\", \"S\":\"W\", \"W\":\"N\"}\n",
    "    return compass[direction]\n",
    "\n",
    "assert turn_clockwise(\"N\") == \"E\"\n",
    "assert turn_clockwise(\"W\") == \"N\"\n",
    "\n",
    "turn_clockwise(\"N\")"
   ]
  },
  {
   "cell_type": "markdown",
   "metadata": {},
   "source": [
    "* You might ask “What if the argument to the function is some other value?” For all other cases, the function should return the value None:\n",
    "\n",
    "```\n",
    "assert turn_clockwise(42) == None\n",
    "assert turn_clockwise(\"rubbish\") == None\n",
    "```"
   ]
  },
  {
   "cell_type": "code",
   "execution_count": null,
   "metadata": {
    "collapsed": false
   },
   "outputs": [],
   "source": [
    "\n",
    "\n",
    "def turn_clockwise(direction):\n",
    "    compass = {\"N\":\"E\" , \"E\": \"S\", \"S\":\"W\", \"W\":\"N\"}\n",
    "    try:\n",
    "        return compass[direction]\n",
    "    except KeyError:\n",
    "        print(\"That's not a direction ya dingus!\")\n",
    "        return None\n",
    "\n",
    "try:\n",
    "    turn_clockwise()\n",
    "except KeyError:\n",
    "    print(\"Enter a direction\")\n",
    "\"\"\"\n",
    "assert turn_clockwise() == None\n",
    "assert turn_clockwise(47) == None\n",
    "assert turn_clockwise(\"rubbish\") == None\n",
    "\"\"\""
   ]
  },
  {
   "cell_type": "markdown",
   "metadata": {},
   "source": [
    "* Write a function day_name that converts an integer number 0 to 6 into the name of a day. Assume day 0 is “Sunday”. Once again, return None if the arguments to the function are not valid. Here are some tests that should pass:\n",
    "\n",
    "```\n",
    "assert day_name(3) == \"Wednesday\"\n",
    "assert day_name(6) == \"Saturday\"\n",
    "assert day_name(42) == None\n",
    "```"
   ]
  },
  {
   "cell_type": "code",
   "execution_count": null,
   "metadata": {
    "collapsed": false
   },
   "outputs": [],
   "source": [
    "def day_name(num):\n",
    "    days = (\"Sun\", \"Mon\", \"Tues\", \"Wed\", \"Thur\")\n",
    "    try:\n",
    "        return days[num]\n",
    "    except:\n",
    "        return None\n",
    "\n",
    "assert day_name(3) == \"Wed\"\n",
    "assert day_name(0) == \"Sun\"\n",
    "assert day_name(42) == None\n",
    "day_name(2) "
   ]
  },
  {
   "cell_type": "markdown",
   "metadata": {},
   "source": [
    "* Write the inverse function day_num which is given a day name, and returns its number:\n",
    "\n",
    "```\n",
    "assert day_num(\"Friday\") == 5\n",
    "assert day_num(\"Sunday\") == 0\n",
    "assert day_num(day_name(3)) == 3\n",
    "assert day_name(day_num(\"Thursday\")) == \"Thursday\"\n",
    "```"
   ]
  },
  {
   "cell_type": "code",
   "execution_count": null,
   "metadata": {
    "collapsed": false
   },
   "outputs": [],
   "source": [
    "days = (\"Sun\", \"Mon\", \"Tues\", \"Wed\", \"Thur\")\n",
    "\n",
    "days.index(\"Mon\")\n",
    "\n",
    "lst = []\n",
    "for day in days:\n",
    "    lst.append((days.index(day), day) )\n",
    "\n",
    "dct = dict(lst)\n",
    "dct\n"
   ]
  },
  {
   "cell_type": "markdown",
   "metadata": {},
   "source": [
    "* Once again, if this function is given an invalid argument, it should return None:\n",
    "\n",
    "```\n",
    "assert day_num(\"Halloween\") == None\n",
    "```"
   ]
  },
  {
   "cell_type": "markdown",
   "metadata": {},
   "source": [
    "* Write a function that helps answer questions like ‘“Today is Wednesday. I leave on holiday in 19 days time. What day will that be?”’ So the function must take a day name and a delta argument — the number of days to add — and should return the resulting day name:\n",
    "\n",
    "```\n",
    "assert day_add(\"Monday\", 4) ==  \"Friday\"\n",
    "assert day_add(\"Tuesday\", 0) == \"Tuesday\"\n",
    "test(day_add(\"Tuesday\", 14) == \"Tuesday\"\n",
    "test(day_add(\"Sunday\", 100) == \"Tuesday\"\n",
    "```\n",
    "Hint: use the first two functions written above to help you write this one."
   ]
  },
  {
   "cell_type": "code",
   "execution_count": null,
   "metadata": {
    "collapsed": true
   },
   "outputs": [],
   "source": [
    "\n",
    "def day_name(num):\n",
    "    \"\"\"Takes in day index and returns day name\"\"\"\n",
    "    days = (\"Sun\", \"Mon\", \"Tues\", \"Wed\", \"Thur\", \"Fri\", \n",
    "            \"Sat\")   \n",
    "    try:\n",
    "        return days[num]\n",
    "    except:\n",
    "        return None\n",
    "\n",
    "def day_num(day):\n",
    "    days = (\"Sun\", \"Mon\", \"Tues\", \"Wed\", \"Thur\", \"Fri\", \n",
    "            \"Sat\")\n",
    "    try:\n",
    "        return days.index(day)\n",
    "    except:\n",
    "        return None"
   ]
  },
  {
   "cell_type": "code",
   "execution_count": null,
   "metadata": {
    "collapsed": true
   },
   "outputs": [],
   "source": [
    "def day_add(day, delta):\n",
    "    number = (day_num(day) + delta) % 7\n",
    "    return day_name(number)\n"
   ]
  },
  {
   "cell_type": "code",
   "execution_count": null,
   "metadata": {
    "collapsed": false
   },
   "outputs": [],
   "source": [
    "assert day_name(3) == \"Wed\"\n",
    "assert day_name(0) == \"Sun\"\n",
    "assert day_name(42) == None\n",
    "\n",
    "assert day_num(\"Fri\") == 5\n",
    "assert day_num(\"Sun\") == 0\n",
    "assert day_num(day_name(3)) == 3\n",
    "\n",
    "assert day_add(\"Tues\", 0) == \"Tues\"\n",
    "assert day_add(\"Fri\", 3) == \"Mon\"\n",
    "\n",
    "assert day_add(\"Fri\", -2) == \"Wed\""
   ]
  },
  {
   "cell_type": "code",
   "execution_count": null,
   "metadata": {
    "collapsed": false
   },
   "outputs": [],
   "source": [
    "-1%7"
   ]
  },
  {
   "cell_type": "markdown",
   "metadata": {},
   "source": [
    "* Can your day_add function already work with negative deltas? For example, -1 would be yesterday, or -7 would be a week ago:\n",
    "```\n",
    "assert day_add(\"Sunday\", -1) == \"Saturday\"\n",
    "assert day_add(\"Sunday\", -7) == \"Sunday\"\n",
    "assert day_add(\"Tuesday\", -100) == \"Sunday\"\n",
    "```"
   ]
  },
  {
   "cell_type": "markdown",
   "metadata": {},
   "source": [
    "* If your function already works, explain why. If it does not work, make it work.\n",
    "Hint: Play with some cases of using the modulus function % (introduced at the beginning of the previous chapter). Specifically, explore what happens to x % 7 when x is negative."
   ]
  },
  {
   "cell_type": "markdown",
   "metadata": {},
   "source": [
    "* Write a function days_in_month which takes the name of a month, and returns the number of days in the month. Ignore leap years:\n",
    "```\n",
    "assert days_in_month(\"February\") == 28\n",
    "assert days_in_month(\"December\") == 31\n",
    "```\n",
    "If the function is given invalid arguments, it should return None."
   ]
  },
  {
   "cell_type": "markdown",
   "metadata": {},
   "source": [
    "\n",
    "Write a function to_secs that converts hours, minutes and seconds to a total number of seconds. Here are some tests that should pass:\n",
    "```\n",
    "assert to_secs(2, 30, 10) == 9010\n",
    "assert to_secs(2, 0, 0) == 7200\n",
    "assert to_secs(0, 2, 0) == 120\n",
    "assert to_secs(0, 0, 42) == 42\n",
    "assert to_secs(0, -10, 10) == -590\n",
    "```"
   ]
  },
  {
   "cell_type": "markdown",
   "metadata": {},
   "source": [
    "* Extend to_secs so that it can cope with real values as inputs. It should always return an integer number of seconds (truncated towards zero):\n",
    "```\n",
    "assert to_secs(2.5, 0, 10.71) == 9010\n",
    "assert to_secs(2.433,0,0) == 8758\n",
    "```"
   ]
  },
  {
   "cell_type": "markdown",
   "metadata": {},
   "source": [
    "* Write three functions that are the “inverses” of to_secs:\n",
    "  * hours_in returns the whole integer number of hours represented by a total number of seconds.\n",
    "  * minutes_in returns the whole integer number of left over minutes in a total number of seconds, once the hours have been taken out.\n",
    "  * seconds_in returns the left over seconds represented by a total number of seconds.\n",
    "You may assume that the total number of seconds passed to these functions is an integer. Here are some test cases:\n",
    "```\n",
    "assert hours_in(9010) == 2\n",
    "assert minutes_in(9010) == 30\n",
    "assert seconds_in(9010) == 10\n",
    "```"
   ]
  },
  {
   "cell_type": "markdown",
   "metadata": {},
   "source": [
    "# Fruitful functions\n",
    "\n",
    "\n",
    "* temporary variables"
   ]
  },
  {
   "cell_type": "code",
   "execution_count": null,
   "metadata": {
    "collapsed": false
   },
   "outputs": [],
   "source": [
    "\n",
    "def mult(x1, x2, x3, x4):\n",
    "    multi = x1*x2*x3*x4\n",
    "    add = x1 + x2 + x3 + x4\n",
    "    return multi*add\n",
    "\n",
    "mult(1,1,1,2)"
   ]
  },
  {
   "cell_type": "code",
   "execution_count": null,
   "metadata": {
    "collapsed": false
   },
   "outputs": [],
   "source": [
    "%quickref"
   ]
  },
  {
   "cell_type": "markdown",
   "metadata": {},
   "source": [
    "* dead code, or unreachable code"
   ]
  },
  {
   "cell_type": "code",
   "execution_count": null,
   "metadata": {
    "collapsed": false
   },
   "outputs": [],
   "source": [
    "def bad():\n",
    "    print(\"Hi\")\n",
    "    return \"bye\"\n",
    "    \n",
    "bad()"
   ]
  },
  {
   "cell_type": "markdown",
   "metadata": {},
   "source": [
    "* Make sure that your code accesses the whole range of input.\n",
    "Ex. \n",
    "```\n",
    "def bad_absolute_value(x):\n",
    "    if x < 0:\n",
    "        return -x\n",
    "    elif x > 0:\n",
    "        return x\n",
    "```"
   ]
  },
  {
   "cell_type": "code",
   "execution_count": null,
   "metadata": {
    "collapsed": false
   },
   "outputs": [],
   "source": [
    "def bad_absolute_value(x):\n",
    "    if x <= 0:\n",
    "        return -x\n",
    "    elif x > 0:\n",
    "        return x\n",
    "    \n",
    "bad_absolute_value(0)"
   ]
  },
  {
   "cell_type": "markdown",
   "metadata": {},
   "source": [
    "Sometimes sticking a return in a for loop is a good idea:"
   ]
  },
  {
   "cell_type": "code",
   "execution_count": null,
   "metadata": {
    "collapsed": true
   },
   "outputs": [],
   "source": []
  },
  {
   "cell_type": "code",
   "execution_count": null,
   "metadata": {
    "collapsed": false
   },
   "outputs": [],
   "source": [
    "def find_first_2_letter_word(xs):\n",
    "    \"\"\" Returns the first two letter word in a list. If no two letter word exists, returns an empty string\"\"\"\n",
    "    for index, wd in enumerate(xs):\n",
    "        if len(wd) == 2:\n",
    "            \n",
    "            return (wd, index)\n",
    "    return (\"\", index)\n",
    "\n",
    "print('res1', find_first_2_letter_word([\"This\",  \"is\", \"a\", \"dead\", \"parrot\"]))\n",
    "\n",
    "print('res2', find_first_2_letter_word([\"I\",  \"like\",  \"cheese\", \"bah\"]))\n"
   ]
  },
  {
   "cell_type": "markdown",
   "metadata": {},
   "source": [
    "# Incremental development\n",
    "\n",
    "The key aspects of the process are:\n",
    "1. Start with a working skeleton program and make small incremental changes. At any point, if there is an error, you will know exactly where it is.\n",
    "2. Use temporary variables to refer to intermediate values so that you can easily inspect and check them.\n",
    "3. Once the program is working, relax, sit back, and play around with your options. (There is interesting research that links “playfulness” to better understanding, better learning, more enjoyment, and a more positive mindset about what you can achieve — so spend some time fiddling around!) You might want to consolidate multiple statements into one bigger compound expression, or rename the variables you’ve used, or see if you can make the function shorter. A good guideline is to aim for making code as easy as possible for others to read.\n",
    "\n",
    "# Debugging\n",
    "Another powerful technique for debugging (an alternative to single-stepping and inspection of program variables), is to insert extra print functions in carefully selected places in your code. Then, by inspecting the output of the program, you can check whether the algorithm is doing what you expect it to. Be clear about the following, however:\n",
    "\n",
    "* You must have a clear solution to the problem, and must know what should happen before you can debug a program. Work on solving the problem on a piece of paper (perhaps using a flowchart to record the steps you take) before you concern yourself with writing code. Writing a program doesn’t solve the problem — it simply automates the manual steps you would take. So first make sure you have a pen-and-paper manual solution that works. Programming then is about making those manual steps happen automatically.\n",
    "\n",
    "* Do not write **chatterbox functions**. A chatterbox is a fruitful function that, in addition to its primary task, also asks the user for input, or prints output, when it would be more useful if it simply shut up and did its work quietly.\n",
    "\n",
    "For example, we’ve seen built-in functions like range, max and abs. None of these would be useful building blocks for other programs if they prompted the user for input, or printed their results while they performed their tasks.\n",
    "So a good tip is to avoid calling print and input functions inside fruitful functions, unless the primary purpose of your function is to perform input and output. The one exception to this rule might be to temporarily sprinkle some calls to print into your code to help debug and understand what is happening when the code runs, but these will then be removed once you get things working."
   ]
  },
  {
   "cell_type": "markdown",
   "metadata": {},
   "source": [
    "# Composition\n"
   ]
  },
  {
   "cell_type": "code",
   "execution_count": null,
   "metadata": {
    "collapsed": false
   },
   "outputs": [],
   "source": [
    "day_name(day_num(\"Wed\"))"
   ]
  },
  {
   "cell_type": "markdown",
   "metadata": {},
   "source": [
    "# Boolean functions for test hiding"
   ]
  },
  {
   "cell_type": "code",
   "execution_count": null,
   "metadata": {
    "collapsed": true
   },
   "outputs": [],
   "source": [
    "def tester(line):\n",
    "    tests a bunch of stuff\n",
    "    if all the stuff is good:\n",
    "        return True\n",
    "    else:\n",
    "        return False\n",
    "\n",
    "def main_func(emails):\n",
    "    for line in emails:\n",
    "        if tester(line):\n",
    "            return line"
   ]
  },
  {
   "cell_type": "markdown",
   "metadata": {},
   "source": [
    "# Lecture 2\n",
    "## Modules\n",
    "### Random numbers\n",
    "\n",
    "A few uses of random numbers:\n",
    "* To play a game of chance where the computer needs to throw some dice, pick a number, or flip a coin,\n",
    "* To shuffle a deck of playing cards randomly,\n",
    "* To allow/make an enemy spaceship appear at a random location and start shooting at the player,\n",
    "* To simulate possible rainfall when we make a computerized model for estimating the environmental impact of building a dam,\n",
    "* For encrypting banking sessions on the Internet."
   ]
  },
  {
   "cell_type": "code",
   "execution_count": 7,
   "metadata": {
    "collapsed": false
   },
   "outputs": [
    {
     "name": "stdout",
     "output_type": "stream",
     "text": [
      "dice_throw 1\n",
      "delay_in_seconds 3.901082468780449\n"
     ]
    }
   ],
   "source": [
    "import random\n",
    "\n",
    "# Create a black box object that generates random numbers\n",
    "rng = random.Random()\n",
    "\n",
    "dice_throw = rng.randrange(1,7)   # Return an int, one of 1,2,3,4,5,6\n",
    "delay_in_seconds = rng.random() * 5.0\n",
    "\n",
    "print('dice_throw', dice_throw)\n",
    "print('delay_in_seconds', delay_in_seconds)"
   ]
  },
  {
   "cell_type": "markdown",
   "metadata": {},
   "source": [
    "How would we get odd numbers between 1 and 100 (exclusive)?"
   ]
  },
  {
   "cell_type": "code",
   "execution_count": 15,
   "metadata": {
    "collapsed": false
   },
   "outputs": [
    {
     "name": "stdout",
     "output_type": "stream",
     "text": [
      "27\n",
      "17\n",
      "25\n",
      "99\n",
      "37\n",
      "5\n",
      "83\n",
      "65\n",
      "97\n",
      "77\n"
     ]
    }
   ],
   "source": [
    "\n",
    "for num in range(10):\n",
    "    print(rng.randrange(1,100,2))"
   ]
  },
  {
   "cell_type": "markdown",
   "metadata": {},
   "source": [
    "* random.Random() returns a uniform distribution.\n",
    "\n",
    "* There are other distributions as well."
   ]
  },
  {
   "cell_type": "code",
   "execution_count": 27,
   "metadata": {
    "collapsed": false
   },
   "outputs": [
    {
     "name": "stdout",
     "output_type": "stream",
     "text": [
      "0.26271360781722963\n",
      "0.8888887777027128\n",
      "0.7607591003741009\n",
      "0.10139091507892262\n",
      "0.3321042528686271\n",
      "0.2559371250627922\n",
      "0.41050844394473796\n",
      "0.21251634227842542\n",
      "0.2742334808717193\n",
      "0.7451143296453842\n"
     ]
    }
   ],
   "source": [
    "random.random() # returns a number in interval [0,1). We need to scale it!\n",
    "\n",
    "for num in range(10):\n",
    "    print(random.random())"
   ]
  },
  {
   "cell_type": "code",
   "execution_count": 32,
   "metadata": {
    "collapsed": false
   },
   "outputs": [
    {
     "data": {
      "text/plain": [
       "[47,\n",
       " 46,\n",
       " 29,\n",
       " 39,\n",
       " 15,\n",
       " 24,\n",
       " 23,\n",
       " 48,\n",
       " 50,\n",
       " 8,\n",
       " 0,\n",
       " 16,\n",
       " 38,\n",
       " 13,\n",
       " 44,\n",
       " 37,\n",
       " 26,\n",
       " 31,\n",
       " 27,\n",
       " 19,\n",
       " 10,\n",
       " 21,\n",
       " 18,\n",
       " 30,\n",
       " 4,\n",
       " 36,\n",
       " 51,\n",
       " 11,\n",
       " 40,\n",
       " 5,\n",
       " 25,\n",
       " 22,\n",
       " 49,\n",
       " 42,\n",
       " 41,\n",
       " 35,\n",
       " 14,\n",
       " 1,\n",
       " 33,\n",
       " 7,\n",
       " 20,\n",
       " 3,\n",
       " 2,\n",
       " 12,\n",
       " 9,\n",
       " 17,\n",
       " 6,\n",
       " 34,\n",
       " 43,\n",
       " 45,\n",
       " 28,\n",
       " 32]"
      ]
     },
     "execution_count": 32,
     "metadata": {},
     "output_type": "execute_result"
    }
   ],
   "source": [
    "cards = list(range(52))  # Generate ints [0 .. 51]\n",
    "                         #    representing a pack of cards.\n",
    "rng.shuffle(cards)       # Shuffle the pack\n",
    "\n",
    "cards\n"
   ]
  },
  {
   "cell_type": "markdown",
   "metadata": {},
   "source": [
    "#### Repeatability and Testing\n",
    "\n",
    "* deterministic algorithm\n",
    "* pseudo-random generators"
   ]
  },
  {
   "cell_type": "code",
   "execution_count": 44,
   "metadata": {
    "collapsed": false
   },
   "outputs": [
    {
     "name": "stdout",
     "output_type": "stream",
     "text": [
      "27\n",
      "2\n",
      "67\n",
      "95\n",
      "5\n",
      "21\n",
      "31\n",
      "3\n",
      "8\n",
      "88\n"
     ]
    }
   ],
   "source": [
    "drng = random.Random(15)  # Create generator with known starting state\n",
    "\n",
    "for n in range(10):\n",
    "    print(drng.randint(1,100)) # Always 7."
   ]
  },
  {
   "cell_type": "markdown",
   "metadata": {},
   "source": [
    "### Picking balls from bags, throwing dice, shuffling a pack of cards"
   ]
  },
  {
   "cell_type": "code",
   "execution_count": 47,
   "metadata": {
    "collapsed": false
   },
   "outputs": [
    {
     "data": {
      "text/plain": [
       "[3, 7, 9, 7]"
      ]
     },
     "execution_count": 47,
     "metadata": {},
     "output_type": "execute_result"
    }
   ],
   "source": [
    "import random\n",
    "\n",
    "def make_random_ints(num, lower_bound, upper_bound):\n",
    "   \"\"\"\n",
    "     Generate a list containing num random ints between lower_bound\n",
    "     and upper_bound. upper_bound is an open bound.\n",
    "   \"\"\"\n",
    "   rng = random.Random()  # Create a random number generator\n",
    "   result = []\n",
    "   for i in range(num):\n",
    "      result.append(rng.randrange(lower_bound, upper_bound))\n",
    "   return result\n",
    "\n",
    "make_random_ints(4, 3,10)"
   ]
  },
  {
   "cell_type": "code",
   "execution_count": 48,
   "metadata": {
    "collapsed": false
   },
   "outputs": [
    {
     "data": {
      "text/plain": [
       "[9, 6, 3, 9, 4]"
      ]
     },
     "execution_count": 48,
     "metadata": {},
     "output_type": "execute_result"
    }
   ],
   "source": [
    " make_random_ints(5, 1, 13)  # Pick 5 random month numbers\n"
   ]
  },
  {
   "cell_type": "markdown",
   "metadata": {},
   "source": [
    "### Getting unique values\n"
   ]
  },
  {
   "cell_type": "code",
   "execution_count": 49,
   "metadata": {
    "collapsed": true
   },
   "outputs": [],
   "source": [
    "xs = list(range(1,13))  # Make list 1..12  (there are no duplicates)\n",
    "rng = random.Random()   # Make a random number generator\n",
    "rng.shuffle(xs)         # Shuffle the list\n",
    "result = xs[:5]         # Take the first five elements"
   ]
  },
  {
   "cell_type": "code",
   "execution_count": 50,
   "metadata": {
    "collapsed": false
   },
   "outputs": [
    {
     "data": {
      "text/plain": [
       "[7, 1, 3, 2, 12]"
      ]
     },
     "execution_count": 50,
     "metadata": {},
     "output_type": "execute_result"
    }
   ],
   "source": [
    "result"
   ]
  },
  {
   "cell_type": "markdown",
   "metadata": {},
   "source": [
    "The 'shuffle and slice' method is okay for small numbers but would not be so great if you only wanted a few elements, but from a very large domain. \n",
    "\n",
    "Suppose I wanted five numbers between one and ten million, without duplicates. Generating a list of ten million items, shuffling it, and then slicing off the first five would be a performance disaster! So let us have another try:"
   ]
  },
  {
   "cell_type": "code",
   "execution_count": 55,
   "metadata": {
    "collapsed": false
   },
   "outputs": [
    {
     "name": "stdout",
     "output_type": "stream",
     "text": [
      "[2855989, 4158489, 5250594, 9186164, 8877894]\n"
     ]
    }
   ],
   "source": [
    "import random\n",
    "\n",
    "def make_random_ints_no_dups(num, lower_bound, upper_bound):\n",
    "    \"\"\"\n",
    "     Generate a list containing num random ints between\n",
    "     lower_bound and upper_bound. upper_bound is an open bound.\n",
    "     The result list cannot contain duplicates.\n",
    "    \"\"\"\n",
    "    result = []\n",
    "    rng = random.Random()\n",
    "    for i in range(num):\n",
    "        while True:\n",
    "            candidate = rng.randrange(lower_bound, upper_bound)\n",
    "            if candidate not in result:\n",
    "                break\n",
    "        result.append(candidate)\n",
    "    return result\n",
    "\n",
    "xs = make_random_ints_no_dups(5, 1, 10000000)\n",
    "print(xs)"
   ]
  },
  {
   "cell_type": "code",
   "execution_count": 54,
   "metadata": {
    "collapsed": false
   },
   "outputs": [
    {
     "data": {
      "text/plain": [
       "[723, 499, 251, 936, 411]"
      ]
     },
     "execution_count": 54,
     "metadata": {},
     "output_type": "execute_result"
    }
   ],
   "source": [
    "\"\"\"\n",
    "def make_random_ints_no_dups(num, lower_bound, upper_bound):\n",
    "    \"\"\"\n",
    "     Generate a list containing num random ints between\n",
    "     lower_bound and upper_bound. upper_bound is an open bound.\n",
    "     The result list cannot contain duplicates.\n",
    "    \"\"\"\n",
    "    result = []\n",
    "    rng = random.Random()\n",
    "    while len(result) < num:\n",
    "        candidate = rng.randrange(lower_bound, upper_bound)\n",
    "        if candidate in result:\n",
    "            continue\n",
    "        result.append(candidate)\n",
    "    return result\n",
    "\n",
    "make_random_ints_no_dups(5, 1, 1000)\n",
    "\"\"\""
   ]
  },
  {
   "cell_type": "markdown",
   "metadata": {},
   "source": [
    "This method is okay but still has some problems. \n",
    "\n",
    "Can you see what's going to happen in the next case?"
   ]
  },
  {
   "cell_type": "code",
   "execution_count": null,
   "metadata": {
    "collapsed": false
   },
   "outputs": [],
   "source": [
    "xs = make_random_ints_no_dups(10, 1, 6) # Yikes!"
   ]
  },
  {
   "cell_type": "markdown",
   "metadata": {},
   "source": [
    "# The time module\n",
    "\n",
    "## Looking at code efficiency"
   ]
  },
  {
   "cell_type": "code",
   "execution_count": 61,
   "metadata": {
    "collapsed": false
   },
   "outputs": [
    {
     "name": "stdout",
     "output_type": "stream",
     "text": [
      "hi\n",
      "0.00015378399984911084\n"
     ]
    }
   ],
   "source": [
    "from timeit import default_timer as timer\n",
    "\n",
    "t1 = timer()\n",
    "print(\"hi\")\n",
    "t2 = timer()\n",
    "\n",
    "print(t2 - t1)"
   ]
  },
  {
   "cell_type": "code",
   "execution_count": 62,
   "metadata": {
    "collapsed": false
   },
   "outputs": [
    {
     "name": "stdout",
     "output_type": "stream",
     "text": [
      "my_result    = 49999995000000 (time taken = 1.0098 seconds)\n",
      "their_result = 49999995000000 (time taken = 0.3839 seconds)\n"
     ]
    }
   ],
   "source": [
    "from timeit import default_timer as timer\n",
    "\n",
    "def do_my_sum(xs):\n",
    "    sum = 0\n",
    "    for v in xs:\n",
    "        sum += v\n",
    "    return sum\n",
    "\n",
    "sz = 10000000        # Lets have 10 million elements in the list\n",
    "testdata = range(sz)\n",
    "\n",
    "t0 = timer()\n",
    "my_result = do_my_sum(testdata)\n",
    "t1 = timer()\n",
    "print(\"my_result    = {0} (time taken = {1:.4f} seconds)\"\n",
    "        .format(my_result, t1-t0))\n",
    "\n",
    "t2 = timer()\n",
    "their_result = sum(testdata)\n",
    "t3 = timer()\n",
    "print(\"their_result = {0} (time taken = {1:.4f} seconds)\"\n",
    "        .format(their_result, t3-t2))"
   ]
  },
  {
   "cell_type": "code",
   "execution_count": null,
   "metadata": {
    "collapsed": true
   },
   "outputs": [],
   "source": [
    "\n",
    "def do_my_sum(xs):\n",
    "    sum = 0\n",
    "    for v in xs:\n",
    "        sum += v\n",
    "    return sum\n",
    "\n",
    "sz = 10000000        # Lets have 10 million elements in the list\n",
    "testdata = range(sz)"
   ]
  },
  {
   "cell_type": "code",
   "execution_count": 63,
   "metadata": {
    "collapsed": false
   },
   "outputs": [
    {
     "name": "stdout",
     "output_type": "stream",
     "text": [
      "1 loops, best of 3: 962 ms per loop\n"
     ]
    }
   ],
   "source": [
    "%%timeit\n",
    "\n",
    "my_result = do_my_sum(testdata)"
   ]
  },
  {
   "cell_type": "code",
   "execution_count": 64,
   "metadata": {
    "collapsed": false
   },
   "outputs": [
    {
     "name": "stdout",
     "output_type": "stream",
     "text": [
      "1 loops, best of 3: 364 ms per loop\n"
     ]
    }
   ],
   "source": [
    "%%timeit\n",
    "\n",
    "their_result = sum(testdata)"
   ]
  },
  {
   "cell_type": "markdown",
   "metadata": {},
   "source": [
    "### Creating your own modules\n",
    "\n",
    "* Save as a script and import!\n",
    "* The __init__.py file.\n",
    "\n",
    "### Namespaces\n",
    "\n",
    "* Each function, script, system has its own namespace.\n",
    "\n",
    "### Scope and lookup rules\n",
    "\n",
    "* The scope of an identifier is the region of program code in which the identifier can be accessed, or used.\n",
    "\n",
    "There are three important scopes in Python:\n",
    "\n",
    "* **Local scope** refers to identifiers declared within a function. These identifiers are kept in the namespace that belongs to the function, and each function has its own namespace.\n",
    "* **Global scope** refers to all the identifiers declared within the current module, or file.\n",
    "* **Built-in scope** refers to all the identifiers built into Python — those like range and min that can be used without having to import anything, and are (almost) always available.\n",
    "\n",
    "Python (like most other computer languages) uses precedence rules: the same name could occur in more than one of these scopes, but the innermost, or local scope, will always take precedence over the global scope, and the global scope always gets used in preference to the built-in scope. Let’s start with a simple example:"
   ]
  },
  {
   "cell_type": "code",
   "execution_count": 65,
   "metadata": {
    "collapsed": false
   },
   "outputs": [
    {
     "name": "stdout",
     "output_type": "stream",
     "text": [
      "1230\n"
     ]
    }
   ],
   "source": [
    "def range(n): \n",
    "    return 123*n\n",
    "\n",
    "print(range(10)) # What will this print?"
   ]
  },
  {
   "cell_type": "code",
   "execution_count": 66,
   "metadata": {
    "collapsed": false
   },
   "outputs": [
    {
     "name": "stdout",
     "output_type": "stream",
     "text": [
      "17 10 3\n"
     ]
    }
   ],
   "source": [
    "n = 10\n",
    "m = 3\n",
    "def f(n):\n",
    "    m = 7\n",
    "    return 2*n+m\n",
    "\n",
    "print(f(5), n, m) # What about this one?"
   ]
  },
  {
   "cell_type": "markdown",
   "metadata": {},
   "source": [
    "Now we know why we use a return in our functions: to pass between namespaces!"
   ]
  },
  {
   "cell_type": "markdown",
   "metadata": {},
   "source": [
    "### Attributes and the dot operator\n",
    "\n",
    "Variables defined inside a module are called attributes of the module. We’ve seen that objects have attributes too: for example, most objects have a __doc__ attribute, some functions have a __annotations__ attribute. Attributes are accessed using the dot operator (.). \n",
    "\n",
    "### Three import statement variants"
   ]
  },
  {
   "cell_type": "code",
   "execution_count": null,
   "metadata": {
    "collapsed": true
   },
   "outputs": [],
   "source": [
    "import math\n",
    "x = math.sqrt(10)"
   ]
  },
  {
   "cell_type": "code",
   "execution_count": null,
   "metadata": {
    "collapsed": false
   },
   "outputs": [],
   "source": [
    "from math import cos, sin, sqrt\n",
    "x = sqrt(10)"
   ]
  },
  {
   "cell_type": "code",
   "execution_count": null,
   "metadata": {
    "collapsed": true
   },
   "outputs": [],
   "source": [
    "from math import *   # Import all the identifiers from math,\n",
    "                     #   adding them to the current namespace.\n",
    "x = sqrt(10)         # Use them without qualification."
   ]
  },
  {
   "cell_type": "code",
   "execution_count": null,
   "metadata": {
    "collapsed": true
   },
   "outputs": [],
   "source": [
    "# Here's a freebie since I like you guys\n",
    "import math as m\n",
    "m.pi\n"
   ]
  },
  {
   "cell_type": "code",
   "execution_count": null,
   "metadata": {
    "collapsed": true
   },
   "outputs": [],
   "source": [
    "def area(radius):\n",
    "    import math\n",
    "    return math.pi * radius * radius\n",
    "\n",
    "x = math.sqrt(10)      # This gives an error"
   ]
  },
  {
   "cell_type": "markdown",
   "metadata": {},
   "source": [
    "# Exercises:\n",
    "\n",
    "1. Open help for the calendar module.\n",
    "\n",
    "  * Try the following:\n",
    "```\n",
    "import calendar\n",
    "cal = calendar.TextCalendar()      # Create an instance\n",
    "cal.pryear(2012)                   # What happens here?\n",
    "```\n",
    "  * Observe that the week starts on Monday. An adventurous CompSci student believes that it is better mental chunking to have his week start on Thursday, because then there are only two working days to the weekend, and every week has a break in the middle. Read the documentation for TextCalendar, and see how you can help him print a calendar that suits his needs.\n",
    "\n",
    "  * Find a function to print just the month in which your birthday occurs this year.\n",
    "  * Try this:\n",
    "```\n",
    "d = calendar.LocaleTextCalendar(6, \"SPANISH\")\n",
    "d.pryear(2012)\n",
    "```\n",
    "  * Try a few other languages, including one that doesn’t work, and see what happens.\n",
    "  * Experiment with calendar.isleap. What does it expect as an argument? What does it return as a result? What kind of a function is this?\n",
    "\n",
    "* Make detailed notes about what you learned from these exercises.\n",
    "* Open help for the math module.\n",
    "* How many functions are in the math module?\n",
    "* What does math.ceil do? What about math.floor? (hint: both floor and ceil expect floating point arguments.)\n",
    "* Describe how we have been computing the same value as math.sqrt without using the math module.\n",
    "* What are the two data constants in the math module?\n",
    "* Record detailed notes of your investigation in this exercise.\n",
    "* Investigate the copy module. What does deepcopy do? In which exercises from last chapter would deepcopy have come in handy?\n",
    "* Create a module named mymodule1.py. Add attributes myage set to your current age, and year set to the current year. Create another module named mymodule2.py. Add attributes myage set to 0, and year set to the year you were born. Now create a file named namespace_test.py. Import both of the modules above and write the following statement:\n",
    "```\n",
    "print( (mymodule2.myage - mymodule1.myage) ==\n",
    "       (mymodule2.year - mymodule1.year)  )\n",
    "```\n",
    "* When you will run namespace_test.py you will see either True or False as output depending on whether or not you’ve already had your birthday this year.\n",
    "\n",
    "* What this example illustrates is that out different modules can both have attributes named myage and year. Because they’re in different namespaces, they don’t clash with one another. When we write namespace_test.py, we fully qualify exactly which variable year or myage we are referring to.\n",
    "\n",
    "* Add the following statement to mymodule1.py, mymodule2.py, and namespace_test.py from the previous exercise:\n",
    "```\n",
    "print(\"My name is\", __name__)\n",
    "```\n",
    "* Run namespace_test.py. What happens? Why? Now add the following to the bottom of mymodule1.py:\n",
    "```\n",
    "if __name__ == \"__main__\":\n",
    "    print(\"This won't run if I'm  imported.\")\n",
    "```\n",
    "* Run mymodule1.py and namespace_test.py again. In which case do you see the new print statement?\n",
    "In a Python shell / interactive interpreter, try the following:\n",
    "```\n",
    ">>> import this\n",
    "What does Tim Peters have to say about namespaces?\n",
    "Give the Python interpreter’s response to each of the following from a continuous interpreter session:\n",
    ">>> s = \"If we took the bones out, it wouldn't be crunchy, would it?\"\n",
    ">>> s.split()\n",
    ">>> type(s.split())\n",
    ">>> s.split(\"o\")\n",
    ">>> s.split(\"i\")\n",
    ">>> \"0\".join(s.split(\"o\"))\n",
    "```\n",
    "Be sure you understand why you get each result. Then apply what you have learned to fill in the body of the function below using the split and join methods of str objects:\n",
    "```\n",
    "def myreplace(old, new, s):\n",
    "    \"\"\" Replace all occurrences of old with new in s. \"\"\"\n",
    "    ...\n",
    "\n",
    "\n",
    "assert myreplace(\",\", \";\", \"this, that, and some other thing\") ==\n",
    "                         \"this; that; and some other thing\")\n",
    "assert myreplace(\" \", \"**\",\n",
    "                 \"Words will now      be  separated by stars.\") ==\n",
    "                 \"Words**will**now**be**separated**by**stars.\")\n",
    "```\n",
    "Your solution should pass the tests."
   ]
  }
 ],
 "metadata": {
  "kernelspec": {
   "display_name": "Python 3",
   "language": "python",
   "name": "python3"
  },
  "language_info": {
   "codemirror_mode": {
    "name": "ipython",
    "version": 3
   },
   "file_extension": ".py",
   "mimetype": "text/x-python",
   "name": "python",
   "nbconvert_exporter": "python",
   "pygments_lexer": "ipython3",
   "version": "3.5.0"
  }
 },
 "nbformat": 4,
 "nbformat_minor": 0
}
