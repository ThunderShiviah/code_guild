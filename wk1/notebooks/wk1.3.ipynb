{
 "cells": [
  {
   "cell_type": "markdown",
   "metadata": {},
   "source": [
    "# wk1.3\n",
    "\n",
    "# warm - up\n",
    "\n",
    "* Create a dictionary called numbers with the keys 'one', 'two', 'three', and associated values 1, 2, 3 three different ways."
   ]
  },
  {
   "cell_type": "code",
   "execution_count": 7,
   "metadata": {
    "collapsed": false
   },
   "outputs": [
    {
     "data": {
      "text/plain": [
       "True"
      ]
     },
     "execution_count": 7,
     "metadata": {},
     "output_type": "execute_result"
    }
   ],
   "source": [
    "a = {'one':1, 'two':2, 'three': 3}\n",
    "b = dict(one=1, two=2, three= 3)\n",
    "c = dict(zip(['one', 'two', 'three'], [1, 2, 3]))\n",
    "a == b == c\n"
   ]
  },
  {
   "cell_type": "markdown",
   "metadata": {},
   "source": [
    "* Get the value from the dictionary for key 'one'."
   ]
  },
  {
   "cell_type": "code",
   "execution_count": 8,
   "metadata": {
    "collapsed": false
   },
   "outputs": [
    {
     "data": {
      "text/plain": [
       "1"
      ]
     },
     "execution_count": 8,
     "metadata": {},
     "output_type": "execute_result"
    }
   ],
   "source": [
    "a['one'] "
   ]
  },
  {
   "cell_type": "markdown",
   "metadata": {},
   "source": [
    "* Update the value for key 'two' to 'dos'"
   ]
  },
  {
   "cell_type": "code",
   "execution_count": 11,
   "metadata": {
    "collapsed": false
   },
   "outputs": [
    {
     "data": {
      "text/plain": [
       "{'one': 1, 'three': 3, 'two': 'dos'}"
      ]
     },
     "execution_count": 11,
     "metadata": {},
     "output_type": "execute_result"
    }
   ],
   "source": [
    "a['two'] = 'dos'\n",
    "a"
   ]
  },
  {
   "cell_type": "markdown",
   "metadata": {},
   "source": [
    "* Add a new key value pair for 'four'/4"
   ]
  },
  {
   "cell_type": "code",
   "execution_count": 12,
   "metadata": {
    "collapsed": false
   },
   "outputs": [
    {
     "data": {
      "text/plain": [
       "{'four': 4, 'one': 1, 'three': 3, 'two': 'dos'}"
      ]
     },
     "execution_count": 12,
     "metadata": {},
     "output_type": "execute_result"
    }
   ],
   "source": [
    "a['four'] = 4\n",
    "a"
   ]
  },
  {
   "cell_type": "markdown",
   "metadata": {},
   "source": [
    "* delete the key value pair 'one'/1"
   ]
  },
  {
   "cell_type": "code",
   "execution_count": 13,
   "metadata": {
    "collapsed": false
   },
   "outputs": [
    {
     "data": {
      "text/plain": [
       "{'four': 4, 'three': 3, 'two': 'dos'}"
      ]
     },
     "execution_count": 13,
     "metadata": {},
     "output_type": "execute_result"
    }
   ],
   "source": [
    "del a['one']\n",
    "a"
   ]
  },
  {
   "cell_type": "markdown",
   "metadata": {},
   "source": [
    "* iterate over all the keys using a for loop"
   ]
  },
  {
   "cell_type": "code",
   "execution_count": 16,
   "metadata": {
    "collapsed": false
   },
   "outputs": [
    {
     "name": "stdout",
     "output_type": "stream",
     "text": [
      "three\n",
      "four\n",
      "two\n",
      "three\n",
      "four\n",
      "two\n"
     ]
    }
   ],
   "source": [
    "for k in a.keys():\n",
    "    print(k)\n",
    "    \n",
    "for k in a:\n",
    "    print(k)"
   ]
  },
  {
   "cell_type": "markdown",
   "metadata": {},
   "source": [
    "* iterate over all the values using a for loop"
   ]
  },
  {
   "cell_type": "code",
   "execution_count": 19,
   "metadata": {
    "collapsed": false
   },
   "outputs": [
    {
     "name": "stdout",
     "output_type": "stream",
     "text": [
      "3\n",
      "4\n",
      "dos\n",
      "\n",
      "3\n",
      "4\n",
      "dos\n",
      "\n",
      "3\n",
      "4\n",
      "dos\n"
     ]
    }
   ],
   "source": [
    "for k in a:\n",
    "    print(a[k])\n",
    "    \n",
    "print()\n",
    "\n",
    "for val in a.values():\n",
    "    print(val)\n",
    "    \n",
    "print()\n",
    "\n",
    "for k, val in a.items():\n",
    "    print(val)"
   ]
  },
  {
   "cell_type": "markdown",
   "metadata": {},
   "source": [
    "* iterate over all the key/value pairs (as a tuple) with a for loop (two different ways)"
   ]
  },
  {
   "cell_type": "code",
   "execution_count": 23,
   "metadata": {
    "collapsed": false
   },
   "outputs": [
    {
     "name": "stdout",
     "output_type": "stream",
     "text": [
      "('three', 3)\n",
      "('four', 4)\n",
      "('two', 'dos')\n",
      "\n",
      "('three', 3)\n",
      "('four', 4)\n",
      "('two', 'dos')\n",
      "\n",
      "('three', 3)\n",
      "('four', 4)\n",
      "('two', 'dos')\n"
     ]
    }
   ],
   "source": [
    "for k, val in a.items():\n",
    "    print((k, val))\n",
    "    \n",
    "print()\n",
    "\n",
    "for k in a:\n",
    "    print((k, a[k]))\n",
    "\n",
    "print()\n",
    "\n",
    "for elem in a.items():\n",
    "    print(elem)"
   ]
  },
  {
   "cell_type": "markdown",
   "metadata": {},
   "source": [
    "* Dictionary keys can be mutable (True/False?).\n",
    "* Dictionary values can be mutable (True/False?).\n",
    "* Dictionaries are an example of a homogeneous datatype (True/False?).\n",
    "* Looking up a value in a list is generally faster than looking up a value in a dictionary (True/False?).\n",
    "* Suppose I set dict2 = numbers. If I change dict2 will numbers stay the same? Why or why not?"
   ]
  },
  {
   "cell_type": "code",
   "execution_count": 36,
   "metadata": {
    "collapsed": false
   },
   "outputs": [
    {
     "data": {
      "text/plain": [
       "()"
      ]
     },
     "execution_count": 36,
     "metadata": {},
     "output_type": "execute_result"
    }
   ],
   "source": [
    "# Aliasing\n",
    "a = {}\n",
    "b = a\n",
    "b['hi'] = 1\n",
    "b\n",
    "\n",
    "# Copy\n",
    "a = {}\n",
    "b = a.copy()\n",
    "b['hi'] = 1\n",
    "b\n",
    "\n",
    "# Aliasing\n",
    "a = []\n",
    "b = a\n",
    "b.append(1)\n",
    "b\n",
    "\n",
    "# copy\n",
    "a = []\n",
    "b = a[:]\n",
    "b.append(1)\n",
    "a\n",
    "\n",
    "# copy\n",
    "a = []\n",
    "b = a.copy()\n",
    "b.append(1)\n",
    "a\n",
    "\n",
    "# Immutable datastructures (ex. tuples) can't be updated so no way to alias.\n",
    "a = ()\n",
    "b = a\n",
    "b = b + (1,)\n",
    "a"
   ]
  },
  {
   "cell_type": "markdown",
   "metadata": {},
   "source": [
    "# Morning activity: pair code review\n",
    "\n",
    "Pair up with another group and review each others code.\n",
    "\n",
    "## Grading\n",
    "\n",
    ">35 points possible\n",
    "15: Program runs and consistently produces correct output. \n",
    "\n",
    ">5 point penalty for any of the following:\n",
    "\n",
    ">* Test cases running in addition to program functionality. (You need to 'comment out' any 'test' print statements for your final testing and turn-in.)\n",
    "* Incorrect or missing counts of emails or dates.\n",
    "* Other extra output, missing output, or output formatted differently than the examples above.\n",
    "* 10: Follows PEP8 coding guidelines, including author identification and header.\n",
    "* 10: Clarity. The program should not only be consistent with the requirements and approach described here, but it should be very easy to read the program and verify its consistency with the spec.\n",
    "\n",
    "# Afternoon\n",
    "\n",
    "# a word on namespaces\n",
    "# Some tips on file i/o\n",
    "# Next pair project: Jumbler"
   ]
  },
  {
   "cell_type": "markdown",
   "metadata": {
    "collapsed": true
   },
   "source": [
    "# Github\n"
   ]
  },
  {
   "cell_type": "code",
   "execution_count": null,
   "metadata": {
    "collapsed": true
   },
   "outputs": [],
   "source": []
  }
 ],
 "metadata": {
  "kernelspec": {
   "display_name": "Python 3",
   "language": "python",
   "name": "python3"
  },
  "language_info": {
   "codemirror_mode": {
    "name": "ipython",
    "version": 3
   },
   "file_extension": ".py",
   "mimetype": "text/x-python",
   "name": "python",
   "nbconvert_exporter": "python",
   "pygments_lexer": "ipython3",
   "version": "3.5.0"
  }
 },
 "nbformat": 4,
 "nbformat_minor": 0
}
